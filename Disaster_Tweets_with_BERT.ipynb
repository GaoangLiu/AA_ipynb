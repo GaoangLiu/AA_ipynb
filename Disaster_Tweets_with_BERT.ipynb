{
  "nbformat": 4,
  "nbformat_minor": 0,
  "metadata": {
    "colab": {
      "name": "Disaster Tweets with BERT.ipynb",
      "provenance": [],
      "collapsed_sections": [],
      "machine_shape": "hm",
      "authorship_tag": "ABX9TyN+VXGSvtbcdEY6oeV+nggQ",
      "include_colab_link": true
    },
    "kernelspec": {
      "name": "python3",
      "display_name": "Python 3"
    },
    "accelerator": "GPU"
  },
  "cells": [
    {
      "cell_type": "markdown",
      "metadata": {
        "id": "view-in-github",
        "colab_type": "text"
      },
      "source": [
        "<a href=\"https://colab.research.google.com/github/GaoangLiu/AA_ipynb/blob/master/Disaster_Tweets_with_BERT.ipynb\" target=\"_parent\"><img src=\"https://colab.research.google.com/assets/colab-badge.svg\" alt=\"Open In Colab\"/></a>"
      ]
    },
    {
      "cell_type": "markdown",
      "metadata": {
        "id": "nSTNLQfY7AEP",
        "colab_type": "text"
      },
      "source": [
        "# Description \n",
        "This is a notebook on how to use pretrained BERT models to predict real or fake disaster tweets. \n"
      ]
    },
    {
      "cell_type": "code",
      "metadata": {
        "id": "iqchmiGy6g6S",
        "colab_type": "code",
        "colab": {
          "base_uri": "https://localhost:8080/",
          "height": 544
        },
        "outputId": "8958d36d-3527-432e-ab67-94ed058fa81a"
      },
      "source": [
        "!rm *\n",
        "!wget --quiet https://raw.githubusercontent.com/tensorflow/models/master/official/nlp/bert/tokenization.py\n",
        "!pip install sentencepiece\n",
        "!wget -O tweets.zip ali.140714.xyz:8000/nlp-getting-started.zip \n",
        "!unzip tweets.zip \n",
        "!ls\n",
        "!wget -O labels.csv ali.140714.xyz:8000/leaked_tweet_labels.csv"
      ],
      "execution_count": 24,
      "outputs": [
        {
          "output_type": "stream",
          "text": [
            "rm: cannot remove '__pycache__': Is a directory\n",
            "rm: cannot remove 'sample_data': Is a directory\n",
            "Requirement already satisfied: sentencepiece in /usr/local/lib/python3.6/dist-packages (0.1.90)\n",
            "--2020-05-21 02:17:34--  http://ali.140714.xyz:8000/nlp-getting-started.zip\n",
            "Resolving ali.140714.xyz (ali.140714.xyz)... 47.240.16.188\n",
            "Connecting to ali.140714.xyz (ali.140714.xyz)|47.240.16.188|:8000... connected.\n",
            "HTTP request sent, awaiting response... 200 OK\n",
            "Length: 607343 (593K) [application/zip]\n",
            "Saving to: ‘tweets.zip’\n",
            "\n",
            "tweets.zip          100%[===================>] 593.11K  --.-KB/s    in 0.07s   \n",
            "\n",
            "2020-05-21 02:17:35 (8.45 MB/s) - ‘tweets.zip’ saved [607343/607343]\n",
            "\n",
            "Archive:  tweets.zip\n",
            "  inflating: sample_submission.csv   \n",
            "  inflating: test.csv                \n",
            "  inflating: train.csv               \n",
            "__pycache__  sample_submission.csv  tokenization.py  tweets.zip\n",
            "sample_data  test.csv\t\t    train.csv\n",
            "--2020-05-21 02:17:55--  http://ali.140714.xyz:8000/leaked_tweet_labels.csv\n",
            "Resolving ali.140714.xyz (ali.140714.xyz)... 47.240.16.188\n",
            "Connecting to ali.140714.xyz (ali.140714.xyz)|47.240.16.188|:8000... connected.\n",
            "HTTP request sent, awaiting response... 200 OK\n",
            "Length: 22746 (22K) [text/csv]\n",
            "Saving to: ‘labels.csv’\n",
            "\n",
            "labels.csv          100%[===================>]  22.21K  --.-KB/s    in 0.01s   \n",
            "\n",
            "2020-05-21 02:17:55 (1.65 MB/s) - ‘labels.csv’ saved [22746/22746]\n",
            "\n"
          ],
          "name": "stdout"
        }
      ]
    },
    {
      "cell_type": "code",
      "metadata": {
        "id": "L9n-2pRL6kJF",
        "colab_type": "code",
        "colab": {}
      },
      "source": [
        "# !pip install sentencepiece\n",
        "import numpy as np\n",
        "import pandas as pd\n",
        "import tensorflow as tf\n",
        "import tensorflow_hub as hub"
      ],
      "execution_count": 0,
      "outputs": []
    },
    {
      "cell_type": "markdown",
      "metadata": {
        "id": "KhJOlbwp7iB7",
        "colab_type": "text"
      },
      "source": [
        "# Load data"
      ]
    },
    {
      "cell_type": "code",
      "metadata": {
        "id": "24aXxVUB6liV",
        "colab_type": "code",
        "colab": {}
      },
      "source": [
        "train = pd.read_csv('train.csv')\n",
        "test = pd.read_csv('test.csv')\n",
        "sub = pd.read_csv('sample_submission.csv')"
      ],
      "execution_count": 0,
      "outputs": []
    },
    {
      "cell_type": "code",
      "metadata": {
        "id": "x0SNfHLb6m2B",
        "colab_type": "code",
        "colab": {
          "base_uri": "https://localhost:8080/",
          "height": 51
        },
        "outputId": "42d2a145-88b2-43a3-ffb0-b62125489fb5"
      },
      "source": [
        "%%time\n",
        "import tensorflow_hub as hub \n",
        "import tokenization\n",
        "module_url = \"https://tfhub.dev/tensorflow/bert_en_uncased_L-24_H-1024_A-16/1\"\n",
        "module_url = 'https://tfhub.dev/tensorflow/bert_en_uncased_L-12_H-768_A-12/2'\n",
        "bert_layer = hub.KerasLayer(module_url, trainable=True)\n",
        "# bert_m = hub.Module(\n",
        "#     \"https://tfhub.dev/google/bert_cased_L-24_H-1024_A-16/1\",\n",
        "#     trainable=True, tags={\"train\"})"
      ],
      "execution_count": 27,
      "outputs": [
        {
          "output_type": "stream",
          "text": [
            "CPU times: user 4.08 s, sys: 551 ms, total: 4.63 s\n",
            "Wall time: 4.56 s\n"
          ],
          "name": "stdout"
        }
      ]
    },
    {
      "cell_type": "code",
      "metadata": {
        "id": "ACTD7Qhk6o_A",
        "colab_type": "code",
        "colab": {}
      },
      "source": [
        "vocab_file = bert_layer.resolved_object.vocab_file.asset_path.numpy()\n",
        "do_lower_case = bert_layer.resolved_object.do_lower_case.numpy()\n",
        "tokenizer = tokenization.FullTokenizer(vocab_file, do_lower_case)\n",
        "\n",
        "def bert_encode(texts, tokenizer, max_len=512):\n",
        "    all_tokens = []\n",
        "    all_masks = []\n",
        "    all_segments = []\n",
        "    \n",
        "    for text in texts:\n",
        "        text = tokenizer.tokenize(text)\n",
        "            \n",
        "        text = text[:max_len-2]\n",
        "        input_sequence = [\"[CLS]\"] + text + [\"[SEP]\"]\n",
        "        pad_len = max_len - len(input_sequence)\n",
        "        \n",
        "        tokens = tokenizer.convert_tokens_to_ids(input_sequence)\n",
        "        tokens += [0] * pad_len\n",
        "        pad_masks = [1] * len(input_sequence) + [0] * pad_len\n",
        "        segment_ids = [0] * max_len\n",
        "        \n",
        "        all_tokens.append(tokens)\n",
        "        all_masks.append(pad_masks)\n",
        "        all_segments.append(segment_ids)\n",
        "    \n",
        "    return np.array(all_tokens), np.array(all_masks), np.array(all_segments)\n",
        "\n",
        "def build_model(bert_layer, max_len=512):\n",
        "    input_word_ids = tf.keras.Input(shape=(max_len,), dtype=tf.int32, name=\"input_word_ids\")\n",
        "    input_mask = Input(shape=(max_len,), dtype=tf.int32, name=\"input_mask\")\n",
        "    segment_ids = Input(shape=(max_len,), dtype=tf.int32, name=\"segment_ids\")\n",
        "\n",
        "    pooled_output, sequence_output = bert_layer([input_word_ids, input_mask, segment_ids])\n",
        "    clf_output = sequence_output[:, 0, :]\n",
        "    net = Dense(64, activation='relu')(clf_output)\n",
        "    net = tf.keras.layers.Dropout(0.2)(net)\n",
        "    net = Dense(32, activation='relu')(net)\n",
        "    net = tf.keras.layers.Dropout(0.2)(net)\n",
        "    out = Dense(1, activation='sigmoid')(net)\n",
        "    \n",
        "    model = Model(inputs=[input_word_ids, input_mask, segment_ids], outputs=out)\n",
        "    model.compile(Adam(lr=1e-5), loss='binary_crossentropy', metrics=['accuracy'])\n",
        "    \n",
        "    return model"
      ],
      "execution_count": 0,
      "outputs": []
    },
    {
      "cell_type": "code",
      "metadata": {
        "id": "bpXxwXQg6rYb",
        "colab_type": "code",
        "colab": {}
      },
      "source": [
        "max_len = 120\n",
        "train_input = bert_encode(train.text.values, tokenizer, max_len=max_len)\n",
        "test_input = bert_encode(test.text.values, tokenizer, max_len=max_len)\n",
        "train_labels = train.target.values"
      ],
      "execution_count": 0,
      "outputs": []
    },
    {
      "cell_type": "code",
      "metadata": {
        "id": "Zxcv4GVr6s1g",
        "colab_type": "code",
        "colab": {
          "base_uri": "https://localhost:8080/",
          "height": 527
        },
        "outputId": "0ed51b2d-833e-462a-f09d-9678b28764fa"
      },
      "source": [
        "model = build_model(bert_layer, max_len=max_len)\n",
        "model.summary()"
      ],
      "execution_count": 30,
      "outputs": [
        {
          "output_type": "stream",
          "text": [
            "Model: \"model_2\"\n",
            "__________________________________________________________________________________________________\n",
            "Layer (type)                    Output Shape         Param #     Connected to                     \n",
            "==================================================================================================\n",
            "input_word_ids (InputLayer)     [(None, 120)]        0                                            \n",
            "__________________________________________________________________________________________________\n",
            "input_mask (InputLayer)         [(None, 120)]        0                                            \n",
            "__________________________________________________________________________________________________\n",
            "segment_ids (InputLayer)        [(None, 120)]        0                                            \n",
            "__________________________________________________________________________________________________\n",
            "keras_layer_4 (KerasLayer)      [(None, 768), (None, 109482241   input_word_ids[0][0]             \n",
            "                                                                 input_mask[0][0]                 \n",
            "                                                                 segment_ids[0][0]                \n",
            "__________________________________________________________________________________________________\n",
            "tf_op_layer_strided_slice_2 (Te [(None, 768)]        0           keras_layer_4[0][1]              \n",
            "__________________________________________________________________________________________________\n",
            "dense_4 (Dense)                 (None, 64)           49216       tf_op_layer_strided_slice_2[0][0]\n",
            "__________________________________________________________________________________________________\n",
            "dropout_2 (Dropout)             (None, 64)           0           dense_4[0][0]                    \n",
            "__________________________________________________________________________________________________\n",
            "dense_5 (Dense)                 (None, 32)           2080        dropout_2[0][0]                  \n",
            "__________________________________________________________________________________________________\n",
            "dropout_3 (Dropout)             (None, 32)           0           dense_5[0][0]                    \n",
            "__________________________________________________________________________________________________\n",
            "dense_6 (Dense)                 (None, 1)            33          dropout_3[0][0]                  \n",
            "==================================================================================================\n",
            "Total params: 109,533,570\n",
            "Trainable params: 109,533,569\n",
            "Non-trainable params: 1\n",
            "__________________________________________________________________________________________________\n"
          ],
          "name": "stdout"
        }
      ]
    },
    {
      "cell_type": "code",
      "metadata": {
        "id": "vOd8eonw6uDK",
        "colab_type": "code",
        "colab": {
          "base_uri": "https://localhost:8080/",
          "height": 680
        },
        "outputId": "dcc5e681-cc0b-405b-d0a7-e1fca1629add"
      },
      "source": [
        "%%time\n",
        "checkpoint = tf.keras.callbacks.ModelCheckpoint('model.h5', monitor='val_accuracy', save_best_only=True, verbose=1)\n",
        "earlystopping = tf.keras.callbacks.EarlyStopping(monitor='val_accuracy', patience=5, verbose=1)\n",
        "\n",
        "train_history = model.fit(\n",
        "    train_input, train_labels, \n",
        "    validation_split=0.2,\n",
        "    epochs=30,\n",
        "    callbacks=[checkpoint, earlystopping],\n",
        "    batch_size=16,\n",
        "    verbose=1\n",
        ")"
      ],
      "execution_count": 31,
      "outputs": [
        {
          "output_type": "stream",
          "text": [
            "Epoch 1/30\n",
            "381/381 [==============================] - ETA: 0s - loss: 0.4838 - accuracy: 0.7757\n",
            "Epoch 00001: val_accuracy improved from -inf to 0.83979, saving model to model.h5\n",
            "381/381 [==============================] - 102s 267ms/step - loss: 0.4838 - accuracy: 0.7757 - val_loss: 0.3747 - val_accuracy: 0.8398\n",
            "Epoch 2/30\n",
            "381/381 [==============================] - ETA: 0s - loss: 0.3619 - accuracy: 0.8553\n",
            "Epoch 00002: val_accuracy did not improve from 0.83979\n",
            "381/381 [==============================] - 96s 253ms/step - loss: 0.3619 - accuracy: 0.8553 - val_loss: 0.4158 - val_accuracy: 0.8260\n",
            "Epoch 3/30\n",
            "381/381 [==============================] - ETA: 0s - loss: 0.3091 - accuracy: 0.8849\n",
            "Epoch 00003: val_accuracy improved from 0.83979 to 0.84045, saving model to model.h5\n",
            "381/381 [==============================] - 101s 266ms/step - loss: 0.3091 - accuracy: 0.8849 - val_loss: 0.3725 - val_accuracy: 0.8404\n",
            "Epoch 4/30\n",
            "381/381 [==============================] - ETA: 0s - loss: 0.2414 - accuracy: 0.9112\n",
            "Epoch 00004: val_accuracy improved from 0.84045 to 0.84242, saving model to model.h5\n",
            "381/381 [==============================] - 101s 266ms/step - loss: 0.2414 - accuracy: 0.9112 - val_loss: 0.4257 - val_accuracy: 0.8424\n",
            "Epoch 5/30\n",
            "381/381 [==============================] - ETA: 0s - loss: 0.1931 - accuracy: 0.9274\n",
            "Epoch 00005: val_accuracy did not improve from 0.84242\n",
            "381/381 [==============================] - 96s 253ms/step - loss: 0.1931 - accuracy: 0.9274 - val_loss: 0.5282 - val_accuracy: 0.8345\n",
            "Epoch 6/30\n",
            "381/381 [==============================] - ETA: 0s - loss: 0.1463 - accuracy: 0.9475\n",
            "Epoch 00006: val_accuracy did not improve from 0.84242\n",
            "381/381 [==============================] - 96s 253ms/step - loss: 0.1463 - accuracy: 0.9475 - val_loss: 0.5400 - val_accuracy: 0.8332\n",
            "Epoch 7/30\n",
            "381/381 [==============================] - ETA: 0s - loss: 0.1082 - accuracy: 0.9581\n",
            "Epoch 00007: val_accuracy did not improve from 0.84242\n",
            "381/381 [==============================] - 96s 253ms/step - loss: 0.1082 - accuracy: 0.9581 - val_loss: 0.9273 - val_accuracy: 0.8017\n",
            "Epoch 8/30\n",
            "381/381 [==============================] - ETA: 0s - loss: 0.1063 - accuracy: 0.9603\n",
            "Epoch 00008: val_accuracy did not improve from 0.84242\n",
            "381/381 [==============================] - 96s 253ms/step - loss: 0.1063 - accuracy: 0.9603 - val_loss: 0.7733 - val_accuracy: 0.8247\n",
            "Epoch 9/30\n",
            "381/381 [==============================] - ETA: 0s - loss: 0.0804 - accuracy: 0.9681\n",
            "Epoch 00009: val_accuracy did not improve from 0.84242\n",
            "381/381 [==============================] - 96s 252ms/step - loss: 0.0804 - accuracy: 0.9681 - val_loss: 0.8593 - val_accuracy: 0.7978\n",
            "Epoch 00009: early stopping\n",
            "CPU times: user 7min 59s, sys: 3min 32s, total: 11min 32s\n",
            "Wall time: 14min 56s\n"
          ],
          "name": "stdout"
        }
      ]
    },
    {
      "cell_type": "markdown",
      "metadata": {
        "id": "Dv5MhZvQ-cfb",
        "colab_type": "text"
      },
      "source": [
        "Make predictions and submit results.\n",
        "\n",
        "## Observations\n",
        "1. model overfits quickly, `train_accuracy` reaches 0.9204 in 4 epochs, while `val_accuracy` is dropping "
      ]
    },
    {
      "cell_type": "code",
      "metadata": {
        "id": "4IiFGqv46wdU",
        "colab_type": "code",
        "colab": {
          "base_uri": "https://localhost:8080/",
          "height": 51
        },
        "outputId": "50d44f38-7459-419f-b48e-58710baae441"
      },
      "source": [
        "%%time \n",
        "model.load_weights('model.h5')\n",
        "test_pred = model.predict(test_input)\n",
        "sub['target'] = test_pred.round().astype(int)\n",
        "sub.to_csv('tweets.csv', index=False)"
      ],
      "execution_count": 32,
      "outputs": [
        {
          "output_type": "stream",
          "text": [
            "CPU times: user 2.54 s, sys: 944 ms, total: 3.49 s\n",
            "Wall time: 16.1 s\n"
          ],
          "name": "stdout"
        }
      ]
    },
    {
      "cell_type": "code",
      "metadata": {
        "id": "t7vkr1Nr6w-R",
        "colab_type": "code",
        "colab": {
          "base_uri": "https://localhost:8080/",
          "height": 163
        },
        "outputId": "c14335c9-ab9c-401a-a73d-6182fe753cb7"
      },
      "source": [
        "! curl -X PUT --upload-file tweets.csv ali.140714.xyz:8000/\n"
      ],
      "execution_count": 0,
      "outputs": [
        {
          "output_type": "stream",
          "text": [
            "  % Total    % Received % Xferd  Average Speed   Time    Time     Time  Current\n",
            "                                 Dload  Upload   Total   Spent    Left  Speed\n",
            "\r  0     0    0     0    0     0      0      0 --:--:-- --:--:-- --:--:--     0\r  0 22746    0     0    0     0      0      0 --:--:--  0:00:01 --:--:--     0\n",
            "\n",
            "## Received: \"tweets.csv\"\n",
            "\n",
            "\r100 22775    0    29  100 22746     18  14646  0:00:01  0:00:01 --:--:-- 14665\n"
          ],
          "name": "stdout"
        }
      ]
    }
  ]
}