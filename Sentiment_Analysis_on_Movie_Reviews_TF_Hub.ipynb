{
  "nbformat": 4,
  "nbformat_minor": 0,
  "metadata": {
    "colab": {
      "name": "Sentiment Analysis on Movie Reviews TF-Hub.ipynb",
      "provenance": [],
      "collapsed_sections": [],
      "machine_shape": "hm",
      "authorship_tag": "ABX9TyNXt/Pf0Gzigt1YC9hf5hTt",
      "include_colab_link": true
    },
    "kernelspec": {
      "name": "python3",
      "display_name": "Python 3"
    },
    "accelerator": "GPU"
  },
  "cells": [
    {
      "cell_type": "markdown",
      "metadata": {
        "id": "view-in-github",
        "colab_type": "text"
      },
      "source": [
        "<a href=\"https://colab.research.google.com/github/GaoangLiu/AA_ipynb/blob/master/Sentiment_Analysis_on_Movie_Reviews_TF_Hub.ipynb\" target=\"_parent\"><img src=\"https://colab.research.google.com/assets/colab-badge.svg\" alt=\"Open In Colab\"/></a>"
      ]
    },
    {
      "cell_type": "markdown",
      "metadata": {
        "id": "w0Kzs5uF_Tgm",
        "colab_type": "text"
      },
      "source": [
        "This is a variant of [How to solve a problem on Kaggle with TF-Hub](https://github.com/tensorflow/hub/blob/master/examples/colab/text_classification_with_tf_hub_on_kaggle.ipynb)\n",
        "\n",
        "Sentiment Analysis on Movie Reviews Bayes:\n",
        "[https://github.com/GaoangLiu/AA_ipynb/blob/master/Sentiment_Analysis_on_Movie_Reviews_Naive_Bayes.ipynb](https://github.com/GaoangLiu/AA_ipynb/blob/master/Sentiment_Analysis_on_Movie_Reviews_Naive_Bayes.ipynb)"
      ]
    },
    {
      "cell_type": "markdown",
      "metadata": {
        "id": "Ci7DHJ4j_g7Y",
        "colab_type": "text"
      },
      "source": [
        "## import packages"
      ]
    },
    {
      "cell_type": "code",
      "metadata": {
        "id": "VL5WEu3O_OfU",
        "colab_type": "code",
        "outputId": "27548c5a-34e2-4446-b5bc-b163ef1a48c6",
        "colab": {
          "base_uri": "https://localhost:8080/",
          "height": 68
        }
      },
      "source": [
        "import math\n",
        "import re\n",
        "import os\n",
        "import timeit\n",
        "import tensorflow as tf\n",
        "import numpy as np\n",
        "import pandas as pd\n",
        "import seaborn as sns\n",
        "import matplotlib.pyplot as plt\n",
        "import nltk\n",
        "import logging\n",
        "import time\n",
        "import smart_open\n",
        "import importlib\n",
        "\n",
        "from sklearn import svm\n",
        "from sklearn.linear_model import LogisticRegression\n",
        "from sklearn.ensemble import RandomForestClassifier \n",
        "from sklearn.model_selection import train_test_split, GridSearchCV\n",
        "from sklearn.metrics import accuracy_score, confusion_matrix, classification_report, f1_score\n",
        "from sklearn.naive_bayes import MultinomialNB\n",
        "from sklearn.feature_extraction.text import CountVectorizer, TfidfVectorizer\n",
        "logging.basicConfig(format='[%(asctime)s %(levelname)8s] %(message)s', level=logging.INFO, datefmt='%m-%d %H:%M:%S')\n",
        "\n",
        "import keras\n",
        "from keras import layers, Input\n",
        "from keras.callbacks import EarlyStopping, ModelCheckpoint\n",
        "from keras.models import Sequential, Model, load_model\n",
        "from keras.layers import Flatten, Dense, Embedding, Dropout, LSTM, GRU, Bidirectional\n",
        "from keras.utils import to_categorical\n",
        "from keras.preprocessing.text import Tokenizer\n",
        "from keras.preprocessing.sequence import pad_sequences\n",
        "import gensim.downloader as api\n",
        "\n",
        "from tqdm.notebook import tqdm\n",
        "import tensorflow_hub as hub\n",
        "\n",
        "!pip install arrow\n",
        "import arrow"
      ],
      "execution_count": 10,
      "outputs": [
        {
          "output_type": "stream",
          "text": [
            "Requirement already satisfied: arrow in /usr/local/lib/python3.6/dist-packages (0.15.6)\n",
            "Requirement already satisfied: python-dateutil in /usr/local/lib/python3.6/dist-packages (from arrow) (2.8.1)\n",
            "Requirement already satisfied: six>=1.5 in /usr/local/lib/python3.6/dist-packages (from python-dateutil->arrow) (1.12.0)\n"
          ],
          "name": "stdout"
        }
      ]
    },
    {
      "cell_type": "markdown",
      "metadata": {
        "id": "5PclF2vR_vqB",
        "colab_type": "text"
      },
      "source": [
        "## Download files "
      ]
    },
    {
      "cell_type": "code",
      "metadata": {
        "id": "bfrkbIqG_zsj",
        "colab_type": "code",
        "outputId": "b409a9d7-ae6b-4b96-f578-c3bfee18dd85",
        "colab": {
          "base_uri": "https://localhost:8080/",
          "height": 612
        }
      },
      "source": [
        "! rm *.tsv *.zip *.csv\n",
        "! wget -O movie.zip ali.140714.xyz:8000/sentiment_analysis.zip \n",
        "! wget -O b7.py ali.140714.xyz:8000/boost117.py\n",
        "! unzip movie.zip \n",
        "! ls"
      ],
      "execution_count": 2,
      "outputs": [
        {
          "output_type": "stream",
          "text": [
            "rm: cannot remove '*.tsv': No such file or directory\n",
            "rm: cannot remove '*.zip': No such file or directory\n",
            "rm: cannot remove '*.csv': No such file or directory\n",
            "--2020-05-19 03:19:58--  http://ali.140714.xyz:8000/sentiment_analysis.zip\n",
            "Resolving ali.140714.xyz (ali.140714.xyz)... 47.240.16.188\n",
            "Connecting to ali.140714.xyz (ali.140714.xyz)|47.240.16.188|:8000... connected.\n",
            "HTTP request sent, awaiting response... Read error (Connection reset by peer) in headers.\n",
            "Retrying.\n",
            "\n",
            "--2020-05-19 03:21:23--  (try: 2)  http://ali.140714.xyz:8000/sentiment_analysis.zip\n",
            "Connecting to ali.140714.xyz (ali.140714.xyz)|47.240.16.188|:8000... connected.\n",
            "HTTP request sent, awaiting response... 200 OK\n",
            "Length: 1976135 (1.9M) [application/zip]\n",
            "Saving to: ‘movie.zip’\n",
            "\n",
            "movie.zip           100%[===================>]   1.88M  2.04MB/s    in 0.9s    \n",
            "\n",
            "2020-05-19 03:21:24 (2.04 MB/s) - ‘movie.zip’ saved [1976135/1976135]\n",
            "\n",
            "--2020-05-19 03:21:26--  http://ali.140714.xyz:8000/boost117.py\n",
            "Resolving ali.140714.xyz (ali.140714.xyz)... 47.240.16.188\n",
            "Connecting to ali.140714.xyz (ali.140714.xyz)|47.240.16.188|:8000... connected.\n",
            "HTTP request sent, awaiting response... 200 OK\n",
            "Length: 1723 (1.7K) [text/plain]\n",
            "Saving to: ‘b7.py’\n",
            "\n",
            "b7.py               100%[===================>]   1.68K  --.-KB/s    in 0s      \n",
            "\n",
            "2020-05-19 03:21:26 (246 MB/s) - ‘b7.py’ saved [1723/1723]\n",
            "\n",
            "Archive:  movie.zip\n",
            "  inflating: sampleSubmission.csv    \n",
            "  inflating: test.tsv                \n",
            "  inflating: train.tsv               \n",
            "b7.py  movie.zip  sample_data  sampleSubmission.csv  test.tsv  train.tsv\n"
          ],
          "name": "stdout"
        }
      ]
    },
    {
      "cell_type": "code",
      "metadata": {
        "id": "Opg4CI3KBRqr",
        "colab_type": "code",
        "colab": {}
      },
      "source": [
        "train_df = pd.read_csv('train.tsv', sep='\\t')\n",
        "train_indices, validation_indices = train_test_split(\n",
        "      np.unique(train_df[\"SentenceId\"]),\n",
        "      test_size=0.1,\n",
        "      random_state=0)\n",
        "\n",
        "validation_df = train_df[train_df[\"SentenceId\"].isin(validation_indices)]\n",
        "train_df = train_df[train_df[\"SentenceId\"].isin(train_indices)]\n"
      ],
      "execution_count": 0,
      "outputs": []
    },
    {
      "cell_type": "markdown",
      "metadata": {
        "id": "0QcCvyjn_9-k",
        "colab_type": "text"
      },
      "source": [
        "## Train an Model\n"
      ]
    },
    {
      "cell_type": "code",
      "metadata": {
        "id": "hfQdmKG5AFyT",
        "colab_type": "code",
        "colab": {}
      },
      "source": [
        "class MyModel(tf.keras.Model):\n",
        "  def __init__(self, hub_url):\n",
        "    super().__init__()\n",
        "    self.hub_url = hub_url\n",
        "    self.embed = hub.load(self.hub_url).signatures['default']\n",
        "    self.sequential = tf.keras.Sequential([\n",
        "      tf.keras.layers.Dense(500),\n",
        "      tf.keras.layers.Dense(100),\n",
        "      tf.keras.layers.Dense(5),\n",
        "    ])\n",
        "\n",
        "  def call(self, inputs):\n",
        "    phrases = inputs['Phrase'][:,0]\n",
        "    embedding = 5*self.embed(phrases)['default']\n",
        "    return self.sequential(embedding)\n",
        "\n",
        "  def get_config(self):\n",
        "    return {\"hub_url\":self.hub_url}"
      ],
      "execution_count": 0,
      "outputs": []
    },
    {
      "cell_type": "code",
      "metadata": {
        "id": "8PWvHH6T-BFF",
        "colab_type": "code",
        "colab": {
          "base_uri": "https://localhost:8080/",
          "height": 207
        },
        "outputId": "4f741f30-37a4-4027-8596-cca464654d86"
      },
      "source": [
        "model = MyModel(\"https://tfhub.dev/google/nnlm-en-dim128/1\")\n",
        "model.compile(\n",
        "    loss = tf.losses.SparseCategoricalCrossentropy(from_logits=True),\n",
        "    optimizer=tf.optimizers.Adam(), \n",
        "    metrics = [tf.keras.metrics.SparseCategoricalAccuracy(name=\"accuracy\")])"
      ],
      "execution_count": 11,
      "outputs": [
        {
          "output_type": "stream",
          "text": [
            "[05-19 03:27:03     INFO] Using /tmp/tfhub_modules to cache modules.\n",
            "[05-19 03:27:03     INFO] Downloading TF-Hub Module 'https://tfhub.dev/google/nnlm-en-dim128/1'.\n",
            "[05-19 03:27:16     INFO] Downloaded https://tfhub.dev/google/nnlm-en-dim128/1, Total size: 483.54MB\n",
            "[05-19 03:27:16     INFO] Downloaded TF-Hub Module 'https://tfhub.dev/google/nnlm-en-dim128/1'.\n"
          ],
          "name": "stderr"
        },
        {
          "output_type": "stream",
          "text": [
            "WARNING:tensorflow:From /usr/local/lib/python3.6/dist-packages/tensorflow/python/ops/resource_variable_ops.py:1817: calling BaseResourceVariable.__init__ (from tensorflow.python.ops.resource_variable_ops) with constraint is deprecated and will be removed in a future version.\n",
            "Instructions for updating:\n",
            "If using Keras pass *_constraint arguments to layers.\n"
          ],
          "name": "stdout"
        },
        {
          "output_type": "stream",
          "text": [
            "[05-19 03:27:24  WARNING] From /usr/local/lib/python3.6/dist-packages/tensorflow/python/ops/resource_variable_ops.py:1817: calling BaseResourceVariable.__init__ (from tensorflow.python.ops.resource_variable_ops) with constraint is deprecated and will be removed in a future version.\n",
            "Instructions for updating:\n",
            "If using Keras pass *_constraint arguments to layers.\n"
          ],
          "name": "stderr"
        }
      ]
    },
    {
      "cell_type": "code",
      "metadata": {
        "id": "AFOEda54-Ldh",
        "colab_type": "code",
        "colab": {
          "base_uri": "https://localhost:8080/",
          "height": 357
        },
        "outputId": "4ec4ae4b-1a72-43d9-fec3-9c877c11e82c"
      },
      "source": [
        "history = model.fit(x=dict(train_df), y=train_df['Sentiment'],\n",
        "          validation_data=(dict(validation_df), validation_df['Sentiment']),\n",
        "          epochs = 10)"
      ],
      "execution_count": 16,
      "outputs": [
        {
          "output_type": "stream",
          "text": [
            "Epoch 1/10\n",
            "4385/4385 [==============================] - 16s 4ms/step - loss: 0.9877 - accuracy: 0.5990 - val_loss: 0.9805 - val_accuracy: 0.5975\n",
            "Epoch 2/10\n",
            "4385/4385 [==============================] - 16s 4ms/step - loss: 0.9873 - accuracy: 0.5988 - val_loss: 0.9828 - val_accuracy: 0.5943\n",
            "Epoch 3/10\n",
            "4385/4385 [==============================] - 16s 4ms/step - loss: 0.9869 - accuracy: 0.5993 - val_loss: 0.9816 - val_accuracy: 0.5959\n",
            "Epoch 4/10\n",
            "4385/4385 [==============================] - 17s 4ms/step - loss: 0.9870 - accuracy: 0.5990 - val_loss: 0.9789 - val_accuracy: 0.5950\n",
            "Epoch 5/10\n",
            "4385/4385 [==============================] - 16s 4ms/step - loss: 0.9864 - accuracy: 0.5996 - val_loss: 0.9793 - val_accuracy: 0.5963\n",
            "Epoch 6/10\n",
            "4385/4385 [==============================] - 16s 4ms/step - loss: 0.9866 - accuracy: 0.5986 - val_loss: 0.9791 - val_accuracy: 0.5981\n",
            "Epoch 7/10\n",
            "4385/4385 [==============================] - 16s 4ms/step - loss: 0.9865 - accuracy: 0.5997 - val_loss: 0.9798 - val_accuracy: 0.5959\n",
            "Epoch 8/10\n",
            "4385/4385 [==============================] - 16s 4ms/step - loss: 0.9864 - accuracy: 0.5996 - val_loss: 0.9799 - val_accuracy: 0.5914\n",
            "Epoch 9/10\n",
            "4385/4385 [==============================] - 16s 4ms/step - loss: 0.9864 - accuracy: 0.5988 - val_loss: 0.9789 - val_accuracy: 0.5981\n",
            "Epoch 10/10\n",
            "4385/4385 [==============================] - 16s 4ms/step - loss: 0.9860 - accuracy: 0.6001 - val_loss: 0.9759 - val_accuracy: 0.5948\n"
          ],
          "name": "stdout"
        }
      ]
    },
    {
      "cell_type": "code",
      "metadata": {
        "id": "-K99eDd__Jh0",
        "colab_type": "code",
        "colab": {
          "base_uri": "https://localhost:8080/",
          "height": 282
        },
        "outputId": "90c4e213-4adf-47c0-ab5f-832f0a90be65"
      },
      "source": [
        "plt.plot(history.history['accuracy'])\n",
        "plt.plot(history.history['val_accuracy'])"
      ],
      "execution_count": 17,
      "outputs": [
        {
          "output_type": "execute_result",
          "data": {
            "text/plain": [
              "[<matplotlib.lines.Line2D at 0x7fa5001ec588>]"
            ]
          },
          "metadata": {
            "tags": []
          },
          "execution_count": 17
        },
        {
          "output_type": "display_data",
          "data": {
            "image/png": "[encoded data removed]",
            "text/plain": [
              "<Figure size 432x288 with 1 Axes>"
            ]
          },
          "metadata": {
            "tags": [],
            "needs_background": "light"
          }
        }
      ]
    },
    {
      "cell_type": "code",
      "metadata": {
        "id": "4R_xVUPc-Qr1",
        "colab_type": "code",
        "colab": {
          "base_uri": "https://localhost:8080/",
          "height": 85
        },
        "outputId": "2240e5cf-56cd-4a49-b285-5d178e9b173f"
      },
      "source": [
        "train_eval_result = model.evaluate(dict(train_df), train_df['Sentiment'])\n",
        "validation_eval_result = model.evaluate(dict(validation_df), validation_df['Sentiment'])\n",
        "\n",
        "print(f\"Training set accuracy: {train_eval_result[1]}\")\n",
        "print(f\"Validation set accuracy: {validation_eval_result[1]}\")"
      ],
      "execution_count": 18,
      "outputs": [
        {
          "output_type": "stream",
          "text": [
            "4385/4385 [==============================] - 13s 3ms/step - loss: 0.9809 - accuracy: 0.5994\n",
            "493/493 [==============================] - 1s 3ms/step - loss: 0.9759 - accuracy: 0.5948\n",
            "Training set accuracy: 0.5994440913200378\n",
            "Validation set accuracy: 0.5947920083999634\n"
          ],
          "name": "stdout"
        }
      ]
    },
    {
      "cell_type": "markdown",
      "metadata": {
        "id": "a0BTVvSIA68_",
        "colab_type": "text"
      },
      "source": [
        "Make predictions"
      ]
    },
    {
      "cell_type": "code",
      "metadata": {
        "id": "klfy_GBpI8Xr",
        "colab_type": "code",
        "colab": {}
      },
      "source": [
        "# Make predictions\n",
        "test_df = pd.read_csv('test.tsv', sep='\\t')\n",
        "test_predictions = model.predict(dict(test_df))\n",
        "test_predictions = np.argmax(test_predictions, axis=-1)\n",
        "\n",
        "result_df = pd.read_csv('sampleSubmission.csv')\n",
        "\n",
        "result_df[\"Sentiment\"] = test_predictions\n",
        "\n",
        "result_df.to_csv(\"predictions.csv\", index=False)"
      ],
      "execution_count": 0,
      "outputs": []
    },
    {
      "cell_type": "code",
      "metadata": {
        "id": "LU6imzL8N4DZ",
        "colab_type": "code",
        "outputId": "fcfa5426-0e10-4d92-8c81-5914ca5b7419",
        "colab": {
          "base_uri": "https://localhost:8080/",
          "height": 51
        }
      },
      "source": [
        "# Export submissions to csv file\n",
        "import b7\n",
        "export_file = 'predictions.csv'\n",
        "b7.Files().upload_vps(export_file)\n",
        "print(\"DONE \", arrow.now())"
      ],
      "execution_count": 25,
      "outputs": [
        {
          "output_type": "stream",
          "text": [
            "[05-19 03:45:02     INFO] predictions.csv was uploaded\n"
          ],
          "name": "stderr"
        },
        {
          "output_type": "stream",
          "text": [
            "DONE  2020-05-19T03:45:02.635009+00:00\n"
          ],
          "name": "stdout"
        }
      ]
    },
    {
      "cell_type": "code",
      "metadata": {
        "id": "kRwOYjt8wud-",
        "colab_type": "code",
        "colab": {}
      },
      "source": [
        ""
      ],
      "execution_count": 0,
      "outputs": []
    }
  ]
}