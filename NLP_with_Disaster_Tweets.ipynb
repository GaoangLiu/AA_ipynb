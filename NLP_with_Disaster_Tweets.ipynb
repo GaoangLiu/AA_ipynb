{
  "nbformat": 4,
  "nbformat_minor": 0,
  "metadata": {
    "colab": {
      "name": "NLP with Disaster Tweets.ipynb",
      "provenance": [],
      "collapsed_sections": [],
      "authorship_tag": "ABX9TyMFqJNkKNEhZY47gv4v7ddv",
      "include_colab_link": true
    },
    "kernelspec": {
      "name": "python3",
      "display_name": "Python 3"
    },
    "accelerator": "GPU"
  },
  "cells": [
    {
      "cell_type": "markdown",
      "metadata": {
        "id": "view-in-github",
        "colab_type": "text"
      },
      "source": [
        "<a href=\"https://colab.research.google.com/github/GaoangLiu/ipynb/blob/master/NLP_with_Disaster_Tweets.ipynb\" target=\"_parent\"><img src=\"https://colab.research.google.com/assets/colab-badge.svg\" alt=\"Open In Colab\"/></a>"
      ]
    },
    {
      "cell_type": "markdown",
      "metadata": {
        "id": "kJNib6SIAGVa",
        "colab_type": "text"
      },
      "source": [
        "# NLP with Disaster Tweets\n",
        "\n",
        "Kaggle contest page: https://www.kaggle.com/c/nlp-getting-started/overview\n",
        "\n",
        "Task: predicts which Tweets are about real disasters and which one’s aren’t. Return value is either 1 (real) or 0 (unreal) .\n"
      ]
    },
    {
      "cell_type": "code",
      "metadata": {
        "id": "-q8SHrDH_8Pt",
        "colab_type": "code",
        "colab": {
          "base_uri": "https://localhost:8080/",
          "height": 105
        },
        "outputId": "4eeaccaa-4391-4689-dd8a-c5b2b32d06c7"
      },
      "source": [
        "# Load packages \n",
        "import math\n",
        "import re\n",
        "import os\n",
        "import timeit\n",
        "import tensorflow as tf\n",
        "import numpy as np\n",
        "import pandas as pd\n",
        "import seaborn as sns\n",
        "import matplotlib.pyplot as plt\n",
        "import nltk\n",
        "import logging\n",
        "import time\n",
        "\n",
        "from sklearn import svm\n",
        "from sklearn.linear_model import LogisticRegression\n",
        "from sklearn.model_selection import train_test_split\n",
        "from sklearn.metrics import accuracy_score, confusion_matrix, classification_report, f1_score\n",
        "from sklearn.naive_bayes import MultinomialNB\n",
        "from sklearn.feature_extraction.text import CountVectorizer, TfidfVectorizer\n",
        "logging.basicConfig(format='[%(asctime)s %(levelname)8s] %(message)s', level=logging.INFO, datefmt='%m-%d %H:%M:%S')\n",
        "\n",
        "from keras import layers, Input\n",
        "from keras.callbacks import EarlyStopping, ModelCheckpoint\n",
        "from keras.models import Sequential, Model, load_model\n",
        "from keras.layers import Flatten, Dense, Embedding, Dropout, LSTM, GRU, Bidirectional\n",
        "from keras.utils import to_categorical\n",
        "from keras.preprocessing.text import Tokenizer\n",
        "from keras.preprocessing.sequence import pad_sequences\n",
        "import gensim.downloader as api\n"
      ],
      "execution_count": 1,
      "outputs": [
        {
          "output_type": "stream",
          "text": [
            "/usr/local/lib/python3.6/dist-packages/statsmodels/tools/_testing.py:19: FutureWarning: pandas.util.testing is deprecated. Use the functions in the public API at pandas.testing instead.\n",
            "  import pandas.util.testing as tm\n",
            "Using TensorFlow backend.\n",
            "[05-14 06:49:30     INFO] 'pattern' package not found; tag filters are not available for English\n"
          ],
          "name": "stderr"
        }
      ]
    },
    {
      "cell_type": "markdown",
      "metadata": {
        "id": "aJLCawmzA1WS",
        "colab_type": "text"
      },
      "source": [
        "## Explore data\n"
      ]
    },
    {
      "cell_type": "code",
      "metadata": {
        "id": "1ldINPVLA5Yg",
        "colab_type": "code",
        "outputId": "a365baa0-7abf-414b-e3cb-55d1f07f8c5d",
        "colab": {
          "base_uri": "https://localhost:8080/",
          "height": 163
        }
      },
      "source": [
        "! rm tweets.zip labels.csv \n",
        "! wget -O tweets.zip ali.140714.xyz:8000/nlp-getting-started.zip \n",
        "! unzip tweets.zip \n",
        "! ls\n",
        "! wget -O labels.csv ali.140714.xyz:8000/leaked_tweet_labels.csv\n"
      ],
      "execution_count": 0,
      "outputs": [
        {
          "output_type": "stream",
          "text": [
            "rm: cannot remove 'tweets.zip': No such file or directory\n",
            "rm: cannot remove 'labels.csv': No such file or directory\n",
            "--2020-05-14 06:49:42--  http://ali.140714.xyz:8000/nlp-getting-started.zip\n",
            "Resolving ali.140714.xyz (ali.140714.xyz)... 47.240.16.188\n",
            "Connecting to ali.140714.xyz (ali.140714.xyz)|47.240.16.188|:8000... failed: Connection timed out.\n",
            "Retrying.\n",
            "\n"
          ],
          "name": "stdout"
        }
      ]
    },
    {
      "cell_type": "code",
      "metadata": {
        "id": "QxzysppNBDne",
        "colab_type": "code",
        "outputId": "eb4ce515-7e83-47e1-e7e4-e1f82dfc0473",
        "colab": {
          "base_uri": "https://localhost:8080/",
          "height": 544
        }
      },
      "source": [
        "train = pd.read_csv('train.csv')\n",
        "train.target.value_counts() \n",
        "\"\"\" \n",
        "0    4342\n",
        "1    3271\n",
        "Name: target, dtype: int64\n",
        "Good, so the data is WELL balanced\n",
        "\"\"\"\n",
        "train.keyword.value_counts()\n",
        "train.text.str.len().nsmallest(30)"
      ],
      "execution_count": 0,
      "outputs": [
        {
          "output_type": "execute_result",
          "data": {
            "text/plain": [
              "1882     7\n",
              "4890     7\n",
              "5115     7\n",
              "24       8\n",
              "30       8\n",
              "3670     8\n",
              "4971     8\n",
              "28       9\n",
              "3667     9\n",
              "3749    10\n",
              "6705    10\n",
              "22      11\n",
              "4735    11\n",
              "5184    11\n",
              "6015    11\n",
              "784     12\n",
              "6522    12\n",
              "6917    12\n",
              "7470    12\n",
              "16      13\n",
              "2496    13\n",
              "3696    13\n",
              "15      14\n",
              "849     14\n",
              "6174    14\n",
              "6277    14\n",
              "7589    14\n",
              "900     15\n",
              "6224    15\n",
              "6258    15\n",
              "Name: text, dtype: int64"
            ]
          },
          "metadata": {
            "tags": []
          },
          "execution_count": 5
        }
      ]
    },
    {
      "cell_type": "markdown",
      "metadata": {
        "id": "inq21zEjCoPF",
        "colab_type": "text"
      },
      "source": [
        "# CNN\n",
        "Dive into the data, build a baseline model with CNN"
      ]
    },
    {
      "cell_type": "code",
      "metadata": {
        "id": "iLxdiCYSCzEq",
        "colab_type": "code",
        "colab": {}
      },
      "source": [
        "# Base class for classifier\n",
        "class Classifier():\n",
        "  def __init__(self):\n",
        "    self.train = None\n",
        "    self.test = None \n",
        "    self.model = None\n",
        "\n",
        "  def load_data(self, train_file='train.csv', test_file='test.csv'):\n",
        "      \"\"\" Load train, test csv files and return pandas.DataFrame\n",
        "      \"\"\"\n",
        "      self.train = pd.read_csv(train_file, engine='python', encoding='utf-8', error_bad_lines=False)\n",
        "      self.test = pd.read_csv(test_file, engine='python', encoding='utf-8', error_bad_lines=False)\n",
        "      logging.info('CSV data loaded')\n",
        "  \n",
        "  def countvectorize(self):\n",
        "      tv = TfidfVectorizer(ngram_range=(1,3), token_pattern=r'\\w{1,}',\n",
        "               min_df=3, max_df=0.9, strip_accents='unicode', use_idf=1,\n",
        "               smooth_idf=1, sublinear_tf=1, max_features=5000)\n",
        "      tv = CountVectorizer()\n",
        "      tv.fit(self.train.text)\n",
        "      self.vector_train = tv.transform(self.train.text)\n",
        "      self.vector_test  = tv.transform(self.test.text)\n",
        "      logging.info(\"Train & test text tokenized\")\n",
        "\n",
        "  def build_model(self):\n",
        "      pass\n",
        "\n",
        "  def run_model(self):\n",
        "      # Choose your own classifier: self.model and run it\n",
        "      logging.info(f\"{self.__class__.__name__} starts running.\")\n",
        "      labels = self.train.target\n",
        "      x_train, x_val, y_train, y_val = train_test_split(self.vector_train, labels, test_size=0.2, random_state=20)\n",
        "      self.model.fit(x_train, y_train)\n",
        "      y_preds = self.model.predict(x_val)\n",
        "\n",
        "      logging.info(f\"Accuracy score: {accuracy_score(y_val, y_preds)}\")\n",
        "      logging.info(f\"Confusion matrix: \") \n",
        "      print(confusion_matrix(y_val, y_preds))\n",
        "      print(\"Classificaiton report:\\n\", classification_report(y_val, y_preds, target_names=[\"real\", \"unreal\"]))\n",
        "      y_preds = self.model.predict(self.vector_test)\n",
        "      return y_preds\n",
        "\n",
        "  def save_predictions(self, y_preds):\n",
        "      sub = pd.read_csv(f\"sample_submission.csv\")\n",
        "      sub['target'] = y_preds \n",
        "      sub.to_csv(f\"submission_{self.__class__.__name__}.csv\", index=False)\n",
        "      logging.info('Prediction exported to submisison.csv')\n",
        "  \n",
        "  def pipeline(self):\n",
        "      s_time = time.clock()\n",
        "      self.load_data()\n",
        "      self.countvectorize()\n",
        "      self.build_model()\n",
        "      self.save_predictions(self.run_model())\n",
        "      logging.info(f\"Program running for {time.clock() - s_time} seconds\")\n",
        "\n",
        "class C_Bayes(Classifier):\n",
        "  def build_model(self):\n",
        "      self.model = MultinomialNB()\n",
        "      return self.model\n",
        "\n",
        "# Logistic Regression \n",
        "class C_LR(Classifier):\n",
        "  def build_model(self):\n",
        "      self.model = LogisticRegression(n_jobs=10, solver='lbfgs', C=0.1, verbose=1)\n",
        "      return self.model\n",
        "\n",
        "class C_SVM(Classifier):\n",
        "  def load_data(self, train_file='train.csv', test_file='test.csv'):\n",
        "      \"\"\" Load train, test csv files and return pandas.DataFrame\n",
        "      \"\"\"\n",
        "      self.train = pd.read_csv(train_file, engine='python', encoding='utf-8', error_bad_lines=False)\n",
        "      self.test = pd.read_csv(test_file, engine='python', encoding='utf-8', error_bad_lines=False)\n",
        "      logging.info('CSV data loaded')\n",
        "\n",
        "  def build_model(self):\n",
        "      self.model = svm.SVC()\n",
        "      return self.model\n",
        "\n",
        "class C_Ensemble(Classifier):\n",
        "  def ensemble(self):\n",
        "      s_time = time.perf_counter()\n",
        "      self.load_data()\n",
        "      self.countvectorize()\n",
        "\n",
        "      nb = MultinomialNB()\n",
        "      lr = LogisticRegression(n_jobs=10, solver='saga', C=0.1, verbose=1)\n",
        "      svc = svm.SVC()\n",
        "\n",
        "      all_preds = [0] * self.test.shape[0]\n",
        "      for m in (nb, lr, svc):\n",
        "          self.model = m\n",
        "          if m == svc: \n",
        "              self.load_data()\n",
        "              self.train = self.train.sample(10000)\n",
        "              self.countvectorize()\n",
        "          all_preds += self.run_model()\n",
        "\n",
        "      all_preds = [1 if p > 0 else 0 for p in all_preds]\n",
        "      self.save_predictions(all_preds)\n",
        "      logging.info(f\"Program running for {time.perf_counter() - s_time} seconds\")\n",
        "\n",
        "\n",
        "class Helper():\n",
        "    def locate_threshold(self, model, x_val, y_val):\n",
        "        y_probs = model.predict(x_val, batch_size=1024, verbose=1)\n",
        "        best_threshold = best_f1 = pre_f1 = 0\n",
        "        history = []\n",
        "\n",
        "        for i in np.arange(0.01, 1, 0.01):\n",
        "          if len(y_probs[0]) >= 2:\n",
        "              y2_preds = [1 if e[1] >= i else 0 for e in y_probs]\n",
        "          else:\n",
        "              y2_preds = (y_probs > i).astype(int)\n",
        "\n",
        "          cur_f1 = f1_score(y_val, y2_preds, average='weighted')\n",
        "          history.append((i, cur_f1))\n",
        "          symbol = '+' if cur_f1 >= pre_f1 else '-'\n",
        "          # print(\"Threshold {:6.4f}, f1_score: {:<0.8f}  {} {:<0.6f} \".format(i, cur_f1, symbol, abs(cur_f1 - pre_f1)))\n",
        "          pre_f1 = cur_f1\n",
        "\n",
        "          if cur_f1 >= best_f1:\n",
        "              best_f1 = cur_f1\n",
        "              best_threshold = i\n",
        "\n",
        "        print(f\"Best f1 score {best_f1}, best threshold {best_threshold}\")\n",
        "        plt.xlabel('Threshold')\n",
        "        plt.ylabel('f1_score')\n",
        "        plt.plot(*zip(*history))\n",
        "\n",
        "        return best_threshold\n",
        "\n",
        "class C_NN(Classifier):\n",
        "    def __init__(self, max_features=100000, embed_size=128, max_len=300):\n",
        "        self.max_features=max_features\n",
        "        self.embed_size=embed_size\n",
        "        self.max_len=max_len\n",
        "    \n",
        "    def tokenize_text(self, text_train, text_test):\n",
        "        '''@para: max_features, the most commenly used words in data set\n",
        "        @input are vector of text\n",
        "        '''\n",
        "        tokenizer = Tokenizer(num_words=self.max_features)\n",
        "        text = pd.concat([text_train, text_test])\n",
        "        tokenizer.fit_on_texts(text)\n",
        "\n",
        "        sequence_train = tokenizer.texts_to_sequences(text_train)\n",
        "        tokenized_train = pad_sequences(sequence_train, maxlen=self.max_len)\n",
        "        logging.info('Train text tokeninzed')\n",
        "\n",
        "        sequence_test = tokenizer.texts_to_sequences(text_test)\n",
        "        tokenized_test = pad_sequences(sequence_test, maxlen=self.max_len)\n",
        "        logging.info('Test text tokeninzed')\n",
        "        return tokenized_train, tokenized_test, tokenizer\n",
        "      \n",
        "    def build_model(self, embed_matrix=[]):\n",
        "        text_input = Input(shape=(self.max_len, ))\n",
        "        embed_text = layers.Embedding(self.max_features, self.embed_size)(text_input)\n",
        "        if len(embed_matrix) > 0:\n",
        "            embed_text = layers.Embedding(self.max_features, self.embed_size, \\\n",
        "                                          weights=[embed_matrix], trainable=False)(text_input)\n",
        "            \n",
        "        branch_a = layers.Bidirectional(layers.GRU(32, return_sequences=True))(embed_text)\n",
        "        branch_b = layers.GlobalMaxPool1D()(branch_a)\n",
        "\n",
        "        branch_c = layers.Dense(32, activation='relu')(branch_b)\n",
        "        branch_d = layers.Dropout(0.2)(branch_c)\n",
        "        branch_z = layers.Dense(1, activation='sigmoid')(branch_d)\n",
        "        \n",
        "        model = Model(inputs=text_input, outputs=branch_z)\n",
        "        self.model = model\n",
        "\n",
        "        return model\n",
        "        \n",
        "    def embed_word_vector(self, word_index, model='glove-wiki-gigaword-100'):\n",
        "        glove = api.load(model) # default: wikipedia 6B tokens, uncased\n",
        "        zeros = [0] * self.embed_size\n",
        "        matrix = np.zeros((self.max_features, self.embed_size))\n",
        "          \n",
        "        for word, i in word_index.items(): \n",
        "            if i >= self.max_features or word not in glove: continue # matrix[0] is zeros, that's also why >= is here\n",
        "            matrix[i] = glove[word]\n",
        "\n",
        "        logging.info('Matrix with embedded word vector created')\n",
        "        return matrix\n",
        "\n",
        "    def run(self, x_train, y_train):\n",
        "        checkpoint = ModelCheckpoint('weights_base_best.hdf5', monitor='val_acc', verbose=1, save_best_only=True, mode='max')\n",
        "        early = EarlyStopping(monitor=\"val_acc\", mode=\"max\", patience=3)\n",
        "\n",
        "        self.model.compile(optimizer='rmsprop', loss='binary_crossentropy', metrics=['acc'])\n",
        "        X_tra, X_val, y_tra, y_val = train_test_split(x_train, y_train, train_size=0.8, random_state=2020)\n",
        "        BATCH_SIZE = max(16, 2 ** int(math.log(len(X_tra) / 100, 2)))\n",
        "        logging.info(f\"Batch size is set to {BATCH_SIZE}\")\n",
        "        history = self.model.fit(X_tra, y_tra, epochs=10, batch_size=BATCH_SIZE, validation_data=(X_val, y_val), \\\n",
        "                              callbacks=[checkpoint, early], verbose=1)\n",
        "\n",
        "        return history\n"
      ],
      "execution_count": 0,
      "outputs": []
    },
    {
      "cell_type": "markdown",
      "metadata": {
        "id": "BxV7G7YkcYeT",
        "colab_type": "text"
      },
      "source": [
        "## Now try linear models"
      ]
    },
    {
      "cell_type": "code",
      "metadata": {
        "id": "KM5RcKxhcagE",
        "colab_type": "code",
        "colab": {
          "base_uri": "https://localhost:8080/",
          "height": 357
        },
        "outputId": "d40af570-f49a-4152-ba9d-6e6f3ce1a3d3"
      },
      "source": [
        "# c = C_Bayes()\n",
        "c = C_SVM()\n",
        "c.pipeline()\n",
        "labels = pd.read_csv('labels.csv').target\n",
        "preds = pd.read_csv('submission_C_SVM.csv').target\n",
        "print(\"The submission f1_score is: \", f1_score(labels, preds, average='weighted'))\n"
      ],
      "execution_count": 123,
      "outputs": [
        {
          "output_type": "stream",
          "text": [
            "[05-13 14:48:58     INFO] CSV data loaded\n",
            "[05-13 14:48:58     INFO] Train & test text tokenized\n",
            "[05-13 14:48:58     INFO] C_SVM starts running.\n",
            "[05-13 14:49:05     INFO] Accuracy score: 0.7918581746552856\n",
            "[05-13 14:49:05     INFO] Confusion matrix: \n"
          ],
          "name": "stderr"
        },
        {
          "output_type": "stream",
          "text": [
            "[[799  77]\n",
            " [240 407]]\n",
            "Classificaiton report:\n",
            "               precision    recall  f1-score   support\n",
            "\n",
            "        real       0.77      0.91      0.83       876\n",
            "      unreal       0.84      0.63      0.72       647\n",
            "\n",
            "    accuracy                           0.79      1523\n",
            "   macro avg       0.80      0.77      0.78      1523\n",
            "weighted avg       0.80      0.79      0.79      1523\n",
            "\n"
          ],
          "name": "stdout"
        },
        {
          "output_type": "stream",
          "text": [
            "[05-13 14:49:08     INFO] Prediction exported to submisison.csv\n",
            "[05-13 14:49:08     INFO] Program running for 10.252798000001349 seconds\n"
          ],
          "name": "stderr"
        },
        {
          "output_type": "stream",
          "text": [
            "The submission f1_score is:  0.7897567267823985\n"
          ],
          "name": "stdout"
        }
      ]
    },
    {
      "cell_type": "markdown",
      "metadata": {
        "id": "aMYEiF3dDgsO",
        "colab_type": "text"
      },
      "source": [
        "Build a simple model and run"
      ]
    },
    {
      "cell_type": "code",
      "metadata": {
        "id": "twNhLSNSDksb",
        "colab_type": "code",
        "outputId": "24c74eac-baa7-496f-9b36-965615424cd8",
        "colab": {
          "base_uri": "https://localhost:8080/",
          "height": 85
        }
      },
      "source": [
        "c = C_NN(max_features=10000, embed_size=100, max_len=150)\n",
        "c.load_data()\n",
        "vector_train, vector_test, tokenizer = c.tokenize_text(c.train.text, c.test.text)\n",
        "\n",
        "local_matrix = 'glove_twitter_100_matrix.npy'\n",
        "if os.path.exists(local_matrix):\n",
        "    matrix = np.load(local_matrix)\n",
        "    print(\"Load matrix from local file\")\n",
        "else:\n",
        "    matrix = c.embed_word_vector(tokenizer.word_index, 'glove-twitter-100')\n",
        "    np.save(local_matrix, matrix)\n",
        "    print(\"Save matrix to local file\")"
      ],
      "execution_count": 0,
      "outputs": [
        {
          "output_type": "stream",
          "text": [
            "[05-13 12:11:22     INFO] CSV data loaded\n",
            "[05-13 12:11:22     INFO] Train text tokeninzed\n",
            "[05-13 12:11:22     INFO] Test text tokeninzed\n"
          ],
          "name": "stderr"
        },
        {
          "output_type": "stream",
          "text": [
            "Load matrix from local file\n"
          ],
          "name": "stdout"
        }
      ]
    },
    {
      "cell_type": "code",
      "metadata": {
        "id": "awAEHBpsEQOR",
        "colab_type": "code",
        "outputId": "d76532eb-cd64-42d3-fa56-72f61d3a9f95",
        "colab": {
          "base_uri": "https://localhost:8080/"
        }
      },
      "source": [
        "model = c.build_model(matrix)\n",
        "c.run(vector_train, c.train.target)\n",
        "# X_tra, X_val, y_tra, y_val = train_test_split(vector_train, c.train.target, train_size=0.8, random_state=2020)\n",
        "# history = model.fit(X_tra, y_tra, epochs=3, batch_size=64, validation_data=(X_val, y_val))"
      ],
      "execution_count": 0,
      "outputs": [
        {
          "output_type": "stream",
          "text": [
            "[05-13 12:11:27     INFO] Batch size is set to 32\n"
          ],
          "name": "stderr"
        },
        {
          "output_type": "stream",
          "text": [
            "Train on 6090 samples, validate on 1523 samples\n",
            "Epoch 1/10\n",
            "6090/6090 [==============================] - 114s 19ms/step - loss: 0.5384 - acc: 0.7335 - val_loss: 0.4476 - val_acc: 0.8017\n",
            "\n",
            "Epoch 00001: val_acc improved from -inf to 0.80171, saving model to weights_base_best.hdf5\n",
            "Epoch 2/10\n",
            "6090/6090 [==============================] - 112s 18ms/step - loss: 0.4386 - acc: 0.8049 - val_loss: 0.4503 - val_acc: 0.7951\n",
            "\n",
            "Epoch 00002: val_acc did not improve from 0.80171\n",
            "Epoch 3/10\n",
            "6090/6090 [==============================] - 111s 18ms/step - loss: 0.4107 - acc: 0.8223 - val_loss: 0.4512 - val_acc: 0.7971\n",
            "\n",
            "Epoch 00003: val_acc did not improve from 0.80171\n",
            "Epoch 4/10\n",
            "6090/6090 [==============================] - 108s 18ms/step - loss: 0.3897 - acc: 0.8322 - val_loss: 0.4286 - val_acc: 0.8102\n",
            "\n",
            "Epoch 00004: val_acc improved from 0.80171 to 0.81024, saving model to weights_base_best.hdf5\n",
            "Epoch 5/10\n",
            "6090/6090 [==============================] - 109s 18ms/step - loss: 0.3745 - acc: 0.8414 - val_loss: 0.4236 - val_acc: 0.8188\n",
            "\n",
            "Epoch 00005: val_acc improved from 0.81024 to 0.81878, saving model to weights_base_best.hdf5\n",
            "Epoch 6/10\n",
            "6090/6090 [==============================] - 112s 18ms/step - loss: 0.3510 - acc: 0.8502 - val_loss: 0.4514 - val_acc: 0.7997\n",
            "\n",
            "Epoch 00006: val_acc did not improve from 0.81878\n",
            "Epoch 7/10\n",
            "6090/6090 [==============================] - 111s 18ms/step - loss: 0.3337 - acc: 0.8588 - val_loss: 0.4268 - val_acc: 0.8214\n",
            "\n",
            "Epoch 00007: val_acc improved from 0.81878 to 0.82141, saving model to weights_base_best.hdf5\n",
            "Epoch 8/10\n",
            "6090/6090 [==============================] - 112s 18ms/step - loss: 0.3183 - acc: 0.8700 - val_loss: 0.4389 - val_acc: 0.8227\n",
            "\n",
            "Epoch 00008: val_acc improved from 0.82141 to 0.82272, saving model to weights_base_best.hdf5\n",
            "Epoch 9/10\n",
            "6090/6090 [==============================] - 112s 18ms/step - loss: 0.2975 - acc: 0.8811 - val_loss: 0.4542 - val_acc: 0.8004\n",
            "\n",
            "Epoch 00009: val_acc did not improve from 0.82272\n",
            "Epoch 10/10\n",
            "6090/6090 [==============================] - 110s 18ms/step - loss: 0.2742 - acc: 0.8872 - val_loss: 0.4695 - val_acc: 0.8096\n",
            "\n",
            "Epoch 00010: val_acc did not improve from 0.82272\n"
          ],
          "name": "stdout"
        },
        {
          "output_type": "execute_result",
          "data": {
            "text/plain": [
              "<keras.callbacks.callbacks.History at 0x7ff124978dd8>"
            ]
          },
          "metadata": {
            "tags": []
          },
          "execution_count": 101
        }
      ]
    },
    {
      "cell_type": "code",
      "metadata": {
        "id": "wgatqwT1Foif",
        "colab_type": "code",
        "outputId": "8beeb9f2-650e-4e62-fae5-f255a6fcc587",
        "colab": {
          "base_uri": "https://localhost:8080/",
          "height": 313
        }
      },
      "source": [
        "# Find maximum threshold \n",
        "model = load_model('weights_base_best.hdf5')\n",
        "threshold = Helper().locate_threshold(model, X_val, y_val)\n"
      ],
      "execution_count": 0,
      "outputs": [
        {
          "output_type": "stream",
          "text": [
            "1523/1523 [==============================] - 0s 127us/step\n",
            "Best f1 score 0.8210686511812791, best threshold 0.42000000000000004\n"
          ],
          "name": "stdout"
        },
        {
          "output_type": "display_data",
          "data": {
            "image/png": "[encoded data removed]",
            "text/plain": [
              "<Figure size 432x288 with 1 Axes>"
            ]
          },
          "metadata": {
            "tags": [],
            "needs_background": "light"
          }
        }
      ]
    },
    {
      "cell_type": "code",
      "metadata": {
        "id": "bvo20EjjIDYr",
        "colab_type": "code",
        "outputId": "c9794d47-d794-42b2-8635-5b030386062d",
        "colab": {
          "base_uri": "https://localhost:8080/",
          "height": 34
        }
      },
      "source": [
        "# output submission\n",
        "sub = pd.read_csv('sample_submission.csv')\n",
        "preds = model.predict(vector_test)\n",
        "\n",
        "if not threshold:\n",
        "    threshold = 0.3\n",
        "preds = (preds >= threshold).astype(int)\n",
        "sub.target = preds\n",
        "sub.to_csv('submission.csv', index=False)\n",
        "\n",
        "labels = pd.read_csv('labels.csv').target\n",
        "print(\"The submission f1_score is: \", f1_score(labels, preds, average='weighted'))\n",
        "# submission result\n",
        "# GRU 64, max_features = 10000, embed_size=128, max_len=150, no embed, f1_score 0.75460\n",
        "# GRU 64, max_features = 10000, embed_size=300, max_len=150, Twitter 300, train_size 0.9 (default 0.8), f1_score 0.81083\n",
        "# GRU 64, max_features = 10000, embed_size=300, max_len=150, Google news 300, train_size 0.9 (default 0.8), f1_score 0.80195\n",
        "# GRU 64, max_features = 10000, embed_size=300, max_len=150, Google news 300, train_size 0.8 , f1_score 0.80826\n",
        "# GRU 64, max_features = 10000, embed_size=300, max_len=150, Glove wiki 300, train_size 0.8 , f1_score 0.81352\n",
        "# GRU 64, max_features = 10000, embed_size=100, max_len=150, Glove wiki 100, train_size 0.8 , f1_score 0.82004\n",
        "# Double GRU 64, max_features = 10000, embed_size=100, max_len=150, Glove wiki 100, train_size 0.8 , f1_score 0.81252\n",
        "\n",
        "# LSTM 64, max_features = 10000, embed_size=100, max_len=150, Glove wiki 100, train_size 0.8 , f1_score 0.81177\n",
        "# Double LSTM 64, max_features = 10000, embed_size=100, max_len=150, Glove wiki 100, train_size 0.8 , f1_score 0.80853\n"
      ],
      "execution_count": 0,
      "outputs": [
        {
          "output_type": "stream",
          "text": [
            "The submission f1_score is:  0.8100469283697781\n"
          ],
          "name": "stdout"
        }
      ]
    },
    {
      "cell_type": "code",
      "metadata": {
        "id": "UlFzsb2GLEJV",
        "colab_type": "code",
        "outputId": "b3fc2bd5-69a0-47c4-fac6-84c691507f9f",
        "colab": {
          "base_uri": "https://localhost:8080/",
          "height": 136
        }
      },
      "source": [
        "# upload to vps server\n",
        "!curl -X PUT --upload-file submission_C_SVM.csv ali.140714.xyz:8000/tweets.csv \n"
      ],
      "execution_count": 125,
      "outputs": [
        {
          "output_type": "stream",
          "text": [
            "  % Total    % Received % Xferd  Average Speed   Time    Time     Time  Current\n",
            "                                 Dload  Upload   Total   Spent    Left  Speed\n",
            "100 22746    0     0  100 22746      0  15184  0:00:01  0:00:01 --:--:-- 15174\n",
            "\n",
            "## Received: \"tweets.csv\"\n",
            "\n",
            "100 22775    0    29  100 22746     19  15184  0:00:01  0:00:01 --:--:-- 15193\n"
          ],
          "name": "stdout"
        }
      ]
    },
    {
      "cell_type": "code",
      "metadata": {
        "id": "VcFTw-dGxfKg",
        "colab_type": "code",
        "outputId": "111a906c-1b12-4f4a-8298-288e3ad77cf5",
        "colab": {
          "base_uri": "https://localhost:8080/",
          "height": 289
        }
      },
      "source": [
        "# Finally, wrap it up and upload zip file to vps server\n",
        "! rm nlp_disaster_tweets.zip \n",
        "! zip -r9 --exclude=sample_data/* nlp_disaster_tweets.zip *\n",
        "! curl -X PUT --upload-file nlp_disaster_tweets.zip ali.140714.xyz:8000\n"
      ],
      "execution_count": 105,
      "outputs": [
        {
          "output_type": "stream",
          "text": [
            "  adding: glove_twitter_100_matrix.csv (deflated 69%)\n",
            "  adding: glove_twitter_100_matrix.npy (deflated 59%)\n",
            "  adding: labels.csv (deflated 64%)\n",
            "  adding: sample_submission.csv (deflated 66%)\n",
            "  adding: submission.csv (deflated 65%)\n",
            "  adding: test.csv (deflated 56%)\n",
            "  adding: train.csv (deflated 59%)\n",
            "  adding: tweets.zip (deflated 0%)\n",
            "  adding: weights_base_best.hdf5 (deflated 26%)\n",
            "  % Total    % Received % Xferd  Average Speed   Time    Time     Time  Current\n",
            "                                 Dload  Upload   Total   Spent    Left  Speed\n",
            " 77 14.7M    0     0   77 11.5M      0  3198k  0:00:04  0:00:03  0:00:01 3198k\n",
            "\n",
            "## Received: \"nlp_disaster_tweets.zip\"\n",
            "\n",
            "100 14.7M    0    42  100 14.7M     10  3750k  0:00:04  0:00:04 --:--:-- 3750k\n"
          ],
          "name": "stdout"
        }
      ]
    }
  ]
}