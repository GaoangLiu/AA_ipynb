{
  "nbformat": 4,
  "nbformat_minor": 0,
  "metadata": {
    "colab": {
      "name": "NLP with Disaster Tweets.ipynb",
      "provenance": [],
      "collapsed_sections": [],
      "authorship_tag": "ABX9TyMQjkhns4DDCG1wcmZuT0sR",
      "include_colab_link": true
    },
    "kernelspec": {
      "name": "python3",
      "display_name": "Python 3"
    },
    "accelerator": "GPU"
  },
  "cells": [
    {
      "cell_type": "markdown",
      "metadata": {
        "id": "view-in-github",
        "colab_type": "text"
      },
      "source": [
        "<a href=\"https://colab.research.google.com/github/GaoangLiu/ipynb/blob/master/NLP_with_Disaster_Tweets.ipynb\" target=\"_parent\"><img src=\"https://colab.research.google.com/assets/colab-badge.svg\" alt=\"Open In Colab\"/></a>"
      ]
    },
    {
      "cell_type": "markdown",
      "metadata": {
        "id": "kJNib6SIAGVa",
        "colab_type": "text"
      },
      "source": [
        "# NLP with Disaster Tweets\n",
        "\n",
        "Kaggle contest page: https://www.kaggle.com/c/nlp-getting-started/overview\n",
        "\n",
        "Task: predicts which Tweets are about real disasters and which one’s aren’t. Return value is either 1 (real) or 0 (unreal) .\n"
      ]
    },
    {
      "cell_type": "code",
      "metadata": {
        "id": "-q8SHrDH_8Pt",
        "colab_type": "code",
        "colab": {
          "base_uri": "https://localhost:8080/",
          "height": 105
        },
        "outputId": "cfff8eab-5d1d-4513-f776-e220cd39d4b6"
      },
      "source": [
        "# Load packages \n",
        "import math\n",
        "import re\n",
        "import os\n",
        "import timeit\n",
        "import tensorflow as tf\n",
        "import numpy as np\n",
        "import pandas as pd\n",
        "import seaborn as sns\n",
        "import matplotlib.pyplot as plt\n",
        "import nltk\n",
        "import logging\n",
        "import time\n",
        "\n",
        "from sklearn import svm\n",
        "from sklearn.linear_model import LogisticRegression\n",
        "from sklearn.model_selection import train_test_split\n",
        "from sklearn.metrics import accuracy_score, confusion_matrix, classification_report, f1_score\n",
        "from sklearn.naive_bayes import MultinomialNB\n",
        "from sklearn.feature_extraction.text import CountVectorizer, TfidfVectorizer\n",
        "logging.basicConfig(format='[%(asctime)s %(levelname)8s] %(message)s', level=logging.INFO, datefmt='%m-%d %H:%M:%S')\n",
        "\n",
        "from keras import layers, Input\n",
        "from keras.callbacks import EarlyStopping, ModelCheckpoint\n",
        "from keras.models import Sequential, Model\n",
        "from keras.layers import Flatten, Dense, Embedding, Dropout, LSTM, GRU, Bidirectional\n",
        "from keras.utils import to_categorical\n",
        "from keras.preprocessing.text import Tokenizer\n",
        "from keras.preprocessing.sequence import pad_sequences\n",
        "import gensim.downloader as api\n"
      ],
      "execution_count": 1,
      "outputs": [
        {
          "output_type": "stream",
          "text": [
            "/usr/local/lib/python3.6/dist-packages/statsmodels/tools/_testing.py:19: FutureWarning: pandas.util.testing is deprecated. Use the functions in the public API at pandas.testing instead.\n",
            "  import pandas.util.testing as tm\n",
            "Using TensorFlow backend.\n",
            "[05-13 03:28:35     INFO] 'pattern' package not found; tag filters are not available for English\n"
          ],
          "name": "stderr"
        }
      ]
    },
    {
      "cell_type": "markdown",
      "metadata": {
        "id": "aJLCawmzA1WS",
        "colab_type": "text"
      },
      "source": [
        "## Explore data\n"
      ]
    },
    {
      "cell_type": "code",
      "metadata": {
        "id": "1ldINPVLA5Yg",
        "colab_type": "code",
        "colab": {
          "base_uri": "https://localhost:8080/",
          "height": 204
        },
        "outputId": "a51c566a-fa14-403d-f875-6187c398bc2b"
      },
      "source": [
        "! wget -O tweets.zip ali.140714.xyz:8000/nlp-getting-started.zip \n",
        "! unzip tweets.zip \n",
        "! ls\n",
        "! wget -O labels.csv ali.140714.xyz:8000/leaked_tweet_labels.csv\n"
      ],
      "execution_count": 55,
      "outputs": [
        {
          "output_type": "stream",
          "text": [
            "--2020-05-13 05:59:28--  http://ali.140714.xyz:8000/leaked_tweet_labels.csv\n",
            "Resolving ali.140714.xyz (ali.140714.xyz)... 47.240.16.188\n",
            "Connecting to ali.140714.xyz (ali.140714.xyz)|47.240.16.188|:8000... connected.\n",
            "HTTP request sent, awaiting response... 200 OK\n",
            "Length: 22746 (22K) [text/csv]\n",
            "Saving to: ‘labels.csv’\n",
            "\n",
            "labels.csv          100%[===================>]  22.21K   131KB/s    in 0.2s    \n",
            "\n",
            "2020-05-13 05:59:28 (131 KB/s) - ‘labels.csv’ saved [22746/22746]\n",
            "\n"
          ],
          "name": "stdout"
        }
      ]
    },
    {
      "cell_type": "code",
      "metadata": {
        "id": "QxzysppNBDne",
        "colab_type": "code",
        "colab": {
          "base_uri": "https://localhost:8080/",
          "height": 544
        },
        "outputId": "ed81af6d-91bf-42ff-869c-276ae8ed7313"
      },
      "source": [
        "train = pd.read_csv('train.csv')\n",
        "train.target.value_counts() \n",
        "\"\"\" \n",
        "0    4342\n",
        "1    3271\n",
        "Name: target, dtype: int64\n",
        "Good, so the data is WELL balanced\n",
        "\"\"\"\n",
        "train.keyword.value_counts()\n",
        "train.text.str.len().nsmallest(30)"
      ],
      "execution_count": 3,
      "outputs": [
        {
          "output_type": "execute_result",
          "data": {
            "text/plain": [
              "1882     7\n",
              "4890     7\n",
              "5115     7\n",
              "24       8\n",
              "30       8\n",
              "3670     8\n",
              "4971     8\n",
              "28       9\n",
              "3667     9\n",
              "3749    10\n",
              "6705    10\n",
              "22      11\n",
              "4735    11\n",
              "5184    11\n",
              "6015    11\n",
              "784     12\n",
              "6522    12\n",
              "6917    12\n",
              "7470    12\n",
              "16      13\n",
              "2496    13\n",
              "3696    13\n",
              "15      14\n",
              "849     14\n",
              "6174    14\n",
              "6277    14\n",
              "7589    14\n",
              "900     15\n",
              "6224    15\n",
              "6258    15\n",
              "Name: text, dtype: int64"
            ]
          },
          "metadata": {
            "tags": []
          },
          "execution_count": 3
        }
      ]
    },
    {
      "cell_type": "markdown",
      "metadata": {
        "id": "inq21zEjCoPF",
        "colab_type": "text"
      },
      "source": [
        "# CNN\n",
        "Dive into the data, build a baseline model with CNN"
      ]
    },
    {
      "cell_type": "code",
      "metadata": {
        "id": "iLxdiCYSCzEq",
        "colab_type": "code",
        "colab": {}
      },
      "source": [
        "# Base class for classifier\n",
        "class Classifier():\n",
        "  def __init__(self):\n",
        "    self.train = None\n",
        "    self.test = None \n",
        "    self.model = None\n",
        "\n",
        "  def load_data(self, train_file='train.csv', test_file='test.csv'):\n",
        "      \"\"\" Load train, test csv files and return pandas.DataFrame\n",
        "      \"\"\"\n",
        "      self.train = pd.read_csv(train_file, engine='python', encoding='utf-8', error_bad_lines=False)\n",
        "      self.test = pd.read_csv(test_file, engine='python', encoding='utf-8', error_bad_lines=False)\n",
        "      logging.info('CSV data loaded')\n",
        "  \n",
        "  def countvectorize(self):\n",
        "      tv = TfidfVectorizer(ngram_range=(1,3), token_pattern=r'\\w{1,}',\n",
        "               min_df=3, max_df=0.9, strip_accents='unicode', use_idf=1,\n",
        "               smooth_idf=1, sublinear_tf=1, max_features=5000)\n",
        "      tv = CountVectorizer()\n",
        "      tv.fit(self.train.question_text)\n",
        "      self.vector_train = tv.transform(self.train.question_text)\n",
        "      self.vector_test  = tv.transform(self.test.question_text)\n",
        "      logging.info(\"Train & test text tokenized\")\n",
        "\n",
        "  def build_model(self):\n",
        "      pass\n",
        "\n",
        "  def run_model(self):\n",
        "      # Choose your own classifier: self.model and run it\n",
        "      logging.info(f\"{self.__class__.__name__} starts running.\")\n",
        "      labels = self.train.target\n",
        "      x_train, x_val, y_train, y_val = train_test_split(self.vector_train, labels, test_size=0.2, random_state=2090)\n",
        "      self.model.fit(x_train, y_train)\n",
        "      y_preds = self.model.predict(x_val)\n",
        "\n",
        "      logging.info(f\"Accuracy score: {accuracy_score(y_val, y_preds)}\")\n",
        "      logging.info(f\"Confusion matrix: \") \n",
        "      print(confusion_matrix(y_val, y_preds))\n",
        "      print(\"Classificaiton report:\\n\", classification_report(y_val, y_preds, target_names=[\"Sincere\", \"Insincere\"]))\n",
        "      # y_preds = self.model.predict(self.vector_test)\n",
        "      return y_preds\n",
        "\n",
        "  def save_predictions(self, y_preds):\n",
        "      sub = pd.read_csv(f\"sample_submission.csv\")\n",
        "      sub['prediction'] = y_preds \n",
        "      sub.to_csv(f\"submission_{self.__class__.__name__}.csv\", index=False)\n",
        "      logging.info('Prediction exported to submisison.csv')\n",
        "  \n",
        "  def pipeline(self):\n",
        "      s_time = time.clock()\n",
        "      self.load_data()\n",
        "      self.countvectorize()\n",
        "      self.build_model()\n",
        "      self.save_predictions(self.run_model())\n",
        "      logging.info(f\"Program running for {time.clock() - s_time} seconds\")\n",
        "\n",
        "class C_Bayes(Classifier):\n",
        "  def build_model(self):\n",
        "      self.model = MultinomialNB()\n",
        "      return self.model\n",
        "\n",
        "# Logistic Regression \n",
        "class C_LR(Classifier):\n",
        "  def build_model(self):\n",
        "      self.model = LogisticRegression(n_jobs=10, solver='lbfgs', C=0.1, verbose=1)\n",
        "      return self.model\n",
        "\n",
        "class C_SVM(Classifier):\n",
        "  def load_data(self, train_file='train.csv', test_file='test.csv'):\n",
        "      \"\"\" Load train, test csv files and return pandas.DataFrame\n",
        "      \"\"\"\n",
        "      self.train = pd.read_csv(train_file, engine='python', encoding='utf-8', error_bad_lines=False)\n",
        "      self.train = self.train.sample(100000)\n",
        "      self.test = pd.read_csv(test_file, engine='python', encoding='utf-8', error_bad_lines=False)\n",
        "      logging.info('CSV data loaded')\n",
        "\n",
        "  def build_model(self):\n",
        "      self.model = svm.SVC()\n",
        "      return self.model\n",
        "\n",
        "class C_Ensemble(Classifier):\n",
        "  def ensemble(self):\n",
        "      s_time = time.perf_counter()\n",
        "      self.load_data()\n",
        "      self.countvectorize()\n",
        "\n",
        "      nb = MultinomialNB()\n",
        "      lr = LogisticRegression(n_jobs=10, solver='saga', C=0.1, verbose=1)\n",
        "      svc = svm.SVC()\n",
        "\n",
        "      all_preds = [0] * self.test.shape[0]\n",
        "      for m in (nb, lr, svc):\n",
        "          self.model = m\n",
        "          if m == svc: \n",
        "              self.load_data()\n",
        "              self.train = self.train.sample(10000)\n",
        "              self.countvectorize()\n",
        "          all_preds += self.run_model()\n",
        "\n",
        "      all_preds = [1 if p > 0 else 0 for p in all_preds]\n",
        "      self.save_predictions(all_preds)\n",
        "      logging.info(f\"Program running for {time.perf_counter() - s_time} seconds\")\n",
        "\n",
        "\n",
        "class Helper():\n",
        "    def locate_threshold(self, model, x_val, y_val):\n",
        "        y_probs = model.predict(x_val, batch_size=1024, verbose=1)\n",
        "        best_threshold = best_f1 = pre_f1 = 0\n",
        "        history = []\n",
        "\n",
        "        for i in np.arange(0.01, 1, 0.01):\n",
        "          if len(y_probs[0]) >= 2:\n",
        "              y2_preds = [1 if e[1] >= i else 0 for e in y_probs]\n",
        "          else:\n",
        "              y2_preds = (y_probs > i).astype(int)\n",
        "\n",
        "          cur_f1 = f1_score(y_val, y2_preds, average='weighted')\n",
        "          history.append((i, cur_f1))\n",
        "          symbol = '+' if cur_f1 >= pre_f1 else '-'\n",
        "          print(\"Threshold {:6.4f}, f1_score: {:<0.8f}  {} {:<0.6f} \".format(i, cur_f1, symbol, abs(cur_f1 - pre_f1)))\n",
        "          pre_f1 = cur_f1\n",
        "\n",
        "          if cur_f1 >= best_f1:\n",
        "              best_f1 = cur_f1\n",
        "              best_threshold = i\n",
        "\n",
        "        print(f\"Best f1 score {best_f1}, best threshold {best_threshold}\")\n",
        "        plt.xlabel('Threshold')\n",
        "        plt.ylabel('f1_score')\n",
        "        plt.plot(*zip(*history))\n",
        "\n",
        "        return best_threshold\n",
        "\n",
        "class C_NN(Classifier):\n",
        "    def __init__(self, max_features=100000, embed_size=128, max_len=300):\n",
        "        self.max_features=max_features\n",
        "        self.embed_size=embed_size\n",
        "        self.max_len=max_len\n",
        "    \n",
        "    def tokenize_text(self, text_train, text_test):\n",
        "        '''@para: max_features, the most commenly used words in data set\n",
        "        @input are vector of text\n",
        "        '''\n",
        "        tokenizer = Tokenizer(num_words=self.max_features)\n",
        "        text = pd.concat([text_train, text_test])\n",
        "        tokenizer.fit_on_texts(text)\n",
        "\n",
        "        sequence_train = tokenizer.texts_to_sequences(text_train)\n",
        "        tokenized_train = pad_sequences(sequence_train, maxlen=self.max_len)\n",
        "        logging.info('Train text tokeninzed')\n",
        "\n",
        "        sequence_test = tokenizer.texts_to_sequences(text_test)\n",
        "        tokenized_test = pad_sequences(sequence_test, maxlen=self.max_len)\n",
        "        logging.info('Test text tokeninzed')\n",
        "        return tokenized_train, tokenized_test, tokenizer\n",
        "      \n",
        "    def build_model(self, embed_matrix=[]):\n",
        "        text_input = Input(shape=(self.max_len, ))\n",
        "        embed_text = layers.Embedding(self.max_features, self.embed_size)(text_input)\n",
        "        if len(embed_matrix) > 0:\n",
        "            embed_text = layers.Embedding(self.max_features, self.embed_size, \\\n",
        "                                          weights=[embed_matrix], trainable=False)(text_input)\n",
        "            \n",
        "\n",
        "        branch_a = layers.Bidirectional(layers.GRU(64, return_sequences=True))(embed_text)\n",
        "        branch_b = layers.GlobalMaxPool1D()(branch_a)\n",
        "\n",
        "        branch_c = layers.Dense(64, activation='relu')(branch_b)\n",
        "        branch_d = layers.Dropout(0.2)(branch_c)\n",
        "        branch_z = layers.Dense(1, activation='sigmoid')(branch_d)\n",
        "        \n",
        "        model = Model(inputs=text_input, outputs=branch_z)\n",
        "        model.compile(loss='binary_crossentropy', optimizer='adam', metrics=['accuracy'])\n",
        "\n",
        "        return model\n",
        "        \n",
        "    def embed_word_vector(self, word_index, model='glove-wiki-gigaword-100'):\n",
        "        glove = api.load(model) # default: wikipedia 6B tokens, uncased\n",
        "        zeros = [0] * self.embed_size\n",
        "        matrix = np.zeros((self.max_features, self.embed_size))\n",
        "          \n",
        "        for word, i in word_index.items(): \n",
        "            if i >= self.max_features or word not in glove: continue # matrix[0] is zeros, that's also why >= is here\n",
        "            matrix[i] = glove[word]\n",
        "\n",
        "        logging.info('Matrix with embedded word vector created')\n",
        "        return matrix\n",
        "\n",
        "    def run(self, x_train, y_train):\n",
        "        checkpoint = ModelCheckpoint('weights_base_best.hdf5', monitor='val_acc', verbose=1, save_best_only=True, mode='max')\n",
        "        early = EarlyStopping(monitor=\"val_acc\", mode=\"max\", patience=5)\n",
        "\n",
        "        self.model.compile(optimizer='rmsprop', loss='binary_crossentropy', metrics=['acc'])\n",
        "        X_tra, X_val, y_tra, y_val = train_test_split(x_train, y_train, train_size=0.8, random_state=2020)\n",
        "        BATCH_SIZE = max(16, 2 ** int(math.log(len(X_tra) / 100, 2)))\n",
        "        logging.info(f\"Batch size is set to {BATCH_SIZE}\")\n",
        "        history = self.model.fit(X_tra, y_tra, epochs=2, batch_size=BATCH_SIZE, validation_data=(X_val, y_val), \\\n",
        "                              callbacks=[checkpoint, early], verbose=1)\n",
        "\n",
        "        y_pred = self.model.predict(X_val, batch_size=64, verbose=1)\n",
        "        y_pred_bool = np.argmax(y_pred, axis=1)\n",
        "        print(classification_report(y_val, y_pred_bool))\n",
        "        return history\n"
      ],
      "execution_count": 0,
      "outputs": []
    },
    {
      "cell_type": "markdown",
      "metadata": {
        "id": "aMYEiF3dDgsO",
        "colab_type": "text"
      },
      "source": [
        "Build a simple model and run"
      ]
    },
    {
      "cell_type": "code",
      "metadata": {
        "id": "twNhLSNSDksb",
        "colab_type": "code",
        "colab": {
          "base_uri": "https://localhost:8080/",
          "height": 224
        },
        "outputId": "b8677799-b925-42e6-cbef-2785005859fc"
      },
      "source": [
        "c = C_NN(max_features=10000, embed_size=200, max_len=150)\n",
        "c.load_data()\n",
        "vector_train, vector_test, tokenizer = c.tokenize_text(c.train.text, c.test.text)\n",
        "\n",
        "matrix = c.embed_word_vector(tokenizer.word_index, 'glove-twitter-200')\n",
        "model = c.build_model(matrix)"
      ],
      "execution_count": 31,
      "outputs": [
        {
          "output_type": "stream",
          "text": [
            "[05-13 03:54:57     INFO] CSV data loaded\n",
            "[05-13 03:54:57     INFO] Train text tokeninzed\n",
            "[05-13 03:54:57     INFO] Test text tokeninzed\n",
            "[05-13 03:54:57     INFO] Creating /root/gensim-data\n"
          ],
          "name": "stderr"
        },
        {
          "output_type": "stream",
          "text": [
            "[=================================================-] 99.1% 751.8/758.5MB downloaded\n"
          ],
          "name": "stdout"
        },
        {
          "output_type": "stream",
          "text": [
            "[05-13 03:56:14     INFO] glove-twitter-200 downloaded\n",
            "[05-13 03:56:14     INFO] loading projection weights from /root/gensim-data/glove-twitter-200/glove-twitter-200.gz\n",
            "/usr/local/lib/python3.6/dist-packages/smart_open/smart_open_lib.py:253: UserWarning: This function is deprecated, use smart_open.open instead. See the migration notes for details: https://github.com/RaRe-Technologies/smart_open/blob/master/README.rst#migrating-to-the-new-open-function\n",
            "  'See the migration notes for details: %s' % _MIGRATION_NOTES_URL\n",
            "[05-13 04:00:07     INFO] loaded (1193514, 200) matrix from /root/gensim-data/glove-twitter-200/glove-twitter-200.gz\n",
            "[05-13 04:00:07     INFO] Matrix with embedded word vector created\n"
          ],
          "name": "stderr"
        }
      ]
    },
    {
      "cell_type": "code",
      "metadata": {
        "id": "awAEHBpsEQOR",
        "colab_type": "code",
        "colab": {
          "base_uri": "https://localhost:8080/",
          "height": 136
        },
        "outputId": "12af8878-08ad-42c6-aeb4-d8dff7d9d361"
      },
      "source": [
        "X_tra, X_val, y_tra, y_val = train_test_split(vector_train, c.train.target, train_size=0.95, random_state=2020)\n",
        "history = model.fit(X_tra, y_tra, epochs=3, batch_size=32, validation_data=(X_val, y_val))"
      ],
      "execution_count": 52,
      "outputs": [
        {
          "output_type": "stream",
          "text": [
            "Train on 7232 samples, validate on 381 samples\n",
            "Epoch 1/3\n",
            "7232/7232 [==============================] - 125s 17ms/step - loss: 0.1058 - accuracy: 0.9678 - val_loss: 0.1921 - val_accuracy: 0.9370\n",
            "Epoch 2/3\n",
            "7232/7232 [==============================] - 124s 17ms/step - loss: 0.0991 - accuracy: 0.9683 - val_loss: 0.2299 - val_accuracy: 0.9239\n",
            "Epoch 3/3\n",
            "7232/7232 [==============================] - 124s 17ms/step - loss: 0.0862 - accuracy: 0.9732 - val_loss: 0.2533 - val_accuracy: 0.9108\n"
          ],
          "name": "stdout"
        }
      ]
    },
    {
      "cell_type": "code",
      "metadata": {
        "id": "wgatqwT1Foif",
        "colab_type": "code",
        "colab": {
          "base_uri": "https://localhost:8080/",
          "height": 1000
        },
        "outputId": "e54c7f6c-3799-46e8-f13d-e3bc42510720"
      },
      "source": [
        "# Find maximum threshold \n",
        "threshold = Helper().locate_threshold(model, X_val, y_val)\n"
      ],
      "execution_count": 53,
      "outputs": [
        {
          "output_type": "stream",
          "text": [
            "\r381/381 [==============================] - 0s 171us/step\n",
            "Threshold 0.0100, f1_score: 0.71551724  + 0.715517 \n",
            "Threshold 0.0200, f1_score: 0.75972540  + 0.044208 \n",
            "Threshold 0.0300, f1_score: 0.78758950  + 0.027864 \n",
            "Threshold 0.0400, f1_score: 0.80097087  + 0.013381 \n",
            "Threshold 0.0500, f1_score: 0.81296758  + 0.011997 \n",
            "Threshold 0.0600, f1_score: 0.82653061  + 0.013563 \n",
            "Threshold 0.0700, f1_score: 0.83204134  + 0.005511 \n",
            "Threshold 0.0800, f1_score: 0.84073107  + 0.008690 \n",
            "Threshold 0.0900, f1_score: 0.85638298  + 0.015652 \n",
            "Threshold 0.1000, f1_score: 0.86327078  + 0.006888 \n",
            "Threshold 0.1100, f1_score: 0.86792453  + 0.004654 \n",
            "Threshold 0.1200, f1_score: 0.87738420  + 0.009460 \n",
            "Threshold 0.1300, f1_score: 0.87431694  - 0.003067 \n",
            "Threshold 0.1400, f1_score: 0.88642659  + 0.012110 \n",
            "Threshold 0.1500, f1_score: 0.88888889  + 0.002462 \n",
            "Threshold 0.1600, f1_score: 0.89075630  + 0.001867 \n",
            "Threshold 0.1700, f1_score: 0.88764045  - 0.003116 \n",
            "Threshold 0.1800, f1_score: 0.89014085  + 0.002500 \n",
            "Threshold 0.1900, f1_score: 0.89265537  + 0.002515 \n",
            "Threshold 0.2000, f1_score: 0.89265537  + 0.000000 \n",
            "Threshold 0.2100, f1_score: 0.89265537  + 0.000000 \n",
            "Threshold 0.2200, f1_score: 0.89772727  + 0.005072 \n",
            "Threshold 0.2300, f1_score: 0.90028490  + 0.002558 \n",
            "Threshold 0.2400, f1_score: 0.90285714  + 0.002572 \n",
            "Threshold 0.2500, f1_score: 0.91066282  + 0.007806 \n",
            "Threshold 0.2600, f1_score: 0.91329480  + 0.002632 \n",
            "Threshold 0.2700, f1_score: 0.91014493  - 0.003150 \n",
            "Threshold 0.2800, f1_score: 0.91014493  + 0.000000 \n",
            "Threshold 0.2900, f1_score: 0.90697674  - 0.003168 \n",
            "Threshold 0.3000, f1_score: 0.90962099  + 0.002644 \n",
            "Threshold 0.3100, f1_score: 0.90962099  + 0.000000 \n",
            "Threshold 0.3200, f1_score: 0.90643275  - 0.003188 \n",
            "Threshold 0.3300, f1_score: 0.90909091  + 0.002658 \n",
            "Threshold 0.3400, f1_score: 0.90855457  - 0.000536 \n",
            "Threshold 0.3500, f1_score: 0.91124260  + 0.002688 \n",
            "Threshold 0.3600, f1_score: 0.91124260  + 0.000000 \n",
            "Threshold 0.3700, f1_score: 0.91124260  + 0.000000 \n",
            "Threshold 0.3800, f1_score: 0.90090090  - 0.010342 \n",
            "Threshold 0.3900, f1_score: 0.90090090  + 0.000000 \n",
            "Threshold 0.4000, f1_score: 0.89759036  - 0.003311 \n",
            "Threshold 0.4100, f1_score: 0.89759036  + 0.000000 \n",
            "Threshold 0.4200, f1_score: 0.89759036  + 0.000000 \n",
            "Threshold 0.4300, f1_score: 0.89425982  - 0.003331 \n",
            "Threshold 0.4400, f1_score: 0.89425982  + 0.000000 \n",
            "Threshold 0.4500, f1_score: 0.89425982  + 0.000000 \n",
            "Threshold 0.4600, f1_score: 0.89090909  - 0.003351 \n",
            "Threshold 0.4700, f1_score: 0.89634146  + 0.005432 \n",
            "Threshold 0.4800, f1_score: 0.89634146  + 0.000000 \n",
            "Threshold 0.4900, f1_score: 0.89634146  + 0.000000 \n",
            "Threshold 0.5000, f1_score: 0.89634146  + 0.000000 \n",
            "Threshold 0.5100, f1_score: 0.89634146  + 0.000000 \n",
            "Threshold 0.5200, f1_score: 0.89634146  + 0.000000 \n",
            "Threshold 0.5300, f1_score: 0.89296636  - 0.003375 \n",
            "Threshold 0.5400, f1_score: 0.89570552  + 0.002739 \n",
            "Threshold 0.5500, f1_score: 0.89230769  - 0.003398 \n",
            "Threshold 0.5600, f1_score: 0.88888889  - 0.003419 \n",
            "Threshold 0.5700, f1_score: 0.88473520  - 0.004154 \n",
            "Threshold 0.5800, f1_score: 0.88473520  + 0.000000 \n",
            "Threshold 0.5900, f1_score: 0.88125000  - 0.003485 \n",
            "Threshold 0.6000, f1_score: 0.87774295  - 0.003507 \n",
            "Threshold 0.6100, f1_score: 0.87774295  + 0.000000 \n",
            "Threshold 0.6200, f1_score: 0.87421384  - 0.003529 \n",
            "Threshold 0.6300, f1_score: 0.87421384  + 0.000000 \n",
            "Threshold 0.6400, f1_score: 0.87066246  - 0.003551 \n",
            "Threshold 0.6500, f1_score: 0.87066246  + 0.000000 \n",
            "Threshold 0.6600, f1_score: 0.87619048  + 0.005528 \n",
            "Threshold 0.6700, f1_score: 0.87619048  + 0.000000 \n",
            "Threshold 0.6800, f1_score: 0.87261146  - 0.003579 \n",
            "Threshold 0.6900, f1_score: 0.87261146  + 0.000000 \n",
            "Threshold 0.7000, f1_score: 0.86900958  - 0.003602 \n",
            "Threshold 0.7100, f1_score: 0.86900958  + 0.000000 \n",
            "Threshold 0.7200, f1_score: 0.86900958  + 0.000000 \n",
            "Threshold 0.7300, f1_score: 0.87179487  + 0.002785 \n",
            "Threshold 0.7400, f1_score: 0.86816720  - 0.003628 \n",
            "Threshold 0.7500, f1_score: 0.85714286  - 0.011024 \n",
            "Threshold 0.7600, f1_score: 0.85714286  + 0.000000 \n",
            "Threshold 0.7700, f1_score: 0.85342020  - 0.003723 \n",
            "Threshold 0.7800, f1_score: 0.85342020  + 0.000000 \n",
            "Threshold 0.7900, f1_score: 0.84590164  - 0.007519 \n",
            "Threshold 0.8000, f1_score: 0.84488449  - 0.001017 \n",
            "Threshold 0.8100, f1_score: 0.83333333  - 0.011551 \n",
            "Threshold 0.8200, f1_score: 0.83333333  + 0.000000 \n",
            "Threshold 0.8300, f1_score: 0.82154882  - 0.011785 \n",
            "Threshold 0.8400, f1_score: 0.81632653  - 0.005222 \n",
            "Threshold 0.8500, f1_score: 0.81632653  + 0.000000 \n",
            "Threshold 0.8600, f1_score: 0.80821918  - 0.008107 \n",
            "Threshold 0.8700, f1_score: 0.79584775  - 0.012371 \n",
            "Threshold 0.8800, f1_score: 0.79584775  + 0.000000 \n",
            "Threshold 0.8900, f1_score: 0.78321678  - 0.012631 \n",
            "Threshold 0.9000, f1_score: 0.77464789  - 0.008569 \n",
            "Threshold 0.9100, f1_score: 0.75714286  - 0.017505 \n",
            "Threshold 0.9200, f1_score: 0.76258993  + 0.005447 \n",
            "Threshold 0.9300, f1_score: 0.76086957  - 0.001720 \n",
            "Threshold 0.9400, f1_score: 0.75182482  - 0.009045 \n",
            "Threshold 0.9500, f1_score: 0.72862454  - 0.023200 \n",
            "Threshold 0.9600, f1_score: 0.70454545  - 0.024079 \n",
            "Threshold 0.9700, f1_score: 0.68461538  - 0.019930 \n",
            "Threshold 0.9800, f1_score: 0.66929134  - 0.015324 \n",
            "Threshold 0.9900, f1_score: 0.59751037  - 0.071781 \n",
            "Best f1 score 0.9132947976878611, best threshold 0.26\n"
          ],
          "name": "stdout"
        },
        {
          "output_type": "display_data",
          "data": {
            "image/png": "[encoded data removed]",
            "text/plain": [
              "<Figure size 432x288 with 1 Axes>"
            ]
          },
          "metadata": {
            "tags": [],
            "needs_background": "light"
          }
        }
      ]
    },
    {
      "cell_type": "code",
      "metadata": {
        "id": "bvo20EjjIDYr",
        "colab_type": "code",
        "colab": {
          "base_uri": "https://localhost:8080/",
          "height": 34
        },
        "outputId": "8a9b109c-9089-41b6-b0b3-747bb008b82f"
      },
      "source": [
        "# output submission\n",
        "sub = pd.read_csv('sample_submission.csv')\n",
        "preds = model.predict(vector_test)\n",
        "\n",
        "if not threshold:\n",
        "    threshold = 0.3\n",
        "preds = (preds >= threshold).astype(int)\n",
        "sub.target = preds\n",
        "sub.to_csv('submission.csv', index=False)\n",
        "\n",
        "labels = pd.read_csv('labels.csv').target\n",
        "print(\"The submission f1_score is: \", f1_score(labels, preds, average='weighted'))\n",
        "# !curl -X PUT --upload-file submission.csv ali.140714.xyz:8000/tweets.csv \n",
        "# submission result\n",
        "# GRU 64, max_features = 10000, embed_size=128, max_len=150, no embed, f1_score 0.75460\n",
        "# GRU 64, max_features = 10000, embed_size=128, max_len=150, no embed, train_size 0.9 (default 0.8), f1_score 0.81083\n"
      ],
      "execution_count": 60,
      "outputs": [
        {
          "output_type": "stream",
          "text": [
            "The submission f1_score is:  0.7818268904232742\n"
          ],
          "name": "stdout"
        }
      ]
    },
    {
      "cell_type": "code",
      "metadata": {
        "id": "UlFzsb2GLEJV",
        "colab_type": "code",
        "colab": {}
      },
      "source": [
        ""
      ],
      "execution_count": 0,
      "outputs": []
    }
  ]
}