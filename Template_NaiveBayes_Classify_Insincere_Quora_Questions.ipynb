{
  "nbformat": 4,
  "nbformat_minor": 0,
  "metadata": {
    "colab": {
      "name": "NaiveBayes_Classify_Insincere_Quora_Questions.ipynb",
      "provenance": [],
      "private_outputs": true,
      "collapsed_sections": [],
      "authorship_tag": "ABX9TyMkDV2o46UoIfXmpoK6FXYB",
      "include_colab_link": true
    },
    "kernelspec": {
      "name": "python3",
      "display_name": "Python 3"
    },
    "accelerator": "GPU"
  },
  "cells": [
    {
      "cell_type": "markdown",
      "metadata": {
        "id": "view-in-github",
        "colab_type": "text"
      },
      "source": [
        "<a href=\"https://colab.research.google.com/github/GaoangLiu/ipynb/blob/master/Template_NaiveBayes_Classify_Insincere_Quora_Questions.ipynb\" target=\"_parent\"><img src=\"https://colab.research.google.com/assets/colab-badge.svg\" alt=\"Open In Colab\"/></a>"
      ]
    },
    {
      "cell_type": "code",
      "metadata": {
        "id": "b3E1uAtsT17O",
        "colab_type": "code",
        "colab": {}
      },
      "source": [
        "# Load packages \n",
        "import math\n",
        "import re\n",
        "import os\n",
        "import timeit\n",
        "import tensorflow as tf\n",
        "import numpy as np\n",
        "import pandas as pd\n",
        "import seaborn as sns\n",
        "import matplotlib.pyplot as plt\n",
        "import nltk\n",
        "import logging\n",
        "\n",
        "from sklearn.model_selection import train_test_split\n",
        "from sklearn.metrics import accuracy_score\n",
        "from sklearn.naive_bayes import MultinomialNB\n",
        "from sklearn.feature_extraction.text import CountVectorizer \n",
        "logging.basicConfig(format='[%(asctime)s %(levelname)-8s] %(message)s', level=logging.INFO, datefmt='%m-%d %H:%M:%S')\n"
      ],
      "execution_count": 0,
      "outputs": []
    },
    {
      "cell_type": "code",
      "metadata": {
        "id": "U656CdirUF9z",
        "colab_type": "code",
        "colab": {}
      },
      "source": [
        "# Get data\n",
        "! wget -O quora.zip ali.140714.xyz:8000/quora.zip \n",
        "! unzip quora.zip \n",
        "! ls "
      ],
      "execution_count": 0,
      "outputs": []
    },
    {
      "cell_type": "code",
      "metadata": {
        "id": "EgSTkE-jVypo",
        "colab_type": "code",
        "colab": {}
      },
      "source": [
        "class Bayes():\n",
        "  def __init__(self):\n",
        "    self.train = None\n",
        "    self.test = None \n",
        "\n",
        "  def load_data(self, train_file='train.csv', test_file='test.csv'):\n",
        "      \"\"\" Load train, test csv files and return pandas.DataFrame\n",
        "      \"\"\"\n",
        "      self.train = pd.read_csv(train_file, engine='python', encoding='utf-8', error_bad_lines=False)\n",
        "      self.test = pd.read_csv(test_file, engine='python', encoding='utf-8', error_bad_lines=False)\n",
        "      logging.info('CSV data loaded')\n",
        "      return train, test\n",
        "  \n",
        "  def countvectorize(self):\n",
        "      cv = CountVectorizer(stop_words='english')\n",
        "      cv.fit(self.train.question_text)\n",
        "      self.vector_train = cv.transform(self.train.question_text)\n",
        "      self.vector_test  = cv.transform(self.test.question_text)\n",
        "      logging.info(\"Train test text tokenized\")\n",
        "\n",
        "  def run_model(self):\n",
        "      nb = MultinomialNB()\n",
        "      labels = self.train.target\n",
        "      x_train, x_val, y_train, y_val = train_test_split(self.vector_train, labels, random_state=23)\n",
        "      nb.fit(x_train, y_train)\n",
        "      y_val = nb.predict(x_val)\n",
        "      logging.info(f\"Accuracy score: {accuracy_score(y_val, y_val)}\")\n",
        "\n",
        "      y_preds = nb.predict(self.vector_test)\n",
        "      return y_preds\n",
        "  \n",
        "  def save_predictions(self, y_preds):\n",
        "      sub = pd.read_csv('sample_submission.csv')\n",
        "      sub['prediction'] = y_preds \n",
        "      sub.to_csv('submission.csv', index=False)\n",
        "      logging.info('Prediction exported to submisison.csv')\n",
        "\n",
        "  \n",
        "b = Bayes()\n",
        "b.load_data()\n",
        "b.countvectorize()\n",
        "yp = b.run_model()\n",
        "b.save_predictions(yp)"
      ],
      "execution_count": 0,
      "outputs": []
    },
    {
      "cell_type": "code",
      "metadata": {
        "id": "1bcd0v4GZiM2",
        "colab_type": "code",
        "colab": {}
      },
      "source": [
        ""
      ],
      "execution_count": 0,
      "outputs": []
    }
  ]
}