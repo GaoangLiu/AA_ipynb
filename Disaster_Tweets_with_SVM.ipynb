{
  "nbformat": 4,
  "nbformat_minor": 0,
  "metadata": {
    "colab": {
      "name": "Disaster Tweets with SVM.ipynb",
      "provenance": [],
      "collapsed_sections": [],
      "authorship_tag": "ABX9TyPbmGItBUXGpyDcaNiPtldv",
      "include_colab_link": true
    },
    "kernelspec": {
      "name": "python3",
      "display_name": "Python 3"
    },
    "widgets": {
      "application/vnd.jupyter.widget-state+json": {
        "4a89a777bc654924888fbc7a181675b6": {
          "model_module": "@jupyter-widgets/controls",
          "model_name": "HBoxModel",
          "state": {
            "_view_name": "HBoxView",
            "_dom_classes": [],
            "_model_name": "HBoxModel",
            "_view_module": "@jupyter-widgets/controls",
            "_model_module_version": "1.5.0",
            "_view_count": null,
            "_view_module_version": "1.5.0",
            "box_style": "",
            "layout": "IPY_MODEL_b47e033eebf64235aa87f22cdbf98d07",
            "_model_module": "@jupyter-widgets/controls",
            "children": [
              "IPY_MODEL_8254d8d1e943487c805660eb075fe0a1",
              "IPY_MODEL_4c5874091f5741e9906d090dc0d5620a"
            ]
          }
        },
        "b47e033eebf64235aa87f22cdbf98d07": {
          "model_module": "@jupyter-widgets/base",
          "model_name": "LayoutModel",
          "state": {
            "_view_name": "LayoutView",
            "grid_template_rows": null,
            "right": null,
            "justify_content": null,
            "_view_module": "@jupyter-widgets/base",
            "overflow": null,
            "_model_module_version": "1.2.0",
            "_view_count": null,
            "flex_flow": null,
            "width": null,
            "min_width": null,
            "border": null,
            "align_items": null,
            "bottom": null,
            "_model_module": "@jupyter-widgets/base",
            "top": null,
            "grid_column": null,
            "overflow_y": null,
            "overflow_x": null,
            "grid_auto_flow": null,
            "grid_area": null,
            "grid_template_columns": null,
            "flex": null,
            "_model_name": "LayoutModel",
            "justify_items": null,
            "grid_row": null,
            "max_height": null,
            "align_content": null,
            "visibility": null,
            "align_self": null,
            "height": null,
            "min_height": null,
            "padding": null,
            "grid_auto_rows": null,
            "grid_gap": null,
            "max_width": null,
            "order": null,
            "_view_module_version": "1.2.0",
            "grid_template_areas": null,
            "object_position": null,
            "object_fit": null,
            "grid_auto_columns": null,
            "margin": null,
            "display": null,
            "left": null
          }
        },
        "8254d8d1e943487c805660eb075fe0a1": {
          "model_module": "@jupyter-widgets/controls",
          "model_name": "FloatProgressModel",
          "state": {
            "_view_name": "ProgressView",
            "style": "IPY_MODEL_5b6224b1c7d54781a076fee3ae72214a",
            "_dom_classes": [],
            "description": "100%",
            "_model_name": "FloatProgressModel",
            "bar_style": "success",
            "max": 7613,
            "_view_module": "@jupyter-widgets/controls",
            "_model_module_version": "1.5.0",
            "value": 7613,
            "_view_count": null,
            "_view_module_version": "1.5.0",
            "orientation": "horizontal",
            "min": 0,
            "description_tooltip": null,
            "_model_module": "@jupyter-widgets/controls",
            "layout": "IPY_MODEL_f4b65f07857b424a8a23a6a7b9cea096"
          }
        },
        "4c5874091f5741e9906d090dc0d5620a": {
          "model_module": "@jupyter-widgets/controls",
          "model_name": "HTMLModel",
          "state": {
            "_view_name": "HTMLView",
            "style": "IPY_MODEL_24770d78315d4b16a82e4850165c14aa",
            "_dom_classes": [],
            "description": "",
            "_model_name": "HTMLModel",
            "placeholder": "​",
            "_view_module": "@jupyter-widgets/controls",
            "_model_module_version": "1.5.0",
            "value": " 7613/7613 [51:30&lt;00:00,  2.46it/s]",
            "_view_count": null,
            "_view_module_version": "1.5.0",
            "description_tooltip": null,
            "_model_module": "@jupyter-widgets/controls",
            "layout": "IPY_MODEL_a6e2f66c552740dc9a99e6d642bfbf40"
          }
        },
        "5b6224b1c7d54781a076fee3ae72214a": {
          "model_module": "@jupyter-widgets/controls",
          "model_name": "ProgressStyleModel",
          "state": {
            "_view_name": "StyleView",
            "_model_name": "ProgressStyleModel",
            "description_width": "initial",
            "_view_module": "@jupyter-widgets/base",
            "_model_module_version": "1.5.0",
            "_view_count": null,
            "_view_module_version": "1.2.0",
            "bar_color": null,
            "_model_module": "@jupyter-widgets/controls"
          }
        },
        "f4b65f07857b424a8a23a6a7b9cea096": {
          "model_module": "@jupyter-widgets/base",
          "model_name": "LayoutModel",
          "state": {
            "_view_name": "LayoutView",
            "grid_template_rows": null,
            "right": null,
            "justify_content": null,
            "_view_module": "@jupyter-widgets/base",
            "overflow": null,
            "_model_module_version": "1.2.0",
            "_view_count": null,
            "flex_flow": null,
            "width": null,
            "min_width": null,
            "border": null,
            "align_items": null,
            "bottom": null,
            "_model_module": "@jupyter-widgets/base",
            "top": null,
            "grid_column": null,
            "overflow_y": null,
            "overflow_x": null,
            "grid_auto_flow": null,
            "grid_area": null,
            "grid_template_columns": null,
            "flex": null,
            "_model_name": "LayoutModel",
            "justify_items": null,
            "grid_row": null,
            "max_height": null,
            "align_content": null,
            "visibility": null,
            "align_self": null,
            "height": null,
            "min_height": null,
            "padding": null,
            "grid_auto_rows": null,
            "grid_gap": null,
            "max_width": null,
            "order": null,
            "_view_module_version": "1.2.0",
            "grid_template_areas": null,
            "object_position": null,
            "object_fit": null,
            "grid_auto_columns": null,
            "margin": null,
            "display": null,
            "left": null
          }
        },
        "24770d78315d4b16a82e4850165c14aa": {
          "model_module": "@jupyter-widgets/controls",
          "model_name": "DescriptionStyleModel",
          "state": {
            "_view_name": "StyleView",
            "_model_name": "DescriptionStyleModel",
            "description_width": "",
            "_view_module": "@jupyter-widgets/base",
            "_model_module_version": "1.5.0",
            "_view_count": null,
            "_view_module_version": "1.2.0",
            "_model_module": "@jupyter-widgets/controls"
          }
        },
        "a6e2f66c552740dc9a99e6d642bfbf40": {
          "model_module": "@jupyter-widgets/base",
          "model_name": "LayoutModel",
          "state": {
            "_view_name": "LayoutView",
            "grid_template_rows": null,
            "right": null,
            "justify_content": null,
            "_view_module": "@jupyter-widgets/base",
            "overflow": null,
            "_model_module_version": "1.2.0",
            "_view_count": null,
            "flex_flow": null,
            "width": null,
            "min_width": null,
            "border": null,
            "align_items": null,
            "bottom": null,
            "_model_module": "@jupyter-widgets/base",
            "top": null,
            "grid_column": null,
            "overflow_y": null,
            "overflow_x": null,
            "grid_auto_flow": null,
            "grid_area": null,
            "grid_template_columns": null,
            "flex": null,
            "_model_name": "LayoutModel",
            "justify_items": null,
            "grid_row": null,
            "max_height": null,
            "align_content": null,
            "visibility": null,
            "align_self": null,
            "height": null,
            "min_height": null,
            "padding": null,
            "grid_auto_rows": null,
            "grid_gap": null,
            "max_width": null,
            "order": null,
            "_view_module_version": "1.2.0",
            "grid_template_areas": null,
            "object_position": null,
            "object_fit": null,
            "grid_auto_columns": null,
            "margin": null,
            "display": null,
            "left": null
          }
        },
        "b44104163e9b4a219e8079407d5666c0": {
          "model_module": "@jupyter-widgets/controls",
          "model_name": "HBoxModel",
          "state": {
            "_view_name": "HBoxView",
            "_dom_classes": [],
            "_model_name": "HBoxModel",
            "_view_module": "@jupyter-widgets/controls",
            "_model_module_version": "1.5.0",
            "_view_count": null,
            "_view_module_version": "1.5.0",
            "box_style": "",
            "layout": "IPY_MODEL_30166d8fe649459bb50b01f346acc0ba",
            "_model_module": "@jupyter-widgets/controls",
            "children": [
              "IPY_MODEL_cec65d10bd314fba8725c1664d1f210e",
              "IPY_MODEL_3b315367c10e49d781b9c4199e18db48"
            ]
          }
        },
        "30166d8fe649459bb50b01f346acc0ba": {
          "model_module": "@jupyter-widgets/base",
          "model_name": "LayoutModel",
          "state": {
            "_view_name": "LayoutView",
            "grid_template_rows": null,
            "right": null,
            "justify_content": null,
            "_view_module": "@jupyter-widgets/base",
            "overflow": null,
            "_model_module_version": "1.2.0",
            "_view_count": null,
            "flex_flow": null,
            "width": null,
            "min_width": null,
            "border": null,
            "align_items": null,
            "bottom": null,
            "_model_module": "@jupyter-widgets/base",
            "top": null,
            "grid_column": null,
            "overflow_y": null,
            "overflow_x": null,
            "grid_auto_flow": null,
            "grid_area": null,
            "grid_template_columns": null,
            "flex": null,
            "_model_name": "LayoutModel",
            "justify_items": null,
            "grid_row": null,
            "max_height": null,
            "align_content": null,
            "visibility": null,
            "align_self": null,
            "height": null,
            "min_height": null,
            "padding": null,
            "grid_auto_rows": null,
            "grid_gap": null,
            "max_width": null,
            "order": null,
            "_view_module_version": "1.2.0",
            "grid_template_areas": null,
            "object_position": null,
            "object_fit": null,
            "grid_auto_columns": null,
            "margin": null,
            "display": null,
            "left": null
          }
        },
        "cec65d10bd314fba8725c1664d1f210e": {
          "model_module": "@jupyter-widgets/controls",
          "model_name": "FloatProgressModel",
          "state": {
            "_view_name": "ProgressView",
            "style": "IPY_MODEL_147908f722ec4be4858eb3ca8cab5679",
            "_dom_classes": [],
            "description": "100%",
            "_model_name": "FloatProgressModel",
            "bar_style": "success",
            "max": 3263,
            "_view_module": "@jupyter-widgets/controls",
            "_model_module_version": "1.5.0",
            "value": 3263,
            "_view_count": null,
            "_view_module_version": "1.5.0",
            "orientation": "horizontal",
            "min": 0,
            "description_tooltip": null,
            "_model_module": "@jupyter-widgets/controls",
            "layout": "IPY_MODEL_1a898b540258407785f33ae8e918cf9f"
          }
        },
        "3b315367c10e49d781b9c4199e18db48": {
          "model_module": "@jupyter-widgets/controls",
          "model_name": "HTMLModel",
          "state": {
            "_view_name": "HTMLView",
            "style": "IPY_MODEL_49ef36624a084e008720cbe0d6fef06e",
            "_dom_classes": [],
            "description": "",
            "_model_name": "HTMLModel",
            "placeholder": "​",
            "_view_module": "@jupyter-widgets/controls",
            "_model_module_version": "1.5.0",
            "value": " 3263/3263 [08:02&lt;00:00,  6.76it/s]",
            "_view_count": null,
            "_view_module_version": "1.5.0",
            "description_tooltip": null,
            "_model_module": "@jupyter-widgets/controls",
            "layout": "IPY_MODEL_f9f70a2748914f8a9c40ca6cd483bfe5"
          }
        },
        "147908f722ec4be4858eb3ca8cab5679": {
          "model_module": "@jupyter-widgets/controls",
          "model_name": "ProgressStyleModel",
          "state": {
            "_view_name": "StyleView",
            "_model_name": "ProgressStyleModel",
            "description_width": "initial",
            "_view_module": "@jupyter-widgets/base",
            "_model_module_version": "1.5.0",
            "_view_count": null,
            "_view_module_version": "1.2.0",
            "bar_color": null,
            "_model_module": "@jupyter-widgets/controls"
          }
        },
        "1a898b540258407785f33ae8e918cf9f": {
          "model_module": "@jupyter-widgets/base",
          "model_name": "LayoutModel",
          "state": {
            "_view_name": "LayoutView",
            "grid_template_rows": null,
            "right": null,
            "justify_content": null,
            "_view_module": "@jupyter-widgets/base",
            "overflow": null,
            "_model_module_version": "1.2.0",
            "_view_count": null,
            "flex_flow": null,
            "width": null,
            "min_width": null,
            "border": null,
            "align_items": null,
            "bottom": null,
            "_model_module": "@jupyter-widgets/base",
            "top": null,
            "grid_column": null,
            "overflow_y": null,
            "overflow_x": null,
            "grid_auto_flow": null,
            "grid_area": null,
            "grid_template_columns": null,
            "flex": null,
            "_model_name": "LayoutModel",
            "justify_items": null,
            "grid_row": null,
            "max_height": null,
            "align_content": null,
            "visibility": null,
            "align_self": null,
            "height": null,
            "min_height": null,
            "padding": null,
            "grid_auto_rows": null,
            "grid_gap": null,
            "max_width": null,
            "order": null,
            "_view_module_version": "1.2.0",
            "grid_template_areas": null,
            "object_position": null,
            "object_fit": null,
            "grid_auto_columns": null,
            "margin": null,
            "display": null,
            "left": null
          }
        },
        "49ef36624a084e008720cbe0d6fef06e": {
          "model_module": "@jupyter-widgets/controls",
          "model_name": "DescriptionStyleModel",
          "state": {
            "_view_name": "StyleView",
            "_model_name": "DescriptionStyleModel",
            "description_width": "",
            "_view_module": "@jupyter-widgets/base",
            "_model_module_version": "1.5.0",
            "_view_count": null,
            "_view_module_version": "1.2.0",
            "_model_module": "@jupyter-widgets/controls"
          }
        },
        "f9f70a2748914f8a9c40ca6cd483bfe5": {
          "model_module": "@jupyter-widgets/base",
          "model_name": "LayoutModel",
          "state": {
            "_view_name": "LayoutView",
            "grid_template_rows": null,
            "right": null,
            "justify_content": null,
            "_view_module": "@jupyter-widgets/base",
            "overflow": null,
            "_model_module_version": "1.2.0",
            "_view_count": null,
            "flex_flow": null,
            "width": null,
            "min_width": null,
            "border": null,
            "align_items": null,
            "bottom": null,
            "_model_module": "@jupyter-widgets/base",
            "top": null,
            "grid_column": null,
            "overflow_y": null,
            "overflow_x": null,
            "grid_auto_flow": null,
            "grid_area": null,
            "grid_template_columns": null,
            "flex": null,
            "_model_name": "LayoutModel",
            "justify_items": null,
            "grid_row": null,
            "max_height": null,
            "align_content": null,
            "visibility": null,
            "align_self": null,
            "height": null,
            "min_height": null,
            "padding": null,
            "grid_auto_rows": null,
            "grid_gap": null,
            "max_width": null,
            "order": null,
            "_view_module_version": "1.2.0",
            "grid_template_areas": null,
            "object_position": null,
            "object_fit": null,
            "grid_auto_columns": null,
            "margin": null,
            "display": null,
            "left": null
          }
        }
      }
    },
    "accelerator": "GPU"
  },
  "cells": [
    {
      "cell_type": "markdown",
      "metadata": {
        "id": "view-in-github",
        "colab_type": "text"
      },
      "source": [
        "<a href=\"https://colab.research.google.com/github/GaoangLiu/AA_ipynb/blob/master/Disaster_Tweets_with_SVM.ipynb\" target=\"_parent\"><img src=\"https://colab.research.google.com/assets/colab-badge.svg\" alt=\"Open In Colab\"/></a>"
      ]
    },
    {
      "cell_type": "markdown",
      "metadata": {
        "id": "oGvCC6gq82QM",
        "colab_type": "text"
      },
      "source": [
        "Use Logistic Regression to classify tweets on disaster are real or not. \n",
        "\n",
        "CNN way can be found [here](https://github.com/GaoangLiu/AA_ipynb/blob/master/NLP_with_Disaster_Tweets.ipynb)\n",
        "\n",
        "Naive Bayes can be found [here](https://github.com/GaoangLiu/AA_ipynb/blob/master/NLP_with_Disaster_Tweets.ipynb)\n"
      ]
    },
    {
      "cell_type": "code",
      "metadata": {
        "id": "2b3hQcpx8vIJ",
        "colab_type": "code",
        "colab": {
          "base_uri": "https://localhost:8080/",
          "height": 105
        },
        "outputId": "fa359b42-29b4-49e4-e088-96d4f27de77e"
      },
      "source": [
        "# Load packages \n",
        "import math\n",
        "import re\n",
        "import os\n",
        "import timeit\n",
        "import tensorflow as tf\n",
        "import numpy as np\n",
        "import pandas as pd\n",
        "import seaborn as sns\n",
        "import matplotlib.pyplot as plt\n",
        "import nltk\n",
        "import logging\n",
        "import time\n",
        "import smart_open\n",
        "import importlib\n",
        "\n",
        "from sklearn import svm\n",
        "from sklearn.linear_model import LogisticRegression\n",
        "from sklearn.model_selection import train_test_split, GridSearchCV\n",
        "from sklearn.metrics import accuracy_score, confusion_matrix, classification_report, f1_score\n",
        "from sklearn.naive_bayes import MultinomialNB\n",
        "from sklearn.feature_extraction.text import CountVectorizer, TfidfVectorizer\n",
        "logging.basicConfig(format='[%(asctime)s %(levelname)8s] %(message)s', level=logging.INFO, datefmt='%m-%d %H:%M:%S')\n",
        "\n",
        "from keras import layers, Input\n",
        "from keras.callbacks import EarlyStopping, ModelCheckpoint\n",
        "from keras.models import Sequential, Model, load_model\n",
        "from keras.layers import Flatten, Dense, Embedding, Dropout, LSTM, GRU, Bidirectional\n",
        "from keras.utils import to_categorical\n",
        "from keras.preprocessing.text import Tokenizer\n",
        "from keras.preprocessing.sequence import pad_sequences\n",
        "import gensim.downloader as api\n",
        "\n",
        "import tensorflow_hub as hub \n",
        "import tensorflow as tf "
      ],
      "execution_count": 2,
      "outputs": [
        {
          "output_type": "stream",
          "text": [
            "/usr/local/lib/python3.6/dist-packages/statsmodels/tools/_testing.py:19: FutureWarning: pandas.util.testing is deprecated. Use the functions in the public API at pandas.testing instead.\n",
            "  import pandas.util.testing as tm\n",
            "Using TensorFlow backend.\n",
            "[05-15 03:44:05     INFO] 'pattern' package not found; tag filters are not available for English\n"
          ],
          "name": "stderr"
        }
      ]
    },
    {
      "cell_type": "markdown",
      "metadata": {
        "id": "LveeUfQ79Jdg",
        "colab_type": "text"
      },
      "source": [
        "Download data"
      ]
    },
    {
      "cell_type": "code",
      "metadata": {
        "id": "AjfWyBp99LSe",
        "colab_type": "code",
        "colab": {
          "base_uri": "https://localhost:8080/",
          "height": 680
        },
        "outputId": "8df3f960-ed76-4608-8fd9-b4fadaf38f4d"
      },
      "source": [
        "! rm *.csv *.zip\n",
        "! wget -O tweets.zip ali.140714.xyz:8000/nlp-getting-started.zip \n",
        "! unzip tweets.zip \n",
        "! ls\n",
        "! wget -O labels.csv ali.140714.xyz:8000/leaked_tweet_labels.csv\n",
        "! wget -O B7.py ali.140714.xyz:8000/boost117.py\n",
        "import B7 # boost117"
      ],
      "execution_count": 3,
      "outputs": [
        {
          "output_type": "stream",
          "text": [
            "--2020-05-15 03:44:11--  http://ali.140714.xyz:8000/nlp-getting-started.zip\n",
            "Resolving ali.140714.xyz (ali.140714.xyz)... 47.240.16.188\n",
            "Connecting to ali.140714.xyz (ali.140714.xyz)|47.240.16.188|:8000... connected.\n",
            "HTTP request sent, awaiting response... 200 OK\n",
            "Length: 607343 (593K) [application/zip]\n",
            "Saving to: ‘tweets.zip’\n",
            "\n",
            "\rtweets.zip            0%[                    ]       0  --.-KB/s               \rtweets.zip          100%[===================>] 593.11K  --.-KB/s    in 0.07s   \n",
            "\n",
            "2020-05-15 03:44:11 (8.58 MB/s) - ‘tweets.zip’ saved [607343/607343]\n",
            "\n",
            "Archive:  tweets.zip\n",
            "  inflating: sample_submission.csv   \n",
            "  inflating: test.csv                \n",
            "  inflating: train.csv               \n",
            "B7.py\t     sample_data\t    test.csv   tweets.zip\n",
            "__pycache__  sample_submission.csv  train.csv\n",
            "--2020-05-15 03:44:20--  http://ali.140714.xyz:8000/leaked_tweet_labels.csv\n",
            "Resolving ali.140714.xyz (ali.140714.xyz)... 47.240.16.188\n",
            "Connecting to ali.140714.xyz (ali.140714.xyz)|47.240.16.188|:8000... connected.\n",
            "HTTP request sent, awaiting response... 200 OK\n",
            "Length: 22746 (22K) [text/csv]\n",
            "Saving to: ‘labels.csv’\n",
            "\n",
            "labels.csv          100%[===================>]  22.21K  --.-KB/s    in 0.01s   \n",
            "\n",
            "2020-05-15 03:44:20 (1.56 MB/s) - ‘labels.csv’ saved [22746/22746]\n",
            "\n",
            "--2020-05-15 03:44:23--  http://ali.140714.xyz:8000/boost117.py\n",
            "Resolving ali.140714.xyz (ali.140714.xyz)... 47.240.16.188\n",
            "Connecting to ali.140714.xyz (ali.140714.xyz)|47.240.16.188|:8000... connected.\n",
            "HTTP request sent, awaiting response... 200 OK\n",
            "Length: 1723 (1.7K) [text/plain]\n",
            "Saving to: ‘B7.py’\n",
            "\n",
            "B7.py               100%[===================>]   1.68K  --.-KB/s    in 0s      \n",
            "\n",
            "2020-05-15 03:44:23 (346 MB/s) - ‘B7.py’ saved [1723/1723]\n",
            "\n"
          ],
          "name": "stdout"
        }
      ]
    },
    {
      "cell_type": "code",
      "metadata": {
        "id": "5kI038lw5G9j",
        "colab_type": "code",
        "colab": {}
      },
      "source": [
        "train = pd.read_csv('train.csv')\n",
        "train[train.text.str.lower().str.contains(\"hijacking computers\")]"
      ],
      "execution_count": 0,
      "outputs": []
    },
    {
      "cell_type": "markdown",
      "metadata": {
        "id": "fSRdyepU9wll",
        "colab_type": "text"
      },
      "source": [
        "# Straightfoward SVM model"
      ]
    },
    {
      "cell_type": "code",
      "metadata": {
        "id": "dgOAMpCE9yeE",
        "colab_type": "code",
        "colab": {}
      },
      "source": [
        "class Classifier():\n",
        "  def __init__(self):\n",
        "    self.train = None\n",
        "    self.test = None \n",
        "    self.model = None\n",
        "    \n",
        "  def load_data(self, train_file='train.csv', test_file='test.csv'):\n",
        "      \"\"\" Load train, test csv files and return pandas.DataFrame\n",
        "      \"\"\"\n",
        "      self.train = pd.read_csv(train_file, engine='python', encoding='utf-8', error_bad_lines=False)\n",
        "      self.test = pd.read_csv(test_file, engine='python', encoding='utf-8', error_bad_lines=False)\n",
        "      logging.info('CSV data loaded')\n",
        "  \n",
        "  def countvectorize(self):\n",
        "      tv = TfidfVectorizer(ngram_range=(1,5), token_pattern=r'\\w{1,}',\n",
        "               min_df=3, max_df=0.8, strip_accents='unicode', \n",
        "               sublinear_tf=1, max_features=5000)\n",
        "    #   tv = CountVectorizer()\n",
        "      tv.fit(self.train.text)\n",
        "      self.vector_train = tv.transform(self.train.text)\n",
        "      self.vector_test  = tv.transform(self.test.text)\n",
        "      logging.info(\"Train & test text tokenized\")\n",
        "\n",
        "  def train_model(self, state=2020):\n",
        "      # Choose your own classifier: self.model and run it\n",
        "      logging.info(f\"{self.__class__.__name__} starts running.\")\n",
        "      labels = self.train.target\n",
        "      X_train, X_val, y_train, y_val = train_test_split(self.vector_train, labels, test_size=0.2, random_state=state)\n",
        "      self.model.fit(X_train, y_train)\n",
        "      \n",
        "      self.X_val, self.y_val = X_val, y_val \n",
        "      return self.model\n",
        "    #   y_preds = self.model.predict(x_val)\n",
        "\n",
        "    #   logging.info(f\"Accuracy score: {accuracy_score(y_val, y_preds)}\")\n",
        "    #   logging.info(f\"Confusion matrix: \") \n",
        "    #   print(confusion_matrix(y_val, y_preds))\n",
        "    #   print(\"Classificaiton report:\\n\", classification_report(y_val, y_preds, target_names=[\"real\", \"unreal\"]))\n",
        "    #   y_preds = self.model.predict(self.vector_test)\n",
        "    #   return y_preds\n",
        "\n",
        "  def save_predictions(self, y_preds):\n",
        "      sub = pd.read_csv(f\"sample_submission.csv\")\n",
        "      sub['target'] = y_preds \n",
        "      sub.to_csv(f\"submission_{self.__class__.__name__}.csv\", index=False)\n",
        "      logging.info(f'Prediction exported to submission_{self.__class__.__name__}.csv')\n",
        "  \n",
        "  def pipeline(self):\n",
        "      s_time = time.clock()\n",
        "      self.load_data()\n",
        "      self.countvectorize()\n",
        "      self.build_model()\n",
        "      self.train_model()\n",
        "      logging.info(f\"Program running for {time.clock() - s_time} seconds\")\n",
        "\n",
        "class C_SVM(Classifier):\n",
        "  def build_model(self):\n",
        "      self.model = svm.SVC(probability=True)\n",
        "      return self.model\n",
        "\n",
        "def super_blender():\n",
        "    preds = np.zeros(3263)\n",
        "    lr = LogisticRegression()\n",
        "    _svm = svm.SVC(probability=True)\n",
        "    nb = MultinomialNB()\n",
        "\n",
        "    for m in lr, _svm, nb:\n",
        "        base = Classifier()\n",
        "        base.load_data()\n",
        "        base.countvectorize()\n",
        "        base.model = m\n",
        "        base.train_model()\n",
        "        \n",
        "        probs = base.model.predict_proba(base.X_val)\n",
        "        threshold = B7.Search().find_best_threshold(probs[:, 1], base.y_val)\n",
        "\n",
        "        probs = base.model.predict_proba(base.vector_test)\n",
        "        preds += (probs[:, 1] >= threshold).astype(int)\n",
        "\n",
        "    return preds \n",
        "\n",
        "def blender_state():\n",
        "    import random\n",
        "    preds = np.zeros((3263, 2))\n",
        "    for _ in range(100):\n",
        "        base = Classifier()\n",
        "        base.load_data()\n",
        "        base.countvectorize()\n",
        "        base.model = MultinomialNB()\n",
        "        base.train_model(random.randint(1,10000))\n",
        "                \n",
        "        # probs = base.model.predict_proba(base.X_val)\n",
        "        # threshold = B7.Search().find_best_threshold(probs[:, 1], base.y_val)\n",
        "\n",
        "        probs = base.model.predict_proba(base.vector_test)\n",
        "        preds += probs\n",
        "    return preds \n"
      ],
      "execution_count": 0,
      "outputs": []
    },
    {
      "cell_type": "code",
      "metadata": {
        "id": "icefk_4uXRCS",
        "colab_type": "code",
        "colab": {}
      },
      "source": [
        "importlib.reload(B7)\n",
        "xtrue = pd.read_csv('labels.csv').target \n",
        "threshold = B7.Search().find_best_threshold(preds[:, 1] / 100, xtrue)\n",
        "\n",
        "final_preds = ((preds[:, 1] / 100) >= threshold).astype(int)\n",
        "sub = pd.read_csv(f\"sample_submission.csv\")\n",
        "sub['target'] = final_preds\n",
        "sub.to_csv('merged.csv', index=False)\n",
        "B7.Files().upload_vps('merged.csv')"
      ],
      "execution_count": 0,
      "outputs": []
    },
    {
      "cell_type": "code",
      "metadata": {
        "id": "Ax1OkkZcV0ly",
        "colab_type": "code",
        "colab": {}
      },
      "source": [
        "super_blender()"
      ],
      "execution_count": 0,
      "outputs": []
    },
    {
      "cell_type": "code",
      "metadata": {
        "id": "JDoqVhxa_JsQ",
        "colab_type": "code",
        "colab": {}
      },
      "source": [
        "# %reset \n",
        "c = C_SVM()\n",
        "c.pipeline()\n",
        "labels = pd.read_csv('labels.csv').target\n",
        "# preds = pd.read_csv('submission_C_Bayes.csv').target\n",
        "# print(\"The submission f1_score is: \", f1_score(labels, preds, average='weighted'))"
      ],
      "execution_count": 0,
      "outputs": []
    },
    {
      "cell_type": "code",
      "metadata": {
        "id": "IR3NOT6JNiT9",
        "colab_type": "code",
        "colab": {}
      },
      "source": [
        "preds = c.model.predict(c.X_val)\n",
        "print('Accuracy score', accuracy_score(c.y_val, preds))\n",
        "print('f1_score', f1_score(c.y_val, preds))\n",
        "preds \n",
        "\n"
      ],
      "execution_count": 0,
      "outputs": []
    },
    {
      "cell_type": "code",
      "metadata": {
        "id": "VwuHqrLyKutQ",
        "colab_type": "code",
        "colab": {}
      },
      "source": [
        "# B7.Files().download_vps('boost117.py', new_name='B7.py')\n",
        "importlib.reload(B7)\n",
        "\n",
        "y_preds = c.model.predict_proba(c.X_val)\n",
        "y_preds = y_preds[:, 1] # keep only the second column\n",
        "threshold = B7.Search().find_best_threshold(y_preds, c.y_val)"
      ],
      "execution_count": 0,
      "outputs": []
    },
    {
      "cell_type": "code",
      "metadata": {
        "id": "wMC9NM06ai1D",
        "colab_type": "code",
        "colab": {}
      },
      "source": [
        "test_preds = c.model.predict_proba(c.vector_test)\n",
        "test_preds = (test_preds[:, 1] >= threshold).astype(int)\n",
        "c.save_predictions(test_preds)\n",
        "print(\"f1_score is\", f1_score(pd.read_csv('labels.csv').target, test_preds, average='weighted'))\n",
        "B7.Files().upload_vps('submission_C_SVM.csv')\n",
        "# !ls"
      ],
      "execution_count": 0,
      "outputs": []
    },
    {
      "cell_type": "markdown",
      "metadata": {
        "id": "pAtFtZXKzzC4",
        "colab_type": "text"
      },
      "source": [
        "# Explore the limits of SVM\n",
        "Find out what's the maximum `f1_socre` can be acquired with SVM. \n",
        "\n",
        "Consider the following moves: \n",
        "1. clean data\n",
        "2. grid search best parameters\n",
        "\n"
      ]
    },
    {
      "cell_type": "markdown",
      "metadata": {
        "id": "tssgsSn808Q-",
        "colab_type": "text"
      },
      "source": [
        "## Explore data"
      ]
    },
    {
      "cell_type": "code",
      "metadata": {
        "id": "-xVQ-ytK1Ro5",
        "colab_type": "code",
        "colab": {}
      },
      "source": [
        "pd.set_option('display.max_colwidth', -1)\n",
        "pd.set_option('display.max_rows', 30)"
      ],
      "execution_count": 0,
      "outputs": []
    },
    {
      "cell_type": "code",
      "metadata": {
        "id": "OKO-rF0H0cu1",
        "colab_type": "code",
        "outputId": "5bc7f534-3d8d-4ca6-ab53-7c199f9b9857",
        "colab": {
          "base_uri": "https://localhost:8080/",
          "height": 359
        }
      },
      "source": [
        "train = pd.read_csv('train.csv')\n",
        "test = pd.read_csv('test.csv')\n",
        "train.sample(10)\n",
        "# B7.Files().upload_vps('train.csv')"
      ],
      "execution_count": 4,
      "outputs": [
        {
          "output_type": "execute_result",
          "data": {
            "text/html": [
              "<div>\n",
              "<style scoped>\n",
              "    .dataframe tbody tr th:only-of-type {\n",
              "        vertical-align: middle;\n",
              "    }\n",
              "\n",
              "    .dataframe tbody tr th {\n",
              "        vertical-align: top;\n",
              "    }\n",
              "\n",
              "    .dataframe thead th {\n",
              "        text-align: right;\n",
              "    }\n",
              "</style>\n",
              "<table border=\"1\" class=\"dataframe\">\n",
              "  <thead>\n",
              "    <tr style=\"text-align: right;\">\n",
              "      <th></th>\n",
              "      <th>id</th>\n",
              "      <th>keyword</th>\n",
              "      <th>location</th>\n",
              "      <th>text</th>\n",
              "      <th>target</th>\n",
              "    </tr>\n",
              "  </thead>\n",
              "  <tbody>\n",
              "    <tr>\n",
              "      <th>1380</th>\n",
              "      <td>1990</td>\n",
              "      <td>bush%20fires</td>\n",
              "      <td>NaN</td>\n",
              "      <td>28 Oct 1895: 'Bush Fires.' http://t.co/zCKXtFc9PT</td>\n",
              "      <td>1</td>\n",
              "    </tr>\n",
              "    <tr>\n",
              "      <th>278</th>\n",
              "      <td>406</td>\n",
              "      <td>apocalypse</td>\n",
              "      <td>Texas</td>\n",
              "      <td>@HoneyBunzGem @primalkitchen I feel like me do...</td>\n",
              "      <td>0</td>\n",
              "    </tr>\n",
              "    <tr>\n",
              "      <th>5373</th>\n",
              "      <td>7669</td>\n",
              "      <td>panic</td>\n",
              "      <td>Philadelphia, PA</td>\n",
              "      <td>Despite the crippling anxiety and overwhelming...</td>\n",
              "      <td>0</td>\n",
              "    </tr>\n",
              "    <tr>\n",
              "      <th>1874</th>\n",
              "      <td>2693</td>\n",
              "      <td>crush</td>\n",
              "      <td>NaN</td>\n",
              "      <td>MEN CRUSH EVERY FUCKING DAY???????????????????...</td>\n",
              "      <td>0</td>\n",
              "    </tr>\n",
              "    <tr>\n",
              "      <th>937</th>\n",
              "      <td>1354</td>\n",
              "      <td>blown%20up</td>\n",
              "      <td>Nowhere Islands/Smash Manor</td>\n",
              "      <td>@TheBoyOfMasks 'Thanks again for letting me st...</td>\n",
              "      <td>0</td>\n",
              "    </tr>\n",
              "    <tr>\n",
              "      <th>3874</th>\n",
              "      <td>5507</td>\n",
              "      <td>flames</td>\n",
              "      <td>Cincinnati, OH</td>\n",
              "      <td>I added a video to a @YouTube playlist http://...</td>\n",
              "      <td>0</td>\n",
              "    </tr>\n",
              "    <tr>\n",
              "      <th>5706</th>\n",
              "      <td>8142</td>\n",
              "      <td>rescuers</td>\n",
              "      <td>Nigeria</td>\n",
              "      <td>VIDEO: 'We're picking up bodies from water': R...</td>\n",
              "      <td>1</td>\n",
              "    </tr>\n",
              "    <tr>\n",
              "      <th>5033</th>\n",
              "      <td>7176</td>\n",
              "      <td>mudslide</td>\n",
              "      <td>London</td>\n",
              "      <td>First impressions: glad hat man is leaving in ...</td>\n",
              "      <td>0</td>\n",
              "    </tr>\n",
              "    <tr>\n",
              "      <th>1213</th>\n",
              "      <td>1750</td>\n",
              "      <td>buildings%20burning</td>\n",
              "      <td>In Hell</td>\n",
              "      <td>Schools in Western Uganda still Burning down B...</td>\n",
              "      <td>1</td>\n",
              "    </tr>\n",
              "    <tr>\n",
              "      <th>1241</th>\n",
              "      <td>1789</td>\n",
              "      <td>buildings%20on%20fire</td>\n",
              "      <td>Toronto</td>\n",
              "      <td>Such beautiful architecture in #NYC I love tho...</td>\n",
              "      <td>1</td>\n",
              "    </tr>\n",
              "  </tbody>\n",
              "</table>\n",
              "</div>"
            ],
            "text/plain": [
              "        id  ... target\n",
              "1380  1990  ...      1\n",
              "278    406  ...      0\n",
              "5373  7669  ...      0\n",
              "1874  2693  ...      0\n",
              "937   1354  ...      0\n",
              "3874  5507  ...      0\n",
              "5706  8142  ...      1\n",
              "5033  7176  ...      0\n",
              "1213  1750  ...      1\n",
              "1241  1789  ...      1\n",
              "\n",
              "[10 rows x 5 columns]"
            ]
          },
          "metadata": {
            "tags": []
          },
          "execution_count": 4
        }
      ]
    },
    {
      "cell_type": "code",
      "metadata": {
        "id": "hPao9YCa12AY",
        "colab_type": "code",
        "colab": {}
      },
      "source": [
        "def remove_newlines(line):\n",
        "    line = re.sub(r'\\t', ' ', line)\n",
        "    line = re.sub(r'\\n', ' ', line)\n",
        "    line = re.sub(r'\\r', ' ', line)\n",
        "    return line\n",
        "\n",
        "def remove_truncated(line):\n",
        "    '''words before an url sometimes are truncated, e.g., \n",
        "    9161,suicide%20bomber,\"19.600858, -99.047821\",Mosque bombing strikes Saudi special forces; at least 15 people dead: A suicide bomber struck a mosque i... http://t.co/gigW51IZpK #new\n",
        "    '''\n",
        "    line = re.sub(r' \\w{1,3}\\.{3,3} http\\S{0,}', ' ', line)\n",
        "    line = re.sub(r' \\w{1,3}Û_ http\\S{0,}', ' ', line)\n",
        "    line = re.sub(r' Û_', ' ', line)\n",
        "\n",
        "    # also remove words in tweets with few meaning\n",
        "    pattern = re.compile(r'Full read by|Full read b|Full read|Full rea|Full re|Full r')\n",
        "    line = pattern.sub(r' ', line)\n",
        "    pattern = re.compile(r'Full story at|Full story a|Full story|Full stor|Full sto|Full st|Full s')\n",
        "    line = pattern.sub(r' ', line)\n",
        "\n",
        "    return line\n",
        "\n",
        "def remove_url(line):\n",
        "    '''remove url'''\n",
        "    line = re.sub(r\"htt\\S{0,}\", \" \", line)\n",
        "    return line\n"
      ],
      "execution_count": 0,
      "outputs": []
    },
    {
      "cell_type": "markdown",
      "metadata": {
        "id": "AQJRoVrr9h5i",
        "colab_type": "text"
      },
      "source": [
        "## Build model and run"
      ]
    },
    {
      "cell_type": "code",
      "metadata": {
        "id": "bX5SA2iD9kIa",
        "colab_type": "code",
        "outputId": "35b7e616-8b51-4f32-c4e8-bae586f30756",
        "colab": {
          "base_uri": "https://localhost:8080/",
          "height": 115,
          "referenced_widgets": [
            "4a89a777bc654924888fbc7a181675b6",
            "b47e033eebf64235aa87f22cdbf98d07",
            "8254d8d1e943487c805660eb075fe0a1",
            "4c5874091f5741e9906d090dc0d5620a",
            "5b6224b1c7d54781a076fee3ae72214a",
            "f4b65f07857b424a8a23a6a7b9cea096",
            "24770d78315d4b16a82e4850165c14aa",
            "a6e2f66c552740dc9a99e6d642bfbf40",
            "b44104163e9b4a219e8079407d5666c0",
            "30166d8fe649459bb50b01f346acc0ba",
            "cec65d10bd314fba8725c1664d1f210e",
            "3b315367c10e49d781b9c4199e18db48",
            "147908f722ec4be4858eb3ca8cab5679",
            "1a898b540258407785f33ae8e918cf9f",
            "49ef36624a084e008720cbe0d6fef06e",
            "f9f70a2748914f8a9c40ca6cd483bfe5"
          ]
        }
      },
      "source": [
        "from tqdm.notebook import tqdm \n",
        "\n",
        "def vectorize(text_train, text_test):\n",
        "    tv = TfidfVectorizer(ngram_range=(1,5), token_pattern=r'\\w{1,}',\n",
        "               min_df=3, max_df=0.8, strip_accents='unicode', \n",
        "               sublinear_tf=1, max_features=5000)\n",
        "    full_text = pd.concat([text_train, text_test])\n",
        "    tv.fit(full_text)\n",
        "    vector_train = tv.transform(train.text)\n",
        "    vector_test  = tv.transform(test.text)\n",
        "    logging.info(\"Train & test text tokenized\")\n",
        "    return vector_train, vector_test\n",
        "\n",
        "def transfrom(text_train, text_test):\n",
        "    large_use = 'https://tfhub.dev/google/universal-sentence-encoder-large/5'\n",
        "    normal_use = 'https://tfhub.dev/google/universal-sentence-encoder/4'\n",
        "    embed = hub.load(large_use)\n",
        "\n",
        "    vector_train = [tf.reshape(embed([line]), [-1]).numpy() for line in tqdm(text_train)]\n",
        "    vector_test = [tf.reshape(embed([line]), [-1]).numpy() for line in tqdm(text_test)]\n",
        "\n",
        "    return vector_train, vector_test\n",
        "    \n",
        "\n",
        "def build_model():\n",
        "    model = svm.SVC(kernel='rbf', C=1.4, gamma=2.25)\n",
        "    return model\n",
        "\n",
        "\n",
        "# train.text = train.text.apply(remove_newlines).apply(remove_truncated).apply(remove_url)\n",
        "# test.text = test.text.apply(remove_newlines).apply(remove_truncated).apply(remove_url)\n",
        "vector_train, vector_test = transfrom(train.text, test.text)\n",
        "# vector_train, vector_test = vectorize(train.text, test.text)\n"
      ],
      "execution_count": 27,
      "outputs": [
        {
          "output_type": "display_data",
          "data": {
            "application/vnd.jupyter.widget-view+json": {
              "model_id": "4a89a777bc654924888fbc7a181675b6",
              "version_minor": 0,
              "version_major": 2
            },
            "text/plain": [
              "HBox(children=(FloatProgress(value=0.0, max=7613.0), HTML(value='')))"
            ]
          },
          "metadata": {
            "tags": []
          }
        },
        {
          "output_type": "stream",
          "text": [
            "\n"
          ],
          "name": "stdout"
        },
        {
          "output_type": "display_data",
          "data": {
            "application/vnd.jupyter.widget-view+json": {
              "model_id": "b44104163e9b4a219e8079407d5666c0",
              "version_minor": 0,
              "version_major": 2
            },
            "text/plain": [
              "HBox(children=(FloatProgress(value=0.0, max=3263.0), HTML(value='')))"
            ]
          },
          "metadata": {
            "tags": []
          }
        },
        {
          "output_type": "stream",
          "text": [
            "\n"
          ],
          "name": "stdout"
        }
      ]
    },
    {
      "cell_type": "code",
      "metadata": {
        "id": "dtqnqP43P3l_",
        "colab_type": "code",
        "colab": {
          "base_uri": "https://localhost:8080/",
          "height": 51
        },
        "outputId": "0dba600d-c5ad-493e-8bb1-9be9fd5e5288"
      },
      "source": [
        "# Train models\n",
        "model = svm.SVC(kernel='rbf', C=1.4, gamma=2.25, probability=True)\n",
        "# model = LogisticRegression()\n",
        "X_train, X_val, y_train, y_val = train_test_split(vector_train, train.target, test_size=0.2, random_state=2020)\n",
        "model.fit(X_train, y_train)\n",
        "\n",
        "preds = model.predict(X_val)\n",
        "print('Accuracy score', accuracy_score(y_val, preds))\n",
        "print('f1_score', f1_score(y_val, preds))\n",
        "\n",
        "# results \n",
        "# normal USE + SVM, f1_score 0.7861\n",
        "# large USE + SVM, f1_score 0.79481\n",
        "# large USE + LR, f1_score 0.79001\n"
      ],
      "execution_count": 28,
      "outputs": [
        {
          "output_type": "stream",
          "text": [
            "Accuracy score 0.8338804990151018\n",
            "f1_score 0.794809407948094\n"
          ],
          "name": "stdout"
        }
      ]
    },
    {
      "cell_type": "markdown",
      "metadata": {
        "id": "rRa6V6WBQmLt",
        "colab_type": "text"
      },
      "source": [
        "### Find best threshold to maximum f1_score"
      ]
    },
    {
      "cell_type": "code",
      "metadata": {
        "id": "tIfi8cnUQpVb",
        "colab_type": "code",
        "colab": {
          "base_uri": "https://localhost:8080/",
          "height": 296
        },
        "outputId": "bf01f84f-14c3-408f-f22b-582983e409d9"
      },
      "source": [
        "importlib.reload(B7)\n",
        "\n",
        "y_proba = model.predict_proba(X_val)\n",
        "y_proba = y_proba[:, 1] # keep only the second column\n",
        "\n",
        "threshold = B7.Search().find_best_threshold(y_proba, y_val)\n",
        "\n",
        "# results \n",
        "# normal USE + SVM, f1_score 0.82599\n",
        "# large USE + SVM, f1_score 0.82796\n",
        "# large USE + LR, f1_score 0.81551\n"
      ],
      "execution_count": 31,
      "outputs": [
        {
          "output_type": "stream",
          "text": [
            "Best f1 score 0.8338385708704702, best threshold 0.5200000000000002\n"
          ],
          "name": "stdout"
        },
        {
          "output_type": "display_data",
          "data": {
            "image/png": "[encoded data removed]",
            "text/plain": [
              "<Figure size 432x288 with 1 Axes>"
            ]
          },
          "metadata": {
            "tags": [],
            "needs_background": "light"
          }
        }
      ]
    },
    {
      "cell_type": "code",
      "metadata": {
        "id": "BtG9MGBuhThE",
        "colab_type": "code",
        "colab": {
          "base_uri": "https://localhost:8080/",
          "height": 34
        },
        "outputId": "0feb2c30-2f4a-4eca-95bc-629b5ca9ad82"
      },
      "source": [
        "# predict test and export csv\n",
        "y_proba = model.predict_proba(vector_test)\n",
        "final_preds = (y_proba >= threshold).astype(int)\n",
        "sub = pd.read_csv(f\"sample_submission.csv\")\n",
        "sub['target'] = final_preds\n",
        "sub.to_csv('tweets.csv', index=False)\n",
        "B7.Files().upload_vps('tweets.csv')"
      ],
      "execution_count": 34,
      "outputs": [
        {
          "output_type": "stream",
          "text": [
            "[05-15 05:50:15     INFO] tweets.csv was uploaded\n"
          ],
          "name": "stderr"
        }
      ]
    }
  ]
}