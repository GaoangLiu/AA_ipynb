{
  "nbformat": 4,
  "nbformat_minor": 0,
  "metadata": {
    "colab": {
      "name": "A journey of predicting future sales .ipynb",
      "provenance": [],
      "collapsed_sections": [],
      "authorship_tag": "ABX9TyOtwKxNIGkLTUTlfMz6JO6E",
      "include_colab_link": true
    },
    "kernelspec": {
      "name": "python3",
      "display_name": "Python 3"
    },
    "accelerator": "GPU"
  },
  "cells": [
    {
      "cell_type": "markdown",
      "metadata": {
        "id": "view-in-github",
        "colab_type": "text"
      },
      "source": [
        "<a href=\"https://colab.research.google.com/github/GaoangLiu/AA_ipynb/blob/master/A_journey_of_predicting_future_sales_.ipynb\" target=\"_parent\"><img src=\"https://colab.research.google.com/assets/colab-badge.svg\" alt=\"Open In Colab\"/></a>"
      ]
    },
    {
      "cell_type": "markdown",
      "metadata": {
        "id": "FTPfeiTt_B0n",
        "colab_type": "text"
      },
      "source": [
        "This notebook shows a routine of using machine learning to solve problems. Following topics are covered:\n",
        "1. data preprocessing\n",
        "2. data manipulating \n",
        "3. building models\n",
        "4. fine-tuning and improve models."
      ]
    },
    {
      "cell_type": "markdown",
      "metadata": {
        "id": "G8Go-cIYuuwM",
        "colab_type": "text"
      },
      "source": [
        "# Data preprocessing \n",
        "When working with machine learning, for most of the time, we're dealing with data cleaning, exploring and merging. Building models and fine-tuning parameters, on the other hand, has been much easier with so many popular libraries, e.g., `Sklearn`, `Tensorflow` and `Pytorch`.\n",
        "\n",
        "<!-- Data preprocessing is very important -->\n",
        "\n",
        "In this notebook, we will take the following task [predict future sales](https://www.kaggle.com/c/competitive-data-science-predict-future-sales/notebooks) as an example, to show how to precess data to comply with our needs."
      ]
    },
    {
      "cell_type": "code",
      "metadata": {
        "id": "9zJAeRRrukLY",
        "colab_type": "code",
        "colab": {}
      },
      "source": [
        "import os \n",
        "import numpy as np\n",
        "import pandas as pd\n",
        "import seaborn as sns\n",
        "import tensorflow as tf\n",
        "import sklearn\n",
        "import sklearn.metrics \n",
        "import sklearn.model_selection\n",
        "import sklearn.feature_extraction\n",
        "import sklearn.preprocessing\n",
        "\n",
        "from absl import logging\n",
        "import gensim.downloader as api\n",
        "import matplotlib.pyplot as plt\n",
        "logging.set_verbosity(logging.INFO)\n",
        "\n",
        "import re\n",
        "import nltk\n",
        "from nltk.stem import WordNetLemmatizer\n",
        "from nltk.corpus import stopwords\n",
        "\n",
        "pd.set_option('display.max_rows', 500)\n",
        "pd.set_option('display.max_columns', 100)"
      ],
      "execution_count": 0,
      "outputs": []
    },
    {
      "cell_type": "markdown",
      "metadata": {
        "id": "Y7efx0eSwYFU",
        "colab_type": "text"
      },
      "source": [
        "## File description. \n",
        "\n",
        "There are 6 files for this specific task:\n",
        "1. `sales_train.csv` - the training set. Daily historical data from January 2013 to October 2015.\n",
        "2. `test.csv` - the test set. You need to forecast the sales for these shops and products for November 2015.\n",
        "3. `sample_submission.csv` - a sample submission file in the correct format.\n",
        "4. `items.csv` - supplemental information about the items/products.\n",
        "5. `item_categories.csv`  - supplemental information about the items categories.\n",
        "6. `shops.csv` - supplemental information about the shops."
      ]
    },
    {
      "cell_type": "code",
      "metadata": {
        "id": "kj49Po4MwZ-n",
        "colab_type": "code",
        "colab": {}
      },
      "source": [
        "!curl -o sales.zip ali.140714.xyz:8000/sales.zip\n",
        "!unzip sales.zip\n",
        "!ls"
      ],
      "execution_count": 0,
      "outputs": []
    },
    {
      "cell_type": "markdown",
      "metadata": {
        "id": "MsY0g8bswu_8",
        "colab_type": "text"
      },
      "source": [
        "We craft several methods to explore the data."
      ]
    },
    {
      "cell_type": "code",
      "metadata": {
        "id": "DAXj3qgTw05W",
        "colab_type": "code",
        "colab": {}
      },
      "source": [
        "def birdview(data):\n",
        "    print(\"----------Head 5 Record----------\")\n",
        "    print(data.head(5))\n",
        "    print(\"\\n-----------Information-----------\")\n",
        "    print(data.info())\n",
        "    print(\"\\n-----------Data Types-----------\")\n",
        "    print(data.dtypes)\n",
        "    print(\"\\n----------Missing value-----------\")\n",
        "    print(data.isnull().sum())\n",
        "    print(\"\\n----------Null value-----------\")\n",
        "    print(data.isna().sum())\n",
        "    print(\"\\n----------Shape of Data----------\")\n",
        "    print(data.shape)\n",
        "    \n",
        "def graph_insight(data):\n",
        "    print(set(data.dtypes.tolist()))\n",
        "    df_num = data.select_dtypes(include = ['float64', 'int64'])\n",
        "    df_num.hist(figsize=(16, 16), bins=50, xlabelsize=8, ylabelsize=8);\n",
        "\n",
        "def distribution_insight(data, column):\n",
        "    print(\"===================================\")\n",
        "    print(\"Min Value:\", data[column].min())\n",
        "    print(\"Max Value:\", data[column].max())\n",
        "    print(\"Average Value:\", data[column].mean())\n",
        "    print(\"Center Point of Data (median):\", data[column].median())\n",
        "    print(\"===================================\")\n",
        "    # sns.boxplot(data[column])\n",
        "    \n",
        "def remove_duplicate(data):\n",
        "    print('Before remove shape:', data.shape)\n",
        "    before = data.shape[0]\n",
        "    # subset is list where you have to put all column for duplicate check\n",
        "    # if None, then use all columns \n",
        "    data.drop_duplicates(subset=None, keep='first', inplace=True) \n",
        "    data.reset_index(drop=True, inplace=True)\n",
        "    print('After remove shape :', data.shape)\n",
        "    after = data.shape[0]\n",
        "    print('Total Duplicate:', before-after)    "
      ],
      "execution_count": 0,
      "outputs": []
    },
    {
      "cell_type": "markdown",
      "metadata": {
        "id": "-UZwshd6xhee",
        "colab_type": "text"
      },
      "source": [
        "## Explore `train.csv`\n",
        "First, let's find out what we have in this **train** file, is there any missing, duplicate value?. If so, we will dealing with it by: \n",
        "* removing duplicates\n",
        "* removing or replacing outliers, e.g., negative daily sale counts\n",
        "* "
      ]
    },
    {
      "cell_type": "code",
      "metadata": {
        "id": "pSaZ4sKkxg33",
        "colab_type": "code",
        "colab": {}
      },
      "source": [
        "train = pd.read_csv('data/sales_train.csv')\n",
        "birdview(train)"
      ],
      "execution_count": 0,
      "outputs": []
    },
    {
      "cell_type": "markdown",
      "metadata": {
        "id": "SL_ES9Q_ynpT",
        "colab_type": "text"
      },
      "source": [
        "A birdview of `train.csv`, we found that:\n",
        "1. There are outliers, e.g., the 3rd row has a negative `item_cnt_day`\n",
        "2. There is no missing value or Null value, which is good.\n",
        "\n",
        "Now, we run `remove_duplicate()` method to remove potential duplicate rows. "
      ]
    },
    {
      "cell_type": "code",
      "metadata": {
        "id": "fk_RyJ63zQWC",
        "colab_type": "code",
        "colab": {}
      },
      "source": [
        "remove_duplicate(train)"
      ],
      "execution_count": 0,
      "outputs": []
    },
    {
      "cell_type": "markdown",
      "metadata": {
        "id": "EAdoS6ng0osL",
        "colab_type": "text"
      },
      "source": [
        "We found and removed 6 duplicated rows, not a big deal since we still got 2_935_843 unique rows. \n",
        "\n",
        "Next, we need to deal with outliers. A natual way is drawing its distribution graph and see whether this distribution comply with our intuition. \n",
        "\n",
        "We've also wrote a method `distribution_insight()` to gain insights on `int | float` datatype columns."
      ]
    },
    {
      "cell_type": "code",
      "metadata": {
        "id": "ldyaCCIg1Oqc",
        "colab_type": "code",
        "colab": {}
      },
      "source": [
        "graph_insight(train)\n",
        "for col in ('date_block_num', 'item_id', 'shop_id', 'item_cnt_day', 'item_price'):\n",
        "    print(col)\n",
        "    distribution_insight(train, col)"
      ],
      "execution_count": 0,
      "outputs": []
    },
    {
      "cell_type": "markdown",
      "metadata": {
        "id": "j3Ftr_Bi41ad",
        "colab_type": "text"
      },
      "source": [
        "## Data cleaning \n",
        "Dealing with outlier, fill out those empty values, etc. \n",
        "\n",
        "There are negative `item_cnt_day` and negative `item_price`, this can not be right. \n",
        "\n",
        "Let's deal with negative `item_price` first. "
      ]
    },
    {
      "cell_type": "code",
      "metadata": {
        "id": "ISy5Xf7u2UwV",
        "colab_type": "code",
        "colab": {}
      },
      "source": [
        "plt.figure(figsize=(24, 5))\n",
        "sns.boxplot(train['item_price'])\n",
        "train[train.item_price <= 0]"
      ],
      "execution_count": 0,
      "outputs": []
    },
    {
      "cell_type": "markdown",
      "metadata": {
        "id": "ANkBMp735Zy-",
        "colab_type": "text"
      },
      "source": [
        "There is one row with -1.0 `item_price`, and its `item_id` is 2973. \n",
        "\n",
        "By filtering on the samee `item_id` and `date_block_num` (same month): `train[(train.item_id == 2973) & (train.date_block_num == 4)]`, we found that most price during this month is `1249`. So we're going to replace it with `1249`. \n",
        "\n",
        "Also, there is an outlier with very large `item_price`: 307980, we simply remove it from dataset"
      ]
    },
    {
      "cell_type": "code",
      "metadata": {
        "id": "3QPDtxdN5m1c",
        "colab_type": "code",
        "colab": {}
      },
      "source": [
        "train.loc[train.item_price < 0, 'item_price'] = 1249\n",
        "\n",
        "train = train[train.item_price < 100_000]\n",
        "train[train.item_price >= 100_000]"
      ],
      "execution_count": 0,
      "outputs": []
    },
    {
      "cell_type": "markdown",
      "metadata": {
        "id": "748Pifxz7ypR",
        "colab_type": "text"
      },
      "source": [
        "We're done with the `item_price` feature, now we need to fix `item_cnt_day`. \n",
        "\n",
        "This problem is a little bit more serious, since we got 7356 rows with negative `item_cnt_day`. Most of them has `-1` as the value. Potential strategies:\n",
        "1. replace each negative value by its absolution value (maybe caused by writing mistakes)\n",
        "2. remove them \n",
        "3. replace with most frequent `item_cn_day` with same `item_id`\n",
        "\n",
        "For simplity, we remove those rows."
      ]
    },
    {
      "cell_type": "code",
      "metadata": {
        "id": "0sZozB2N78im",
        "colab_type": "code",
        "colab": {}
      },
      "source": [
        "train[train.item_cnt_day < 0].shop_id.value_counts()\n",
        "# train[(train.item_cnt_day < 0) & (train.shop_id == 25)]\n",
        "train[(train.date_block_num == 1) & (train.shop_id == 12)].item_cnt_day.value_counts()\n",
        "train = train[train.item_cnt_day >= 0]"
      ],
      "execution_count": 0,
      "outputs": []
    },
    {
      "cell_type": "markdown",
      "metadata": {
        "id": "eKAe9b--AqIG",
        "colab_type": "text"
      },
      "source": [
        "Some Russian speakers found mislabel on shop ids.\n",
        "So we correct them in train and test set."
      ]
    },
    {
      "cell_type": "code",
      "metadata": {
        "id": "8oj0SUW9AgeT",
        "colab_type": "code",
        "colab": {}
      },
      "source": [
        "# Якутск Орджоникидзе, 56\n",
        "train.loc[train.shop_id == 0, 'shop_id'] = 57\n",
        "test.loc[test.shop_id == 0, 'shop_id'] = 57\n",
        "# Якутск ТЦ \"Центральный\"\n",
        "train.loc[train.shop_id == 1, 'shop_id'] = 58\n",
        "test.loc[test.shop_id == 1, 'shop_id'] = 58\n",
        "# Жуковский ул. Чкалова 39м²\n",
        "train.loc[train.shop_id == 11, 'shop_id'] = 10\n",
        "test.loc[test.shop_id == 11, 'shop_id'] = 10\n",
        "# РостовНаДону ТРК \"Мегацентр Горизонт\" Островной\n",
        "train.loc[train.shop_id == 40, 'shop_id'] = 39\n",
        "test.loc[test.shop_id == 40, 'shop_id'] = 39"
      ],
      "execution_count": 0,
      "outputs": []
    },
    {
      "cell_type": "markdown",
      "metadata": {
        "id": "VJV4HZGC_xcl",
        "colab_type": "text"
      },
      "source": [
        "Now we're done with data cleaning, the next step is tailoring (is this a word) our data so we can build a model and run on it.\n",
        "\n",
        "# Data manipulating"
      ]
    },
    {
      "cell_type": "code",
      "metadata": {
        "id": "Fwz3wZzzAOaQ",
        "colab_type": "code",
        "colab": {}
      },
      "source": [
        "items = pd.read_csv('data/items.csv')\n",
        "shops = pd.read_csv('data/shops.csv')\n",
        "cats  = pd.read_csv('data/item_categories.csv')\n",
        "test  = pd.read_csv('data/test.csv').set_index('ID')"
      ],
      "execution_count": 0,
      "outputs": []
    },
    {
      "cell_type": "markdown",
      "metadata": {
        "id": "1umAS3p9B-qr",
        "colab_type": "text"
      },
      "source": [
        "Observations (by some Russian speakers):\n",
        "\n",
        "1. Each shop_name starts with the city name.\n",
        "2. Each category contains type and subtype in its name.\n",
        "\n",
        "The following codes deal with \n",
        "1. `shop_name` (in Russian) from dataset `shops` by extracting the city name from it and label encoding it to numbers\n",
        "2. `item_category_name` from dataset `cats` by spliting it into `main_type` and `sub_type` and label encoding them\n",
        "3. dropping `item_name` from dataset `items`"
      ]
    },
    {
      "cell_type": "code",
      "metadata": {
        "id": "j0j7jul2CZqi",
        "colab_type": "code",
        "colab": {}
      },
      "source": [
        "shops.head()"
      ],
      "execution_count": 0,
      "outputs": []
    },
    {
      "cell_type": "code",
      "metadata": {
        "id": "ohAIXf-rCftq",
        "colab_type": "code",
        "colab": {}
      },
      "source": [
        "cats.head()"
      ],
      "execution_count": 0,
      "outputs": []
    },
    {
      "cell_type": "code",
      "metadata": {
        "id": "ntvIYsjOCryV",
        "colab_type": "code",
        "colab": {}
      },
      "source": [
        "items.head()"
      ],
      "execution_count": 0,
      "outputs": []
    },
    {
      "cell_type": "markdown",
      "metadata": {
        "id": "_B5WDlSVBePW",
        "colab_type": "text"
      },
      "source": [
        "Categorize shop names"
      ]
    },
    {
      "cell_type": "code",
      "metadata": {
        "id": "Y_kZ_G0VB66T",
        "colab_type": "code",
        "colab": {}
      },
      "source": [
        "shops_df = shops \n",
        "shops_df.loc[shops.shop_name == 'Сергиев Посад ТЦ \"7Я\"', 'shop_name'] = 'СергиевПосад ТЦ \"7Я\"'\n",
        "\n",
        "shops_df['city'] = shops['shop_name'].str.split(' ').map(lambda x: x[0])\n",
        "shops_df['category'] = shops['shop_name'].str.split(' ').map(lambda x: x[1]).astype(str)\n",
        "shops_df.loc[shops_df.city == '!Якутск', 'city'] = 'Якутск'\n",
        "\n",
        "top_cats = ['ТЦ', 'ТРК', 'ТРЦ', 'ТК']\n",
        "shops_df['category'] = shops_df.category.apply(lambda x: x if x in top_cats else 'etc')\n",
        "\n",
        "shops_df['shop_city'] = sklearn.preprocessing.LabelEncoder().fit_transform(shops_df['city'])\n",
        "shops_df['shop_category'] = sklearn.preprocessing.LabelEncoder().fit_transform(shops_df['category'])\n",
        "shops_df = shops_df[['shop_id','shop_city', 'shop_category']]\n",
        "\n",
        "shops_df.head()"
      ],
      "execution_count": 0,
      "outputs": []
    },
    {
      "cell_type": "markdown",
      "metadata": {
        "id": "af4TgKplFHx1",
        "colab_type": "text"
      },
      "source": [
        "Categorize cats info"
      ]
    },
    {
      "cell_type": "code",
      "metadata": {
        "id": "sU15CZ14EB3D",
        "colab_type": "code",
        "colab": {}
      },
      "source": [
        "cats_df = cats \n",
        "cats_df['type_code'] = cats_df.item_category_name.apply(lambda x: x.split(' ')[0]).astype(str)\n",
        "# Fuse some item_category_name \n",
        "cats_df.loc[(cats_df.type_code == 'Игровые') | (cats_df.type_code == 'Аксессуары'), 'type_code'] = 'Игры'\n",
        "cats_df.loc[cats_df.type_code == 'PC', 'type_code'] = 'Музыка'\n",
        "\n",
        "top_type_codes = set(['Игры', 'Карты', 'Кино', 'Книги','Музыка', 'Подарки', 'Программы', 'Служебные', 'Чистые'])\n",
        "cats_df['type_code'] = cats_df.type_code.apply(lambda t: t if t in top_type_codes else 'etc')\n",
        "cats_df['type_code'] = sklearn.preprocessing.LabelEncoder().fit_transform(cats_df['type_code'])\n",
        "\n",
        "## Labelencoder item_category_name (sub category) to subtype_code\n",
        "cats_df['split'] = cats_df.item_category_name.apply(lambda x: x.split('-'))\n",
        "cats_df['subtype'] = cats_df['split'].map(lambda x: x[1].strip() if len(x) > 1 else x[0].strip())\n",
        "cats_df['subtype_code'] = sklearn.preprocessing.LabelEncoder().fit_transform(cats_df['subtype'])\n",
        "\n",
        "cats_df = cats_df[['item_category_id','type_code', 'subtype_code']]\n",
        "cats_df.head()\n",
        "# cats_df.type_code.value_counts()"
      ],
      "execution_count": 0,
      "outputs": []
    },
    {
      "cell_type": "markdown",
      "metadata": {
        "id": "aYlCyKTJHrOe",
        "colab_type": "text"
      },
      "source": [
        "Categorize item info"
      ]
    },
    {
      "cell_type": "code",
      "metadata": {
        "id": "7zCwvAzZHtJh",
        "colab_type": "code",
        "colab": {
          "base_uri": "https://localhost:8080/",
          "height": 507
        },
        "outputId": "1a28c2ef-18a9-4235-c74a-cd61f66eea3c"
      },
      "source": [
        "import collections\n",
        "import operator \n",
        "\n",
        "items_df = items\n",
        "items_df['item_name'] = items_df.item_name.str.strip() # removing leading / trailing whitespaces, essential for later steps\n",
        "\n",
        "items_df['name_1'], items_df['name_2'] = items_df['item_name'].str.split('[', 1).str\n",
        "items_df['name_1'], items_df['name_3'] = items_df['item_name'].str.split('(', 1).str\n",
        "\n",
        "# Replace non-alphabatic symbols by ' '\n",
        "items_df['name_2'] = items_df['name_2'].str.replace('[^A-Za-z0-9А-Яа-я]+', ' ').str.lower().str.strip()\n",
        "items_df['name_3'] = items_df['name_3'].str.replace('[^A-Za-z0-9А-Яа-я]+', ' ').str.lower().str.strip()\n",
        "items_df.fillna('0', inplace=True)\n",
        "items_df.loc[items_df.name_2 == '', 'name_2'] = '0' # two of those '' can not be filled by '0', weird\n",
        "\n",
        "# Experiments ?\n",
        "# cnt = collections.Counter(' '.join(items_df['name_2'].values.tolist()).split(' ')).items()\n",
        "# cnt = sorted(cnt, key=operator.itemgetter(1))\n",
        "# items_df.sample(10)\n",
        "# cnt\n",
        "\n",
        "items_df['type'] = items_df.name_2.apply(lambda x: x[0:8] if x.split(' ')[0] == 'xbox' else x.split(' ')[0])\n",
        "items_df.loc[(items_df.type == 'x360') | (items_df.type == 'xbox360'), 'type'] = 'xbox 360'\n",
        "items_df.loc[items_df.type == 'рs3', 'type'] = 'ps3' # beware, 'рs3' is not English string 'ps3'\n",
        "items_df.loc[(items_df.type == 'pс') | (items_df.type == 'рс'), 'type'] = 'pc' \n",
        "\n",
        "\n",
        "items_df[items_df.name_2 == '']\n",
        "# items_df[(items_df.name_2.str.contains('pc цифровая версия'))].sample(10)\n",
        "droplists = set([k for k, v in items_df.type.value_counts().items() if v < 20])\n",
        "droplists\n",
        "# \n",
        "# Replece low frequence item type by other in name_2\n",
        "items_df['name_2'] = items.type.apply(lambda n: 'other' if n in droplists else n)\n",
        "items_df['name_2'] = sklearn.preprocessing.LabelEncoder().fit_transform(items_df.name_2)\n",
        "\n",
        "# name_3 no reducing ??\n",
        "items_df['name_3'] = sklearn.preprocessing.LabelEncoder().fit_transform(items_df.name_3)\n",
        "# items_df.name_3.value_counts()\n",
        "\n",
        "items_df = items_df[['item_id', 'item_category_id', 'name_2', 'name_3']]\n",
        "items_df"
      ],
      "execution_count": 167,
      "outputs": [
        {
          "output_type": "stream",
          "text": [
            "/usr/local/lib/python3.6/dist-packages/ipykernel_launcher.py:7: FutureWarning: Columnar iteration over characters will be deprecated in future releases.\n",
            "  import sys\n",
            "/usr/local/lib/python3.6/dist-packages/ipykernel_launcher.py:8: FutureWarning: Columnar iteration over characters will be deprecated in future releases.\n",
            "  \n"
          ],
          "name": "stderr"
        },
        {
          "output_type": "execute_result",
          "data": {
            "text/html": [
              "<div>\n",
              "<style scoped>\n",
              "    .dataframe tbody tr th:only-of-type {\n",
              "        vertical-align: middle;\n",
              "    }\n",
              "\n",
              "    .dataframe tbody tr th {\n",
              "        vertical-align: top;\n",
              "    }\n",
              "\n",
              "    .dataframe thead th {\n",
              "        text-align: right;\n",
              "    }\n",
              "</style>\n",
              "<table border=\"1\" class=\"dataframe\">\n",
              "  <thead>\n",
              "    <tr style=\"text-align: right;\">\n",
              "      <th></th>\n",
              "      <th>item_id</th>\n",
              "      <th>item_category_id</th>\n",
              "      <th>name_2</th>\n",
              "      <th>name_3</th>\n",
              "    </tr>\n",
              "  </thead>\n",
              "  <tbody>\n",
              "    <tr>\n",
              "      <th>0</th>\n",
              "      <td>0</td>\n",
              "      <td>40</td>\n",
              "      <td>0</td>\n",
              "      <td>1318</td>\n",
              "    </tr>\n",
              "    <tr>\n",
              "      <th>1</th>\n",
              "      <td>1</td>\n",
              "      <td>76</td>\n",
              "      <td>3</td>\n",
              "      <td>0</td>\n",
              "    </tr>\n",
              "    <tr>\n",
              "      <th>2</th>\n",
              "      <td>2</td>\n",
              "      <td>40</td>\n",
              "      <td>0</td>\n",
              "      <td>985</td>\n",
              "    </tr>\n",
              "    <tr>\n",
              "      <th>3</th>\n",
              "      <td>3</td>\n",
              "      <td>40</td>\n",
              "      <td>0</td>\n",
              "      <td>984</td>\n",
              "    </tr>\n",
              "    <tr>\n",
              "      <th>4</th>\n",
              "      <td>4</td>\n",
              "      <td>40</td>\n",
              "      <td>0</td>\n",
              "      <td>1563</td>\n",
              "    </tr>\n",
              "    <tr>\n",
              "      <th>...</th>\n",
              "      <td>...</td>\n",
              "      <td>...</td>\n",
              "      <td>...</td>\n",
              "      <td>...</td>\n",
              "    </tr>\n",
              "    <tr>\n",
              "      <th>22165</th>\n",
              "      <td>22165</td>\n",
              "      <td>31</td>\n",
              "      <td>3</td>\n",
              "      <td>0</td>\n",
              "    </tr>\n",
              "    <tr>\n",
              "      <th>22166</th>\n",
              "      <td>22166</td>\n",
              "      <td>54</td>\n",
              "      <td>10</td>\n",
              "      <td>0</td>\n",
              "    </tr>\n",
              "    <tr>\n",
              "      <th>22167</th>\n",
              "      <td>22167</td>\n",
              "      <td>49</td>\n",
              "      <td>0</td>\n",
              "      <td>575</td>\n",
              "    </tr>\n",
              "    <tr>\n",
              "      <th>22168</th>\n",
              "      <td>22168</td>\n",
              "      <td>62</td>\n",
              "      <td>0</td>\n",
              "      <td>0</td>\n",
              "    </tr>\n",
              "    <tr>\n",
              "      <th>22169</th>\n",
              "      <td>22169</td>\n",
              "      <td>69</td>\n",
              "      <td>0</td>\n",
              "      <td>1160</td>\n",
              "    </tr>\n",
              "  </tbody>\n",
              "</table>\n",
              "<p>22170 rows × 4 columns</p>\n",
              "</div>"
            ],
            "text/plain": [
              "       item_id  item_category_id  name_2  name_3\n",
              "0            0                40       0    1318\n",
              "1            1                76       3       0\n",
              "2            2                40       0     985\n",
              "3            3                40       0     984\n",
              "4            4                40       0    1563\n",
              "...        ...               ...     ...     ...\n",
              "22165    22165                31       3       0\n",
              "22166    22166                54      10       0\n",
              "22167    22167                49       0     575\n",
              "22168    22168                62       0       0\n",
              "22169    22169                69       0    1160\n",
              "\n",
              "[22170 rows x 4 columns]"
            ]
          },
          "metadata": {
            "tags": []
          },
          "execution_count": 167
        }
      ]
    },
    {
      "cell_type": "markdown",
      "metadata": {
        "id": "sMZ9CDZkxUF2",
        "colab_type": "text"
      },
      "source": [
        "Dealing with month sales "
      ]
    },
    {
      "cell_type": "code",
      "metadata": {
        "id": "PEo3nABCjeNN",
        "colab_type": "code",
        "colab": {
          "base_uri": "https://localhost:8080/",
          "height": 419
        },
        "outputId": "e939a8ae-9971-4cc2-e308-b46d2fa87871"
      },
      "source": [
        "import itertools \n",
        "products = []\n",
        "cols = ['date_block_num','shop_id','item_id']\n",
        "\n",
        "for i in range(34):\n",
        "    sales = train[train.date_block_num == i]\n",
        "    products.append(np.array(list(itertools.product([i], sales.shop_id.unique(), sales.item_id.unique())), dtype='int16'))\n",
        "\n",
        "products_df = pd.DataFrame(np.vstack(products), columns=cols)\n",
        "products_df.sort_values(cols, inplace=True)\n",
        "products_df"
      ],
      "execution_count": 202,
      "outputs": [
        {
          "output_type": "execute_result",
          "data": {
            "text/html": [
              "<div>\n",
              "<style scoped>\n",
              "    .dataframe tbody tr th:only-of-type {\n",
              "        vertical-align: middle;\n",
              "    }\n",
              "\n",
              "    .dataframe tbody tr th {\n",
              "        vertical-align: top;\n",
              "    }\n",
              "\n",
              "    .dataframe thead th {\n",
              "        text-align: right;\n",
              "    }\n",
              "</style>\n",
              "<table border=\"1\" class=\"dataframe\">\n",
              "  <thead>\n",
              "    <tr style=\"text-align: right;\">\n",
              "      <th></th>\n",
              "      <th>date_block_num</th>\n",
              "      <th>shop_id</th>\n",
              "      <th>item_id</th>\n",
              "    </tr>\n",
              "  </thead>\n",
              "  <tbody>\n",
              "    <tr>\n",
              "      <th>114838</th>\n",
              "      <td>0</td>\n",
              "      <td>2</td>\n",
              "      <td>19</td>\n",
              "    </tr>\n",
              "    <tr>\n",
              "      <th>117076</th>\n",
              "      <td>0</td>\n",
              "      <td>2</td>\n",
              "      <td>27</td>\n",
              "    </tr>\n",
              "    <tr>\n",
              "      <th>120551</th>\n",
              "      <td>0</td>\n",
              "      <td>2</td>\n",
              "      <td>28</td>\n",
              "    </tr>\n",
              "    <tr>\n",
              "      <th>118242</th>\n",
              "      <td>0</td>\n",
              "      <td>2</td>\n",
              "      <td>29</td>\n",
              "    </tr>\n",
              "    <tr>\n",
              "      <th>114531</th>\n",
              "      <td>0</td>\n",
              "      <td>2</td>\n",
              "      <td>32</td>\n",
              "    </tr>\n",
              "    <tr>\n",
              "      <th>...</th>\n",
              "      <td>...</td>\n",
              "      <td>...</td>\n",
              "      <td>...</td>\n",
              "    </tr>\n",
              "    <tr>\n",
              "      <th>10667853</th>\n",
              "      <td>33</td>\n",
              "      <td>59</td>\n",
              "      <td>22162</td>\n",
              "    </tr>\n",
              "    <tr>\n",
              "      <th>10668043</th>\n",
              "      <td>33</td>\n",
              "      <td>59</td>\n",
              "      <td>22163</td>\n",
              "    </tr>\n",
              "    <tr>\n",
              "      <th>10668709</th>\n",
              "      <td>33</td>\n",
              "      <td>59</td>\n",
              "      <td>22164</td>\n",
              "    </tr>\n",
              "    <tr>\n",
              "      <th>10670235</th>\n",
              "      <td>33</td>\n",
              "      <td>59</td>\n",
              "      <td>22166</td>\n",
              "    </tr>\n",
              "    <tr>\n",
              "      <th>10669530</th>\n",
              "      <td>33</td>\n",
              "      <td>59</td>\n",
              "      <td>22167</td>\n",
              "    </tr>\n",
              "  </tbody>\n",
              "</table>\n",
              "<p>10812815 rows × 3 columns</p>\n",
              "</div>"
            ],
            "text/plain": [
              "          date_block_num  shop_id  item_id\n",
              "114838                 0        2       19\n",
              "117076                 0        2       27\n",
              "120551                 0        2       28\n",
              "118242                 0        2       29\n",
              "114531                 0        2       32\n",
              "...                  ...      ...      ...\n",
              "10667853              33       59    22162\n",
              "10668043              33       59    22163\n",
              "10668709              33       59    22164\n",
              "10670235              33       59    22166\n",
              "10669530              33       59    22167\n",
              "\n",
              "[10812815 rows x 3 columns]"
            ]
          },
          "metadata": {
            "tags": []
          },
          "execution_count": 202
        }
      ]
    },
    {
      "cell_type": "markdown",
      "metadata": {
        "id": "7iHwnm9o4-wV",
        "colab_type": "text"
      },
      "source": [
        "Extract more features on train"
      ]
    },
    {
      "cell_type": "code",
      "metadata": {
        "id": "YK2YuRMFy5jd",
        "colab_type": "code",
        "colab": {
          "base_uri": "https://localhost:8080/",
          "height": 419
        },
        "outputId": "f921df12-8ddf-442d-e8bc-6ac229ef42a3"
      },
      "source": [
        "train_df = train\n",
        "train_df['revenue'] = train_df['item_price'] * train['item_cnt_day']\n",
        "group = train_df.groupby(['date_block_num', 'shop_id', 'item_id']).agg({'item_cnt_day': ['sum']})\n",
        "\n",
        "train_df\n",
        "# TODO \n",
        "# https://www.kaggle.com/meliao/lgb-baseline-top8-clear-code-50-faster"
      ],
      "execution_count": 199,
      "outputs": [
        {
          "output_type": "execute_result",
          "data": {
            "text/html": [
              "<div>\n",
              "<style scoped>\n",
              "    .dataframe tbody tr th:only-of-type {\n",
              "        vertical-align: middle;\n",
              "    }\n",
              "\n",
              "    .dataframe tbody tr th {\n",
              "        vertical-align: top;\n",
              "    }\n",
              "\n",
              "    .dataframe thead th {\n",
              "        text-align: right;\n",
              "    }\n",
              "</style>\n",
              "<table border=\"1\" class=\"dataframe\">\n",
              "  <thead>\n",
              "    <tr style=\"text-align: right;\">\n",
              "      <th></th>\n",
              "      <th>date</th>\n",
              "      <th>date_block_num</th>\n",
              "      <th>shop_id</th>\n",
              "      <th>item_id</th>\n",
              "      <th>item_price</th>\n",
              "      <th>item_cnt_day</th>\n",
              "      <th>revenue</th>\n",
              "    </tr>\n",
              "  </thead>\n",
              "  <tbody>\n",
              "    <tr>\n",
              "      <th>0</th>\n",
              "      <td>02.01.2013</td>\n",
              "      <td>0</td>\n",
              "      <td>59</td>\n",
              "      <td>22154</td>\n",
              "      <td>999.00</td>\n",
              "      <td>1.0</td>\n",
              "      <td>999.00</td>\n",
              "    </tr>\n",
              "    <tr>\n",
              "      <th>1</th>\n",
              "      <td>03.01.2013</td>\n",
              "      <td>0</td>\n",
              "      <td>25</td>\n",
              "      <td>2552</td>\n",
              "      <td>899.00</td>\n",
              "      <td>1.0</td>\n",
              "      <td>899.00</td>\n",
              "    </tr>\n",
              "    <tr>\n",
              "      <th>3</th>\n",
              "      <td>06.01.2013</td>\n",
              "      <td>0</td>\n",
              "      <td>25</td>\n",
              "      <td>2554</td>\n",
              "      <td>1709.05</td>\n",
              "      <td>1.0</td>\n",
              "      <td>1709.05</td>\n",
              "    </tr>\n",
              "    <tr>\n",
              "      <th>4</th>\n",
              "      <td>15.01.2013</td>\n",
              "      <td>0</td>\n",
              "      <td>25</td>\n",
              "      <td>2555</td>\n",
              "      <td>1099.00</td>\n",
              "      <td>1.0</td>\n",
              "      <td>1099.00</td>\n",
              "    </tr>\n",
              "    <tr>\n",
              "      <th>5</th>\n",
              "      <td>10.01.2013</td>\n",
              "      <td>0</td>\n",
              "      <td>25</td>\n",
              "      <td>2564</td>\n",
              "      <td>349.00</td>\n",
              "      <td>1.0</td>\n",
              "      <td>349.00</td>\n",
              "    </tr>\n",
              "    <tr>\n",
              "      <th>...</th>\n",
              "      <td>...</td>\n",
              "      <td>...</td>\n",
              "      <td>...</td>\n",
              "      <td>...</td>\n",
              "      <td>...</td>\n",
              "      <td>...</td>\n",
              "      <td>...</td>\n",
              "    </tr>\n",
              "    <tr>\n",
              "      <th>2935838</th>\n",
              "      <td>10.10.2015</td>\n",
              "      <td>33</td>\n",
              "      <td>25</td>\n",
              "      <td>7409</td>\n",
              "      <td>299.00</td>\n",
              "      <td>1.0</td>\n",
              "      <td>299.00</td>\n",
              "    </tr>\n",
              "    <tr>\n",
              "      <th>2935839</th>\n",
              "      <td>09.10.2015</td>\n",
              "      <td>33</td>\n",
              "      <td>25</td>\n",
              "      <td>7460</td>\n",
              "      <td>299.00</td>\n",
              "      <td>1.0</td>\n",
              "      <td>299.00</td>\n",
              "    </tr>\n",
              "    <tr>\n",
              "      <th>2935840</th>\n",
              "      <td>14.10.2015</td>\n",
              "      <td>33</td>\n",
              "      <td>25</td>\n",
              "      <td>7459</td>\n",
              "      <td>349.00</td>\n",
              "      <td>1.0</td>\n",
              "      <td>349.00</td>\n",
              "    </tr>\n",
              "    <tr>\n",
              "      <th>2935841</th>\n",
              "      <td>22.10.2015</td>\n",
              "      <td>33</td>\n",
              "      <td>25</td>\n",
              "      <td>7440</td>\n",
              "      <td>299.00</td>\n",
              "      <td>1.0</td>\n",
              "      <td>299.00</td>\n",
              "    </tr>\n",
              "    <tr>\n",
              "      <th>2935842</th>\n",
              "      <td>03.10.2015</td>\n",
              "      <td>33</td>\n",
              "      <td>25</td>\n",
              "      <td>7460</td>\n",
              "      <td>299.00</td>\n",
              "      <td>1.0</td>\n",
              "      <td>299.00</td>\n",
              "    </tr>\n",
              "  </tbody>\n",
              "</table>\n",
              "<p>2928486 rows × 7 columns</p>\n",
              "</div>"
            ],
            "text/plain": [
              "               date  date_block_num  shop_id  item_id  item_price  \\\n",
              "0        02.01.2013               0       59    22154      999.00   \n",
              "1        03.01.2013               0       25     2552      899.00   \n",
              "3        06.01.2013               0       25     2554     1709.05   \n",
              "4        15.01.2013               0       25     2555     1099.00   \n",
              "5        10.01.2013               0       25     2564      349.00   \n",
              "...             ...             ...      ...      ...         ...   \n",
              "2935838  10.10.2015              33       25     7409      299.00   \n",
              "2935839  09.10.2015              33       25     7460      299.00   \n",
              "2935840  14.10.2015              33       25     7459      349.00   \n",
              "2935841  22.10.2015              33       25     7440      299.00   \n",
              "2935842  03.10.2015              33       25     7460      299.00   \n",
              "\n",
              "         item_cnt_day  revenue  \n",
              "0                 1.0   999.00  \n",
              "1                 1.0   899.00  \n",
              "3                 1.0  1709.05  \n",
              "4                 1.0  1099.00  \n",
              "5                 1.0   349.00  \n",
              "...               ...      ...  \n",
              "2935838           1.0   299.00  \n",
              "2935839           1.0   299.00  \n",
              "2935840           1.0   349.00  \n",
              "2935841           1.0   299.00  \n",
              "2935842           1.0   299.00  \n",
              "\n",
              "[2928486 rows x 7 columns]"
            ]
          },
          "metadata": {
            "tags": []
          },
          "execution_count": 199
        }
      ]
    },
    {
      "cell_type": "code",
      "metadata": {
        "id": "uEZQkl1bzDFu",
        "colab_type": "code",
        "colab": {
          "base_uri": "https://localhost:8080/",
          "height": 419
        },
        "outputId": "b05a1e3b-1731-4d71-b0c1-cdb213f61308"
      },
      "source": [
        "group.columns = ['item_cnt_month']\n",
        "group.reset_index(inplace=True)\n",
        "group\n",
        "# list(itertools.product([2], [4,5], [9,8,7]))\n"
      ],
      "execution_count": 200,
      "outputs": [
        {
          "output_type": "execute_result",
          "data": {
            "text/html": [
              "<div>\n",
              "<style scoped>\n",
              "    .dataframe tbody tr th:only-of-type {\n",
              "        vertical-align: middle;\n",
              "    }\n",
              "\n",
              "    .dataframe tbody tr th {\n",
              "        vertical-align: top;\n",
              "    }\n",
              "\n",
              "    .dataframe thead th {\n",
              "        text-align: right;\n",
              "    }\n",
              "</style>\n",
              "<table border=\"1\" class=\"dataframe\">\n",
              "  <thead>\n",
              "    <tr style=\"text-align: right;\">\n",
              "      <th></th>\n",
              "      <th>date_block_num</th>\n",
              "      <th>shop_id</th>\n",
              "      <th>item_id</th>\n",
              "      <th>item_cnt_month</th>\n",
              "    </tr>\n",
              "  </thead>\n",
              "  <tbody>\n",
              "    <tr>\n",
              "      <th>0</th>\n",
              "      <td>0</td>\n",
              "      <td>2</td>\n",
              "      <td>27</td>\n",
              "      <td>1.0</td>\n",
              "    </tr>\n",
              "    <tr>\n",
              "      <th>1</th>\n",
              "      <td>0</td>\n",
              "      <td>2</td>\n",
              "      <td>33</td>\n",
              "      <td>1.0</td>\n",
              "    </tr>\n",
              "    <tr>\n",
              "      <th>2</th>\n",
              "      <td>0</td>\n",
              "      <td>2</td>\n",
              "      <td>317</td>\n",
              "      <td>1.0</td>\n",
              "    </tr>\n",
              "    <tr>\n",
              "      <th>3</th>\n",
              "      <td>0</td>\n",
              "      <td>2</td>\n",
              "      <td>438</td>\n",
              "      <td>1.0</td>\n",
              "    </tr>\n",
              "    <tr>\n",
              "      <th>4</th>\n",
              "      <td>0</td>\n",
              "      <td>2</td>\n",
              "      <td>471</td>\n",
              "      <td>2.0</td>\n",
              "    </tr>\n",
              "    <tr>\n",
              "      <th>...</th>\n",
              "      <td>...</td>\n",
              "      <td>...</td>\n",
              "      <td>...</td>\n",
              "      <td>...</td>\n",
              "    </tr>\n",
              "    <tr>\n",
              "      <th>1607368</th>\n",
              "      <td>33</td>\n",
              "      <td>59</td>\n",
              "      <td>22087</td>\n",
              "      <td>6.0</td>\n",
              "    </tr>\n",
              "    <tr>\n",
              "      <th>1607369</th>\n",
              "      <td>33</td>\n",
              "      <td>59</td>\n",
              "      <td>22088</td>\n",
              "      <td>2.0</td>\n",
              "    </tr>\n",
              "    <tr>\n",
              "      <th>1607370</th>\n",
              "      <td>33</td>\n",
              "      <td>59</td>\n",
              "      <td>22091</td>\n",
              "      <td>1.0</td>\n",
              "    </tr>\n",
              "    <tr>\n",
              "      <th>1607371</th>\n",
              "      <td>33</td>\n",
              "      <td>59</td>\n",
              "      <td>22100</td>\n",
              "      <td>1.0</td>\n",
              "    </tr>\n",
              "    <tr>\n",
              "      <th>1607372</th>\n",
              "      <td>33</td>\n",
              "      <td>59</td>\n",
              "      <td>22102</td>\n",
              "      <td>1.0</td>\n",
              "    </tr>\n",
              "  </tbody>\n",
              "</table>\n",
              "<p>1607373 rows × 4 columns</p>\n",
              "</div>"
            ],
            "text/plain": [
              "         date_block_num  shop_id  item_id  item_cnt_month\n",
              "0                     0        2       27             1.0\n",
              "1                     0        2       33             1.0\n",
              "2                     0        2      317             1.0\n",
              "3                     0        2      438             1.0\n",
              "4                     0        2      471             2.0\n",
              "...                 ...      ...      ...             ...\n",
              "1607368              33       59    22087             6.0\n",
              "1607369              33       59    22088             2.0\n",
              "1607370              33       59    22091             1.0\n",
              "1607371              33       59    22100             1.0\n",
              "1607372              33       59    22102             1.0\n",
              "\n",
              "[1607373 rows x 4 columns]"
            ]
          },
          "metadata": {
            "tags": []
          },
          "execution_count": 200
        }
      ]
    }
  ]
}