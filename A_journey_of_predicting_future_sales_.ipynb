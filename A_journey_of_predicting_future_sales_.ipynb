{
  "nbformat": 4,
  "nbformat_minor": 0,
  "metadata": {
    "colab": {
      "name": "A journey of predicting future sales .ipynb",
      "provenance": [],
      "collapsed_sections": [],
      "authorship_tag": "ABX9TyOzVX+F7AtOJDmI8+hENWrg",
      "include_colab_link": true
    },
    "kernelspec": {
      "name": "python3",
      "display_name": "Python 3"
    },
    "accelerator": "GPU"
  },
  "cells": [
    {
      "cell_type": "markdown",
      "metadata": {
        "id": "view-in-github",
        "colab_type": "text"
      },
      "source": [
        "<a href=\"https://colab.research.google.com/github/GaoangLiu/AA_ipynb/blob/master/A_journey_of_predicting_future_sales_.ipynb\" target=\"_parent\"><img src=\"https://colab.research.google.com/assets/colab-badge.svg\" alt=\"Open In Colab\"/></a>"
      ]
    },
    {
      "cell_type": "markdown",
      "metadata": {
        "id": "FTPfeiTt_B0n",
        "colab_type": "text"
      },
      "source": [
        "This notebook shows a routine of using machine learning to solve problems. Following topics are covered:\n",
        "1. data preprocessing\n",
        "2. data manipulating \n",
        "3. building models\n",
        "4. fine-tuning and improve models."
      ]
    },
    {
      "cell_type": "markdown",
      "metadata": {
        "id": "G8Go-cIYuuwM",
        "colab_type": "text"
      },
      "source": [
        "# Data preprocessing \n",
        "When working with machine learning, for most of the time, we're dealing with data cleaning, exploring and merging. Building models and fine-tuning parameters, on the other hand, has been much easier with so many popular libraries, e.g., `Sklearn`, `Tensorflow` and `Pytorch`.\n",
        "\n",
        "<!-- Data preprocessing is very important -->\n",
        "\n",
        "In this notebook, we will take the following task [predict future sales](https://www.kaggle.com/c/competitive-data-science-predict-future-sales/notebooks) as an example, to show how to precess data to comply with our needs."
      ]
    },
    {
      "cell_type": "code",
      "metadata": {
        "id": "9zJAeRRrukLY",
        "colab_type": "code",
        "outputId": "b1739988-44d0-485a-aefd-baed18bee4dd",
        "colab": {
          "base_uri": "https://localhost:8080/",
          "height": 71
        }
      },
      "source": [
        "import os \n",
        "import numpy as np\n",
        "import pandas as pd\n",
        "import seaborn as sns\n",
        "import tensorflow as tf\n",
        "import sklearn\n",
        "import sklearn.metrics \n",
        "import sklearn.model_selection\n",
        "import sklearn.feature_extraction\n",
        "import sklearn.preprocessing\n",
        "\n",
        "from absl import logging\n",
        "import gensim.downloader as api\n",
        "import matplotlib.pyplot as plt\n",
        "logging.set_verbosity(logging.INFO)\n",
        "\n",
        "import re\n",
        "import nltk\n",
        "from nltk.stem import WordNetLemmatizer\n",
        "from nltk.corpus import stopwords\n",
        "\n",
        "pd.set_option('display.max_rows', 500)\n",
        "pd.set_option('display.max_columns', 100)"
      ],
      "execution_count": 1,
      "outputs": [
        {
          "output_type": "stream",
          "text": [
            "/usr/local/lib/python3.6/dist-packages/statsmodels/tools/_testing.py:19: FutureWarning: pandas.util.testing is deprecated. Use the functions in the public API at pandas.testing instead.\n",
            "  import pandas.util.testing as tm\n"
          ],
          "name": "stderr"
        }
      ]
    },
    {
      "cell_type": "markdown",
      "metadata": {
        "id": "Y7efx0eSwYFU",
        "colab_type": "text"
      },
      "source": [
        "## File description. \n",
        "\n",
        "There are 6 files for this specific task:\n",
        "1. `sales_train.csv` - the training set. Daily historical data from January 2013 to October 2015.\n",
        "2. `test.csv` - the test set. You need to forecast the sales for these shops and products for November 2015.\n",
        "3. `sample_submission.csv` - a sample submission file in the correct format.\n",
        "4. `items.csv` - supplemental information about the items/products.\n",
        "5. `item_categories.csv`  - supplemental information about the items categories.\n",
        "6. `shops.csv` - supplemental information about the shops."
      ]
    },
    {
      "cell_type": "code",
      "metadata": {
        "id": "kj49Po4MwZ-n",
        "colab_type": "code",
        "outputId": "f4611647-defd-4d65-e3fb-107608566acd",
        "colab": {
          "base_uri": "https://localhost:8080/",
          "height": 221
        }
      },
      "source": [
        "!curl -o sales.zip ali.140714.xyz:8000/sales.zip\n",
        "!unzip sales.zip\n",
        "!ls"
      ],
      "execution_count": 2,
      "outputs": [
        {
          "output_type": "stream",
          "text": [
            "  % Total    % Received % Xferd  Average Speed   Time    Time     Time  Current\n",
            "                                 Dload  Upload   Total   Spent    Left  Speed\n",
            "100 14.7M  100 14.7M    0     0  2977k      0  0:00:05  0:00:05 --:--:-- 3802k\n",
            "Archive:  sales.zip\n",
            "   creating: data/\n",
            "  inflating: data/sales_train.csv    \n",
            "  inflating: data/shops.csv          \n",
            "  inflating: data/test.csv           \n",
            "  inflating: data/item_categories.csv  \n",
            "  inflating: data/items.csv          \n",
            "  inflating: data/sample_submission.csv  \n",
            "data  sales.zip  sample_data\n"
          ],
          "name": "stdout"
        }
      ]
    },
    {
      "cell_type": "markdown",
      "metadata": {
        "id": "MsY0g8bswu_8",
        "colab_type": "text"
      },
      "source": [
        "We craft several methods to explore the data."
      ]
    },
    {
      "cell_type": "code",
      "metadata": {
        "id": "DAXj3qgTw05W",
        "colab_type": "code",
        "colab": {}
      },
      "source": [
        "def birdview(data):\n",
        "    print(\"----------Head 5 Record----------\")\n",
        "    print(data.head(5))\n",
        "    print(\"\\n-----------Information-----------\")\n",
        "    print(data.info())\n",
        "    print(\"\\n-----------Data Types-----------\")\n",
        "    print(data.dtypes)\n",
        "    print(\"\\n----------Missing value-----------\")\n",
        "    print(data.isnull().sum())\n",
        "    print(\"\\n----------Null value-----------\")\n",
        "    print(data.isna().sum())\n",
        "    print(\"\\n----------Shape of Data----------\")\n",
        "    print(data.shape)\n",
        "    \n",
        "def graph_insight(data):\n",
        "    print(set(data.dtypes.tolist()))\n",
        "    df_num = data.select_dtypes(include = ['float64', 'int64'])\n",
        "    df_num.hist(figsize=(16, 16), bins=50, xlabelsize=8, ylabelsize=8);\n",
        "\n",
        "def distribution_insight(data, column):\n",
        "    print(\"===================================\")\n",
        "    print(\"Min Value:\", data[column].min())\n",
        "    print(\"Max Value:\", data[column].max())\n",
        "    print(\"Average Value:\", data[column].mean())\n",
        "    print(\"Center Point of Data (median):\", data[column].median())\n",
        "    print(\"===================================\")\n",
        "    # sns.boxplot(data[column])\n",
        "    \n",
        "def remove_duplicate(data):\n",
        "    print('Before remove shape:', data.shape)\n",
        "    before = data.shape[0]\n",
        "    # subset is list where you have to put all column for duplicate check\n",
        "    # if None, then use all columns \n",
        "    data.drop_duplicates(subset=None, keep='first', inplace=True) \n",
        "    data.reset_index(drop=True, inplace=True)\n",
        "    print('After remove shape :', data.shape)\n",
        "    after = data.shape[0]\n",
        "    print('Total Duplicate:', before-after)    "
      ],
      "execution_count": 0,
      "outputs": []
    },
    {
      "cell_type": "markdown",
      "metadata": {
        "id": "-UZwshd6xhee",
        "colab_type": "text"
      },
      "source": [
        "## Explore `train.csv`\n",
        "First, let's find out what we have in this **train** file, is there any missing, duplicate value?. If so, we will dealing with it by: \n",
        "* removing duplicates\n",
        "* removing or replacing outliers, e.g., negative daily sale counts\n",
        "* "
      ]
    },
    {
      "cell_type": "code",
      "metadata": {
        "id": "pSaZ4sKkxg33",
        "colab_type": "code",
        "outputId": "de594d8a-1add-4742-a004-9d5fd388cd46",
        "colab": {
          "base_uri": "https://localhost:8080/",
          "height": 918
        }
      },
      "source": [
        "train = pd.read_csv('data/sales_train.csv')\n",
        "birdview(train)"
      ],
      "execution_count": 4,
      "outputs": [
        {
          "output_type": "stream",
          "text": [
            "----------Head 5 Record----------\n",
            "         date  date_block_num  shop_id  item_id  item_price  item_cnt_day\n",
            "0  02.01.2013               0       59    22154      999.00           1.0\n",
            "1  03.01.2013               0       25     2552      899.00           1.0\n",
            "2  05.01.2013               0       25     2552      899.00          -1.0\n",
            "3  06.01.2013               0       25     2554     1709.05           1.0\n",
            "4  15.01.2013               0       25     2555     1099.00           1.0\n",
            "\n",
            "-----------Information-----------\n",
            "<class 'pandas.core.frame.DataFrame'>\n",
            "RangeIndex: 2935849 entries, 0 to 2935848\n",
            "Data columns (total 6 columns):\n",
            " #   Column          Dtype  \n",
            "---  ------          -----  \n",
            " 0   date            object \n",
            " 1   date_block_num  int64  \n",
            " 2   shop_id         int64  \n",
            " 3   item_id         int64  \n",
            " 4   item_price      float64\n",
            " 5   item_cnt_day    float64\n",
            "dtypes: float64(2), int64(3), object(1)\n",
            "memory usage: 134.4+ MB\n",
            "None\n",
            "\n",
            "-----------Data Types-----------\n",
            "date               object\n",
            "date_block_num      int64\n",
            "shop_id             int64\n",
            "item_id             int64\n",
            "item_price        float64\n",
            "item_cnt_day      float64\n",
            "dtype: object\n",
            "\n",
            "----------Missing value-----------\n",
            "date              0\n",
            "date_block_num    0\n",
            "shop_id           0\n",
            "item_id           0\n",
            "item_price        0\n",
            "item_cnt_day      0\n",
            "dtype: int64\n",
            "\n",
            "----------Null value-----------\n",
            "date              0\n",
            "date_block_num    0\n",
            "shop_id           0\n",
            "item_id           0\n",
            "item_price        0\n",
            "item_cnt_day      0\n",
            "dtype: int64\n",
            "\n",
            "----------Shape of Data----------\n",
            "(2935849, 6)\n"
          ],
          "name": "stdout"
        }
      ]
    },
    {
      "cell_type": "markdown",
      "metadata": {
        "id": "SL_ES9Q_ynpT",
        "colab_type": "text"
      },
      "source": [
        "A birdview of `train.csv`, we found that:\n",
        "1. There are outliers, e.g., the 3rd row has a negative `item_cnt_day`\n",
        "2. There is no missing value or Null value, which is good.\n",
        "\n",
        "Now, we run `remove_duplicate()` method to remove potential duplicate rows. "
      ]
    },
    {
      "cell_type": "code",
      "metadata": {
        "id": "fk_RyJ63zQWC",
        "colab_type": "code",
        "outputId": "487bec8e-ef42-4820-8b66-d7d8d4feb72e",
        "colab": {
          "base_uri": "https://localhost:8080/",
          "height": 68
        }
      },
      "source": [
        "remove_duplicate(train)"
      ],
      "execution_count": 5,
      "outputs": [
        {
          "output_type": "stream",
          "text": [
            "Before remove shape: (2935849, 6)\n",
            "After remove shape : (2935843, 6)\n",
            "Total Duplicate: 6\n"
          ],
          "name": "stdout"
        }
      ]
    },
    {
      "cell_type": "markdown",
      "metadata": {
        "id": "EAdoS6ng0osL",
        "colab_type": "text"
      },
      "source": [
        "We found and removed 6 duplicated rows, not a big deal since we still got 2_935_843 unique rows. \n",
        "\n",
        "Next, we need to deal with outliers. A natual way is drawing its distribution graph and see whether this distribution comply with our intuition. \n",
        "\n",
        "We've also wrote a method `distribution_insight()` to gain insights on `int | float` datatype columns."
      ]
    },
    {
      "cell_type": "code",
      "metadata": {
        "id": "ldyaCCIg1Oqc",
        "colab_type": "code",
        "outputId": "8b3e29f6-a9c8-45da-8b3d-b05e66f31b03",
        "colab": {
          "base_uri": "https://localhost:8080/",
          "height": 1000
        }
      },
      "source": [
        "graph_insight(train)\n",
        "for col in ('date_block_num', 'item_id', 'shop_id', 'item_cnt_day', 'item_price'):\n",
        "    print(col)\n",
        "    distribution_insight(train, col)"
      ],
      "execution_count": 6,
      "outputs": [
        {
          "output_type": "stream",
          "text": [
            "{dtype('float64'), dtype('int64'), dtype('O')}\n",
            "date_block_num\n",
            "===================================\n",
            "Min Value: 0\n",
            "Max Value: 33\n",
            "Average Value: 14.569912628161656\n",
            "Center Point of Data (median): 14.0\n",
            "===================================\n",
            "item_id\n",
            "===================================\n",
            "Min Value: 0\n",
            "Max Value: 22169\n",
            "Average Value: 10197.229012927462\n",
            "Center Point of Data (median): 9343.0\n",
            "===================================\n",
            "shop_id\n",
            "===================================\n",
            "Min Value: 0\n",
            "Max Value: 59\n",
            "Average Value: 33.001713306876425\n",
            "Center Point of Data (median): 31.0\n",
            "===================================\n",
            "item_cnt_day\n",
            "===================================\n",
            "Min Value: -22.0\n",
            "Max Value: 2169.0\n",
            "Average Value: 1.2426413810275276\n",
            "Center Point of Data (median): 1.0\n",
            "===================================\n",
            "item_price\n",
            "===================================\n",
            "Min Value: -1.0\n",
            "Max Value: 307980.0\n",
            "Average Value: 890.8534715116427\n",
            "Center Point of Data (median): 399.0\n",
            "===================================\n"
          ],
          "name": "stdout"
        },
        {
          "output_type": "display_data",
          "data": {
            "image/png": "[encoded data removed]",
            "text/plain": [
              "<Figure size 1152x1152 with 6 Axes>"
            ]
          },
          "metadata": {
            "tags": [],
            "needs_background": "light"
          }
        }
      ]
    },
    {
      "cell_type": "markdown",
      "metadata": {
        "id": "j3Ftr_Bi41ad",
        "colab_type": "text"
      },
      "source": [
        "## Data cleaning \n",
        "Dealing with outlier, fill out those empty values, etc. \n",
        "\n",
        "There are negative `item_cnt_day` and negative `item_price`, this can not be right. \n",
        "\n",
        "Let's deal with negative `item_price` first. "
      ]
    },
    {
      "cell_type": "code",
      "metadata": {
        "id": "ISy5Xf7u2UwV",
        "colab_type": "code",
        "outputId": "afa55564-c52d-433d-d0ec-80f74efcea15",
        "colab": {
          "base_uri": "https://localhost:8080/",
          "height": 351
        }
      },
      "source": [
        "plt.figure(figsize=(24, 5))\n",
        "sns.boxplot(train['item_price'])\n",
        "train[train.item_price <= 0]"
      ],
      "execution_count": 7,
      "outputs": [
        {
          "output_type": "execute_result",
          "data": {
            "text/html": [
              "<div>\n",
              "<style scoped>\n",
              "    .dataframe tbody tr th:only-of-type {\n",
              "        vertical-align: middle;\n",
              "    }\n",
              "\n",
              "    .dataframe tbody tr th {\n",
              "        vertical-align: top;\n",
              "    }\n",
              "\n",
              "    .dataframe thead th {\n",
              "        text-align: right;\n",
              "    }\n",
              "</style>\n",
              "<table border=\"1\" class=\"dataframe\">\n",
              "  <thead>\n",
              "    <tr style=\"text-align: right;\">\n",
              "      <th></th>\n",
              "      <th>date</th>\n",
              "      <th>date_block_num</th>\n",
              "      <th>shop_id</th>\n",
              "      <th>item_id</th>\n",
              "      <th>item_price</th>\n",
              "      <th>item_cnt_day</th>\n",
              "    </tr>\n",
              "  </thead>\n",
              "  <tbody>\n",
              "    <tr>\n",
              "      <th>484682</th>\n",
              "      <td>15.05.2013</td>\n",
              "      <td>4</td>\n",
              "      <td>32</td>\n",
              "      <td>2973</td>\n",
              "      <td>-1.0</td>\n",
              "      <td>1.0</td>\n",
              "    </tr>\n",
              "  </tbody>\n",
              "</table>\n",
              "</div>"
            ],
            "text/plain": [
              "              date  date_block_num  shop_id  item_id  item_price  item_cnt_day\n",
              "484682  15.05.2013               4       32     2973        -1.0           1.0"
            ]
          },
          "metadata": {
            "tags": []
          },
          "execution_count": 7
        },
        {
          "output_type": "display_data",
          "data": {
            "image/png": "[encoded data removed]",
            "text/plain": [
              "<Figure size 1728x360 with 1 Axes>"
            ]
          },
          "metadata": {
            "tags": [],
            "needs_background": "light"
          }
        }
      ]
    },
    {
      "cell_type": "markdown",
      "metadata": {
        "id": "ANkBMp735Zy-",
        "colab_type": "text"
      },
      "source": [
        "There is one row with -1.0 `item_price`, and its `item_id` is 2973. \n",
        "\n",
        "By filtering on the samee `item_id` and `date_block_num` (same month): `train[(train.item_id == 2973) & (train.date_block_num == 4)]`, we found that most price during this month is `1249`. So we're going to replace it with `1249`. \n",
        "\n",
        "Also, there is an outlier with very large `item_price`: 307980, we simply remove it from dataset"
      ]
    },
    {
      "cell_type": "code",
      "metadata": {
        "id": "3QPDtxdN5m1c",
        "colab_type": "code",
        "outputId": "59d3ac26-1064-4b7c-8d8e-1e5382f57211",
        "colab": {
          "base_uri": "https://localhost:8080/",
          "height": 49
        }
      },
      "source": [
        "train.loc[train.item_price < 0, 'item_price'] = 1249\n",
        "\n",
        "train = train[train.item_price < 100_000]\n",
        "train[train.item_price >= 100_000]"
      ],
      "execution_count": 8,
      "outputs": [
        {
          "output_type": "execute_result",
          "data": {
            "text/html": [
              "<div>\n",
              "<style scoped>\n",
              "    .dataframe tbody tr th:only-of-type {\n",
              "        vertical-align: middle;\n",
              "    }\n",
              "\n",
              "    .dataframe tbody tr th {\n",
              "        vertical-align: top;\n",
              "    }\n",
              "\n",
              "    .dataframe thead th {\n",
              "        text-align: right;\n",
              "    }\n",
              "</style>\n",
              "<table border=\"1\" class=\"dataframe\">\n",
              "  <thead>\n",
              "    <tr style=\"text-align: right;\">\n",
              "      <th></th>\n",
              "      <th>date</th>\n",
              "      <th>date_block_num</th>\n",
              "      <th>shop_id</th>\n",
              "      <th>item_id</th>\n",
              "      <th>item_price</th>\n",
              "      <th>item_cnt_day</th>\n",
              "    </tr>\n",
              "  </thead>\n",
              "  <tbody>\n",
              "  </tbody>\n",
              "</table>\n",
              "</div>"
            ],
            "text/plain": [
              "Empty DataFrame\n",
              "Columns: [date, date_block_num, shop_id, item_id, item_price, item_cnt_day]\n",
              "Index: []"
            ]
          },
          "metadata": {
            "tags": []
          },
          "execution_count": 8
        }
      ]
    },
    {
      "cell_type": "markdown",
      "metadata": {
        "id": "748Pifxz7ypR",
        "colab_type": "text"
      },
      "source": [
        "We're done with the `item_price` feature, now we need to fix `item_cnt_day`. \n",
        "\n",
        "This problem is a little bit more serious, since we got 7356 rows with negative `item_cnt_day`. Most of them has `-1` as the value. Potential strategies:\n",
        "1. replace each negative value by its absolution value (maybe caused by writing mistakes)\n",
        "2. remove them \n",
        "3. replace with most frequent `item_cn_day` with same `item_id`\n",
        "\n",
        "For simplity, we remove those rows."
      ]
    },
    {
      "cell_type": "code",
      "metadata": {
        "id": "0sZozB2N78im",
        "colab_type": "code",
        "colab": {}
      },
      "source": [
        "train[train.item_cnt_day < 0].shop_id.value_counts()\n",
        "# train[(train.item_cnt_day < 0) & (train.shop_id == 25)]\n",
        "train[(train.date_block_num == 1) & (train.shop_id == 12)].item_cnt_day.value_counts()\n",
        "train = train[train.item_cnt_day >= 0]"
      ],
      "execution_count": 0,
      "outputs": []
    },
    {
      "cell_type": "markdown",
      "metadata": {
        "id": "eKAe9b--AqIG",
        "colab_type": "text"
      },
      "source": [
        "Some Russian speakers found mislabel on shop ids.\n",
        "So we correct them in train and test set."
      ]
    },
    {
      "cell_type": "code",
      "metadata": {
        "id": "8oj0SUW9AgeT",
        "colab_type": "code",
        "colab": {}
      },
      "source": [
        "# Якутск Орджоникидзе, 56\n",
        "train.loc[train.shop_id == 0, 'shop_id'] = 57\n",
        "test.loc[test.shop_id == 0, 'shop_id'] = 57\n",
        "# Якутск ТЦ \"Центральный\"\n",
        "train.loc[train.shop_id == 1, 'shop_id'] = 58\n",
        "test.loc[test.shop_id == 1, 'shop_id'] = 58\n",
        "# Жуковский ул. Чкалова 39м²\n",
        "train.loc[train.shop_id == 11, 'shop_id'] = 10\n",
        "test.loc[test.shop_id == 11, 'shop_id'] = 10\n",
        "# РостовНаДону ТРК \"Мегацентр Горизонт\" Островной\n",
        "train.loc[train.shop_id == 40, 'shop_id'] = 39\n",
        "test.loc[test.shop_id == 40, 'shop_id'] = 39"
      ],
      "execution_count": 0,
      "outputs": []
    },
    {
      "cell_type": "markdown",
      "metadata": {
        "id": "VJV4HZGC_xcl",
        "colab_type": "text"
      },
      "source": [
        "Now we're done with data cleaning, the next step is tailoring (is this a word) our data so we can build a model and run on it.\n",
        "\n",
        "# Data manipulating"
      ]
    },
    {
      "cell_type": "code",
      "metadata": {
        "id": "Fwz3wZzzAOaQ",
        "colab_type": "code",
        "colab": {}
      },
      "source": [
        "items = pd.read_csv('data/items.csv')\n",
        "shops = pd.read_csv('data/shops.csv')\n",
        "cats  = pd.read_csv('data/item_categories.csv')\n",
        "test  = pd.read_csv('data/test.csv').set_index('ID')"
      ],
      "execution_count": 0,
      "outputs": []
    },
    {
      "cell_type": "markdown",
      "metadata": {
        "id": "1umAS3p9B-qr",
        "colab_type": "text"
      },
      "source": [
        "Observations (by some Russian speakers):\n",
        "\n",
        "1. Each shop_name starts with the city name.\n",
        "2. Each category contains type and subtype in its name.\n",
        "\n",
        "The following codes deal with \n",
        "1. `shop_name` (in Russian) from dataset `shops` by extracting the city name from it and label encoding it to numbers\n",
        "2. `item_category_name` from dataset `cats` by spliting it into `main_type` and `sub_type` and label encoding them\n",
        "3. dropping `item_name` from dataset `items`"
      ]
    },
    {
      "cell_type": "code",
      "metadata": {
        "id": "j0j7jul2CZqi",
        "colab_type": "code",
        "outputId": "f62f7dfe-8681-4532-fb16-b5922cbaa5ce",
        "colab": {
          "base_uri": "https://localhost:8080/",
          "height": 204
        }
      },
      "source": [
        "shops.head()"
      ],
      "execution_count": 11,
      "outputs": [
        {
          "output_type": "execute_result",
          "data": {
            "text/html": [
              "<div>\n",
              "<style scoped>\n",
              "    .dataframe tbody tr th:only-of-type {\n",
              "        vertical-align: middle;\n",
              "    }\n",
              "\n",
              "    .dataframe tbody tr th {\n",
              "        vertical-align: top;\n",
              "    }\n",
              "\n",
              "    .dataframe thead th {\n",
              "        text-align: right;\n",
              "    }\n",
              "</style>\n",
              "<table border=\"1\" class=\"dataframe\">\n",
              "  <thead>\n",
              "    <tr style=\"text-align: right;\">\n",
              "      <th></th>\n",
              "      <th>shop_name</th>\n",
              "      <th>shop_id</th>\n",
              "    </tr>\n",
              "  </thead>\n",
              "  <tbody>\n",
              "    <tr>\n",
              "      <th>0</th>\n",
              "      <td>!Якутск Орджоникидзе, 56 фран</td>\n",
              "      <td>0</td>\n",
              "    </tr>\n",
              "    <tr>\n",
              "      <th>1</th>\n",
              "      <td>!Якутск ТЦ \"Центральный\" фран</td>\n",
              "      <td>1</td>\n",
              "    </tr>\n",
              "    <tr>\n",
              "      <th>2</th>\n",
              "      <td>Адыгея ТЦ \"Мега\"</td>\n",
              "      <td>2</td>\n",
              "    </tr>\n",
              "    <tr>\n",
              "      <th>3</th>\n",
              "      <td>Балашиха ТРК \"Октябрь-Киномир\"</td>\n",
              "      <td>3</td>\n",
              "    </tr>\n",
              "    <tr>\n",
              "      <th>4</th>\n",
              "      <td>Волжский ТЦ \"Волга Молл\"</td>\n",
              "      <td>4</td>\n",
              "    </tr>\n",
              "  </tbody>\n",
              "</table>\n",
              "</div>"
            ],
            "text/plain": [
              "                        shop_name  shop_id\n",
              "0   !Якутск Орджоникидзе, 56 фран        0\n",
              "1   !Якутск ТЦ \"Центральный\" фран        1\n",
              "2                Адыгея ТЦ \"Мега\"        2\n",
              "3  Балашиха ТРК \"Октябрь-Киномир\"        3\n",
              "4        Волжский ТЦ \"Волга Молл\"        4"
            ]
          },
          "metadata": {
            "tags": []
          },
          "execution_count": 11
        }
      ]
    },
    {
      "cell_type": "code",
      "metadata": {
        "id": "ohAIXf-rCftq",
        "colab_type": "code",
        "outputId": "7f63daed-4c61-4445-a7a3-35534d9b8613",
        "colab": {
          "base_uri": "https://localhost:8080/",
          "height": 204
        }
      },
      "source": [
        "cats.head()"
      ],
      "execution_count": 12,
      "outputs": [
        {
          "output_type": "execute_result",
          "data": {
            "text/html": [
              "<div>\n",
              "<style scoped>\n",
              "    .dataframe tbody tr th:only-of-type {\n",
              "        vertical-align: middle;\n",
              "    }\n",
              "\n",
              "    .dataframe tbody tr th {\n",
              "        vertical-align: top;\n",
              "    }\n",
              "\n",
              "    .dataframe thead th {\n",
              "        text-align: right;\n",
              "    }\n",
              "</style>\n",
              "<table border=\"1\" class=\"dataframe\">\n",
              "  <thead>\n",
              "    <tr style=\"text-align: right;\">\n",
              "      <th></th>\n",
              "      <th>item_category_name</th>\n",
              "      <th>item_category_id</th>\n",
              "    </tr>\n",
              "  </thead>\n",
              "  <tbody>\n",
              "    <tr>\n",
              "      <th>0</th>\n",
              "      <td>PC - Гарнитуры/Наушники</td>\n",
              "      <td>0</td>\n",
              "    </tr>\n",
              "    <tr>\n",
              "      <th>1</th>\n",
              "      <td>Аксессуары - PS2</td>\n",
              "      <td>1</td>\n",
              "    </tr>\n",
              "    <tr>\n",
              "      <th>2</th>\n",
              "      <td>Аксессуары - PS3</td>\n",
              "      <td>2</td>\n",
              "    </tr>\n",
              "    <tr>\n",
              "      <th>3</th>\n",
              "      <td>Аксессуары - PS4</td>\n",
              "      <td>3</td>\n",
              "    </tr>\n",
              "    <tr>\n",
              "      <th>4</th>\n",
              "      <td>Аксессуары - PSP</td>\n",
              "      <td>4</td>\n",
              "    </tr>\n",
              "  </tbody>\n",
              "</table>\n",
              "</div>"
            ],
            "text/plain": [
              "        item_category_name  item_category_id\n",
              "0  PC - Гарнитуры/Наушники                 0\n",
              "1         Аксессуары - PS2                 1\n",
              "2         Аксессуары - PS3                 2\n",
              "3         Аксессуары - PS4                 3\n",
              "4         Аксессуары - PSP                 4"
            ]
          },
          "metadata": {
            "tags": []
          },
          "execution_count": 12
        }
      ]
    },
    {
      "cell_type": "code",
      "metadata": {
        "id": "ntvIYsjOCryV",
        "colab_type": "code",
        "outputId": "5f305524-5d96-40f4-cc82-7f9e3d6edd1c",
        "colab": {
          "base_uri": "https://localhost:8080/",
          "height": 204
        }
      },
      "source": [
        "items.head()"
      ],
      "execution_count": 13,
      "outputs": [
        {
          "output_type": "execute_result",
          "data": {
            "text/html": [
              "<div>\n",
              "<style scoped>\n",
              "    .dataframe tbody tr th:only-of-type {\n",
              "        vertical-align: middle;\n",
              "    }\n",
              "\n",
              "    .dataframe tbody tr th {\n",
              "        vertical-align: top;\n",
              "    }\n",
              "\n",
              "    .dataframe thead th {\n",
              "        text-align: right;\n",
              "    }\n",
              "</style>\n",
              "<table border=\"1\" class=\"dataframe\">\n",
              "  <thead>\n",
              "    <tr style=\"text-align: right;\">\n",
              "      <th></th>\n",
              "      <th>item_name</th>\n",
              "      <th>item_id</th>\n",
              "      <th>item_category_id</th>\n",
              "    </tr>\n",
              "  </thead>\n",
              "  <tbody>\n",
              "    <tr>\n",
              "      <th>0</th>\n",
              "      <td>! ВО ВЛАСТИ НАВАЖДЕНИЯ (ПЛАСТ.)         D</td>\n",
              "      <td>0</td>\n",
              "      <td>40</td>\n",
              "    </tr>\n",
              "    <tr>\n",
              "      <th>1</th>\n",
              "      <td>!ABBYY FineReader 12 Professional Edition Full...</td>\n",
              "      <td>1</td>\n",
              "      <td>76</td>\n",
              "    </tr>\n",
              "    <tr>\n",
              "      <th>2</th>\n",
              "      <td>***В ЛУЧАХ СЛАВЫ   (UNV)                    D</td>\n",
              "      <td>2</td>\n",
              "      <td>40</td>\n",
              "    </tr>\n",
              "    <tr>\n",
              "      <th>3</th>\n",
              "      <td>***ГОЛУБАЯ ВОЛНА  (Univ)                      D</td>\n",
              "      <td>3</td>\n",
              "      <td>40</td>\n",
              "    </tr>\n",
              "    <tr>\n",
              "      <th>4</th>\n",
              "      <td>***КОРОБКА (СТЕКЛО)                       D</td>\n",
              "      <td>4</td>\n",
              "      <td>40</td>\n",
              "    </tr>\n",
              "  </tbody>\n",
              "</table>\n",
              "</div>"
            ],
            "text/plain": [
              "                                           item_name  item_id  \\\n",
              "0          ! ВО ВЛАСТИ НАВАЖДЕНИЯ (ПЛАСТ.)         D        0   \n",
              "1  !ABBYY FineReader 12 Professional Edition Full...        1   \n",
              "2      ***В ЛУЧАХ СЛАВЫ   (UNV)                    D        2   \n",
              "3    ***ГОЛУБАЯ ВОЛНА  (Univ)                      D        3   \n",
              "4        ***КОРОБКА (СТЕКЛО)                       D        4   \n",
              "\n",
              "   item_category_id  \n",
              "0                40  \n",
              "1                76  \n",
              "2                40  \n",
              "3                40  \n",
              "4                40  "
            ]
          },
          "metadata": {
            "tags": []
          },
          "execution_count": 13
        }
      ]
    },
    {
      "cell_type": "markdown",
      "metadata": {
        "id": "_B5WDlSVBePW",
        "colab_type": "text"
      },
      "source": [
        "Categorize shop names"
      ]
    },
    {
      "cell_type": "code",
      "metadata": {
        "id": "Y_kZ_G0VB66T",
        "colab_type": "code",
        "colab": {
          "base_uri": "https://localhost:8080/",
          "height": 204
        },
        "outputId": "6bf1f700-f338-4b9d-86d7-533af42616e4"
      },
      "source": [
        "shops_df = shops \n",
        "shops_df.loc[shops.shop_name == 'Сергиев Посад ТЦ \"7Я\"', 'shop_name'] = 'СергиевПосад ТЦ \"7Я\"'\n",
        "\n",
        "shops_df['city'] = shops['shop_name'].str.split(' ').map(lambda x: x[0])\n",
        "shops_df['category'] = shops['shop_name'].str.split(' ').map(lambda x: x[1]).astype(str)\n",
        "shops_df.loc[shops_df.city == '!Якутск', 'city'] = 'Якутск'\n",
        "\n",
        "top_cats = ['ТЦ', 'ТРК', 'ТРЦ', 'ТК']\n",
        "shops_df['category'] = shops_df.category.apply(lambda x: x if x in top_cats else 'etc')\n",
        "\n",
        "shops_df['shop_city'] = sklearn.preprocessing.LabelEncoder().fit_transform(shops_df['city'])\n",
        "shops_df['shop_category'] = sklearn.preprocessing.LabelEncoder().fit_transform(shops_df['category'])\n",
        "shops_df = shops_df[['shop_id','shop_city', 'shop_category']]\n",
        "\n",
        "shops_df.head()"
      ],
      "execution_count": 25,
      "outputs": [
        {
          "output_type": "execute_result",
          "data": {
            "text/html": [
              "<div>\n",
              "<style scoped>\n",
              "    .dataframe tbody tr th:only-of-type {\n",
              "        vertical-align: middle;\n",
              "    }\n",
              "\n",
              "    .dataframe tbody tr th {\n",
              "        vertical-align: top;\n",
              "    }\n",
              "\n",
              "    .dataframe thead th {\n",
              "        text-align: right;\n",
              "    }\n",
              "</style>\n",
              "<table border=\"1\" class=\"dataframe\">\n",
              "  <thead>\n",
              "    <tr style=\"text-align: right;\">\n",
              "      <th></th>\n",
              "      <th>shop_id</th>\n",
              "      <th>shop_city</th>\n",
              "      <th>shop_category</th>\n",
              "    </tr>\n",
              "  </thead>\n",
              "  <tbody>\n",
              "    <tr>\n",
              "      <th>0</th>\n",
              "      <td>0</td>\n",
              "      <td>29</td>\n",
              "      <td>0</td>\n",
              "    </tr>\n",
              "    <tr>\n",
              "      <th>1</th>\n",
              "      <td>1</td>\n",
              "      <td>29</td>\n",
              "      <td>4</td>\n",
              "    </tr>\n",
              "    <tr>\n",
              "      <th>2</th>\n",
              "      <td>2</td>\n",
              "      <td>0</td>\n",
              "      <td>4</td>\n",
              "    </tr>\n",
              "    <tr>\n",
              "      <th>3</th>\n",
              "      <td>3</td>\n",
              "      <td>1</td>\n",
              "      <td>2</td>\n",
              "    </tr>\n",
              "    <tr>\n",
              "      <th>4</th>\n",
              "      <td>4</td>\n",
              "      <td>2</td>\n",
              "      <td>4</td>\n",
              "    </tr>\n",
              "  </tbody>\n",
              "</table>\n",
              "</div>"
            ],
            "text/plain": [
              "   shop_id  shop_city  shop_category\n",
              "0        0         29              0\n",
              "1        1         29              4\n",
              "2        2          0              4\n",
              "3        3          1              2\n",
              "4        4          2              4"
            ]
          },
          "metadata": {
            "tags": []
          },
          "execution_count": 25
        }
      ]
    },
    {
      "cell_type": "markdown",
      "metadata": {
        "id": "af4TgKplFHx1",
        "colab_type": "text"
      },
      "source": [
        "Categorize cats info"
      ]
    },
    {
      "cell_type": "code",
      "metadata": {
        "id": "sU15CZ14EB3D",
        "colab_type": "code",
        "outputId": "ca8b3bc3-9a60-4c05-feb7-31f5f9c8d8c4",
        "colab": {
          "base_uri": "https://localhost:8080/",
          "height": 204
        }
      },
      "source": [
        "cats_df = cats \n",
        "cats_df['type_code'] = cats_df.item_category_name.apply(lambda x: x.split(' ')[0]).astype(str)\n",
        "# Fuse some item_category_name \n",
        "cats_df.loc[(cats_df.type_code == 'Игровые') | (cats_df.type_code == 'Аксессуары'), 'type_code'] = 'Игры'\n",
        "cats_df.loc[cats_df.type_code == 'PC', 'type_code'] = 'Музыка'\n",
        "\n",
        "top_type_codes = set(['Игры', 'Карты', 'Кино', 'Книги','Музыка', 'Подарки', 'Программы', 'Служебные', 'Чистые'])\n",
        "cats_df['type_code'] = cats_df.type_code.apply(lambda t: t if t in top_type_codes else 'etc')\n",
        "cats_df['type_code'] = sklearn.preprocessing.LabelEncoder().fit_transform(cats_df['type_code'])\n",
        "\n",
        "## Labelencoder item_category_name (sub category) to subtype_code\n",
        "cats_df['split'] = cats_df.item_category_name.apply(lambda x: x.split('-'))\n",
        "cats_df['subtype'] = cats_df['split'].map(lambda x: x[1].strip() if len(x) > 1 else x[0].strip())\n",
        "cats_df['subtype_code'] = sklearn.preprocessing.LabelEncoder().fit_transform(cats_df['subtype'])\n",
        "\n",
        "cats_df = cats_df[['item_category_id','type_code', 'subtype_code']]\n",
        "cats_df.head()\n",
        "# cats_df.type_code.value_counts()"
      ],
      "execution_count": 34,
      "outputs": [
        {
          "output_type": "execute_result",
          "data": {
            "text/html": [
              "<div>\n",
              "<style scoped>\n",
              "    .dataframe tbody tr th:only-of-type {\n",
              "        vertical-align: middle;\n",
              "    }\n",
              "\n",
              "    .dataframe tbody tr th {\n",
              "        vertical-align: top;\n",
              "    }\n",
              "\n",
              "    .dataframe thead th {\n",
              "        text-align: right;\n",
              "    }\n",
              "</style>\n",
              "<table border=\"1\" class=\"dataframe\">\n",
              "  <thead>\n",
              "    <tr style=\"text-align: right;\">\n",
              "      <th></th>\n",
              "      <th>item_category_id</th>\n",
              "      <th>type_code</th>\n",
              "      <th>subtype_code</th>\n",
              "    </tr>\n",
              "  </thead>\n",
              "  <tbody>\n",
              "    <tr>\n",
              "      <th>0</th>\n",
              "      <td>0</td>\n",
              "      <td>5</td>\n",
              "      <td>29</td>\n",
              "    </tr>\n",
              "    <tr>\n",
              "      <th>1</th>\n",
              "      <td>1</td>\n",
              "      <td>1</td>\n",
              "      <td>9</td>\n",
              "    </tr>\n",
              "    <tr>\n",
              "      <th>2</th>\n",
              "      <td>2</td>\n",
              "      <td>1</td>\n",
              "      <td>10</td>\n",
              "    </tr>\n",
              "    <tr>\n",
              "      <th>3</th>\n",
              "      <td>3</td>\n",
              "      <td>1</td>\n",
              "      <td>11</td>\n",
              "    </tr>\n",
              "    <tr>\n",
              "      <th>4</th>\n",
              "      <td>4</td>\n",
              "      <td>1</td>\n",
              "      <td>13</td>\n",
              "    </tr>\n",
              "  </tbody>\n",
              "</table>\n",
              "</div>"
            ],
            "text/plain": [
              "   item_category_id  type_code  subtype_code\n",
              "0                 0          5            29\n",
              "1                 1          1             9\n",
              "2                 2          1            10\n",
              "3                 3          1            11\n",
              "4                 4          1            13"
            ]
          },
          "metadata": {
            "tags": []
          },
          "execution_count": 34
        }
      ]
    },
    {
      "cell_type": "markdown",
      "metadata": {
        "id": "aYlCyKTJHrOe",
        "colab_type": "text"
      },
      "source": [
        "Categorize item info"
      ]
    },
    {
      "cell_type": "code",
      "metadata": {
        "id": "7zCwvAzZHtJh",
        "colab_type": "code",
        "colab": {
          "base_uri": "https://localhost:8080/",
          "height": 309
        },
        "outputId": "3c01d4e9-c02d-476d-8d84-6fcd481f765b"
      },
      "source": [
        "import collections\n",
        "import operator \n",
        "\n",
        "items_df = items\n",
        "items_df['item_name'] = items_df.item_name.str.strip() # removing leading / trailing whitespaces, essential for later steps\n",
        "\n",
        "items_df['name_1'], items_df['name_2'] = items_df['item_name'].str.split('[', 1).str\n",
        "items_df['name_1'], items_df['name_3'] = items_df['item_name'].str.split('(', 1).str\n",
        "\n",
        "# Replace non-alphabatic symbols by ' '\n",
        "items_df['name_2'] = items_df['name_2'].str.replace('[^A-Za-z0-9А-Яа-я]+', ' ').str.lower().str.strip()\n",
        "items_df['name_3'] = items_df['name_3'].str.replace('[^A-Za-z0-9А-Яа-я]+', ' ').str.lower().str.strip()\n",
        "items_df.fillna('0', inplace=True)\n",
        "items_df.loc[items_df.name_2 == '', 'name_2'] = '0' # two of those '' can not be filled by '0', weird\n",
        "\n",
        "# Experiments ?\n",
        "# cnt = collections.Counter(' '.join(items_df['name_2'].values.tolist()).split(' ')).items()\n",
        "# cnt = sorted(cnt, key=operator.itemgetter(1))\n",
        "# items_df.sample(10)\n",
        "# cnt\n",
        "\n",
        "items_df['type'] = items_df.name_2.apply(lambda x: x[0:8] if x.split(' ')[0] == 'xbox' else x.split(' ')[0])\n",
        "items_df.loc[(items_df.type == 'x360') | (items_df.type == 'xbox360'), 'type'] = 'xbox 360'\n",
        "items_df.loc[items_df.type == 'рs3', 'type'] = 'ps3' # beware, 'рs3' is not English string 'ps3'\n",
        "items_df.loc[(items_df.type == 'pс') | (items_df.type == 'рс'), 'type'] = 'pc' \n",
        "\n",
        "\n",
        "items_df[items_df.name_2 == '']\n",
        "# items_df[(items_df.name_2.str.contains('pc цифровая версия'))].sample(10)\n",
        "droplists = set([k for k, v in items_df.type.value_counts().items() if v < 20])\n",
        "droplists\n",
        "# \n",
        "# Replece low frequence item type by other in name_2\n",
        "items_df['name_2'] = items.type.apply(lambda n: 'other' if n in droplists else n)\n",
        "# items_df['name_2'] = sklearn.preprocessing.LabelEncoder().fit_transform(items_df.name_2)\n",
        "items_df.name_3.value_counts()\n",
        "# type_cnt = items_df.groupby('type').sum()\n",
        "# type_cnt\n",
        "\n",
        "# drop_list = type_cnt.loc[type_cnt.item_category_id < 200].index\n",
        "# drop_list\n",
        "\n",
        "# items_df"
      ],
      "execution_count": 152,
      "outputs": [
        {
          "output_type": "stream",
          "text": [
            "/usr/local/lib/python3.6/dist-packages/ipykernel_launcher.py:7: FutureWarning: Columnar iteration over characters will be deprecated in future releases.\n",
            "  import sys\n",
            "/usr/local/lib/python3.6/dist-packages/ipykernel_launcher.py:8: FutureWarning: Columnar iteration over characters will be deprecated in future releases.\n",
            "  \n"
          ],
          "name": "stderr"
        },
        {
          "output_type": "execute_result",
          "data": {
            "text/plain": [
              "0                                                      12854\n",
              "регион                                                  1731\n",
              "bd                                                      1644\n",
              "фирм                                                     753\n",
              "mp3 cd jewel                                             476\n",
              "                                                       ...  \n",
              "3 е издание pc цифровая версия                             1\n",
              "сб м ф регион                                              1\n",
              "120 gb black rus cech 2008a                                1\n",
              "30см                                                       1\n",
              "mag ii gun controller all interactive entertainment        1\n",
              "Name: name_3, Length: 1658, dtype: int64"
            ]
          },
          "metadata": {
            "tags": []
          },
          "execution_count": 152
        }
      ]
    },
    {
      "cell_type": "code",
      "metadata": {
        "id": "PEo3nABCjeNN",
        "colab_type": "code",
        "colab": {
          "base_uri": "https://localhost:8080/",
          "height": 1000
        },
        "outputId": "34796a2f-83ca-4a08-dbdc-b39caf0ea5a9"
      },
      "source": [
        "items_df.type.value_counts()\n",
        "items_df[items_df.type == 'mac']"
      ],
      "execution_count": 142,
      "outputs": [
        {
          "output_type": "execute_result",
          "data": {
            "text/html": [
              "<div>\n",
              "<style scoped>\n",
              "    .dataframe tbody tr th:only-of-type {\n",
              "        vertical-align: middle;\n",
              "    }\n",
              "\n",
              "    .dataframe tbody tr th {\n",
              "        vertical-align: top;\n",
              "    }\n",
              "\n",
              "    .dataframe thead th {\n",
              "        text-align: right;\n",
              "    }\n",
              "</style>\n",
              "<table border=\"1\" class=\"dataframe\">\n",
              "  <thead>\n",
              "    <tr style=\"text-align: right;\">\n",
              "      <th></th>\n",
              "      <th>item_name</th>\n",
              "      <th>item_id</th>\n",
              "      <th>item_category_id</th>\n",
              "      <th>name_1</th>\n",
              "      <th>name_2</th>\n",
              "      <th>name_3</th>\n",
              "      <th>type</th>\n",
              "    </tr>\n",
              "  </thead>\n",
              "  <tbody>\n",
              "    <tr>\n",
              "      <th>1159</th>\n",
              "      <td>ABBYY FineReader Pro для Mac Full (версия для ...</td>\n",
              "      <td>1159</td>\n",
              "      <td>74</td>\n",
              "      <td>ABBYY FineReader Pro для Mac Full</td>\n",
              "      <td>mac цифровая версия</td>\n",
              "      <td>версия для скачивания mac цифровая версия</td>\n",
              "      <td>mac</td>\n",
              "    </tr>\n",
              "    <tr>\n",
              "      <th>1160</th>\n",
              "      <td>ABBYY Lingvo for Mac (ABBYY) [MAC, Цифровая ве...</td>\n",
              "      <td>1160</td>\n",
              "      <td>76</td>\n",
              "      <td>ABBYY Lingvo for Mac</td>\n",
              "      <td>mac цифровая версия</td>\n",
              "      <td>abbyy mac цифровая версия</td>\n",
              "      <td>mac</td>\n",
              "    </tr>\n",
              "    <tr>\n",
              "      <th>2065</th>\n",
              "      <td>Brothers in Arms: Double Time [MAC, Цифровая в...</td>\n",
              "      <td>2065</td>\n",
              "      <td>27</td>\n",
              "      <td>Brothers in Arms: Double Time [MAC, Цифровая в...</td>\n",
              "      <td>mac цифровая версия</td>\n",
              "      <td>0</td>\n",
              "      <td>mac</td>\n",
              "    </tr>\n",
              "    <tr>\n",
              "      <th>3638</th>\n",
              "      <td>GRID [MAC, Цифровая версия]</td>\n",
              "      <td>3638</td>\n",
              "      <td>27</td>\n",
              "      <td>GRID [MAC, Цифровая версия]</td>\n",
              "      <td>mac цифровая версия</td>\n",
              "      <td>0</td>\n",
              "      <td>mac</td>\n",
              "    </tr>\n",
              "    <tr>\n",
              "      <th>3872</th>\n",
              "      <td>Hitman Absolution. Elite Edition [MAC, Цифрова...</td>\n",
              "      <td>3872</td>\n",
              "      <td>27</td>\n",
              "      <td>Hitman Absolution. Elite Edition [MAC, Цифрова...</td>\n",
              "      <td>mac цифровая версия</td>\n",
              "      <td>0</td>\n",
              "      <td>mac</td>\n",
              "    </tr>\n",
              "    <tr>\n",
              "      <th>4206</th>\n",
              "      <td>Kaspersky Internet Security для Mac 14 Russian...</td>\n",
              "      <td>4206</td>\n",
              "      <td>76</td>\n",
              "      <td>Kaspersky Internet Security для Mac 14 Russian...</td>\n",
              "      <td>mac цифровая версия</td>\n",
              "      <td>0</td>\n",
              "      <td>mac</td>\n",
              "    </tr>\n",
              "    <tr>\n",
              "      <th>4207</th>\n",
              "      <td>Kaspersky Internet Security для Mac 14 Russian...</td>\n",
              "      <td>4207</td>\n",
              "      <td>74</td>\n",
              "      <td>Kaspersky Internet Security для Mac 14 Russian...</td>\n",
              "      <td>mac цифровая версия</td>\n",
              "      <td>0</td>\n",
              "      <td>mac</td>\n",
              "    </tr>\n",
              "    <tr>\n",
              "      <th>4208</th>\n",
              "      <td>Kaspersky Internet Security для Mac 14 Russian...</td>\n",
              "      <td>4208</td>\n",
              "      <td>74</td>\n",
              "      <td>Kaspersky Internet Security для Mac 14 Russian...</td>\n",
              "      <td>mac цифровая версия</td>\n",
              "      <td>0</td>\n",
              "      <td>mac</td>\n",
              "    </tr>\n",
              "    <tr>\n",
              "      <th>4729</th>\n",
              "      <td>Mafia II: Director’s Cut [MAC, Цифровая версия]</td>\n",
              "      <td>4729</td>\n",
              "      <td>27</td>\n",
              "      <td>Mafia II: Director’s Cut [MAC, Цифровая версия]</td>\n",
              "      <td>mac цифровая версия</td>\n",
              "      <td>0</td>\n",
              "      <td>mac</td>\n",
              "    </tr>\n",
              "    <tr>\n",
              "      <th>4931</th>\n",
              "      <td>Movavi Screen Capture для Mac Персональная вер...</td>\n",
              "      <td>4931</td>\n",
              "      <td>74</td>\n",
              "      <td>Movavi Screen Capture для Mac Персональная вер...</td>\n",
              "      <td>mac цифровая версия</td>\n",
              "      <td>0</td>\n",
              "      <td>mac</td>\n",
              "    </tr>\n",
              "    <tr>\n",
              "      <th>4950</th>\n",
              "      <td>Movavi Видео Конвертер Mac OS. Персональная ли...</td>\n",
              "      <td>4950</td>\n",
              "      <td>76</td>\n",
              "      <td>Movavi Видео Конвертер Mac OS. Персональная ли...</td>\n",
              "      <td>mac цифровая версия</td>\n",
              "      <td>0</td>\n",
              "      <td>mac</td>\n",
              "    </tr>\n",
              "    <tr>\n",
              "      <th>4953</th>\n",
              "      <td>Movavi Видео Конвертер для Mac версия Персонал...</td>\n",
              "      <td>4953</td>\n",
              "      <td>74</td>\n",
              "      <td>Movavi Видео Конвертер для Mac версия Персонал...</td>\n",
              "      <td>mac цифровая версия</td>\n",
              "      <td>0</td>\n",
              "      <td>mac</td>\n",
              "    </tr>\n",
              "    <tr>\n",
              "      <th>5387</th>\n",
              "      <td>Office Mac Home and Business 2011 [ MAC Цифров...</td>\n",
              "      <td>5387</td>\n",
              "      <td>74</td>\n",
              "      <td>Office Mac Home and Business 2011 [ MAC Цифров...</td>\n",
              "      <td>mac цифровая версия</td>\n",
              "      <td>0</td>\n",
              "      <td>mac</td>\n",
              "    </tr>\n",
              "    <tr>\n",
              "      <th>5389</th>\n",
              "      <td>Office Mac Home and Student 2011 [ MAC Цифрова...</td>\n",
              "      <td>5389</td>\n",
              "      <td>74</td>\n",
              "      <td>Office Mac Home and Student 2011 [ MAC Цифрова...</td>\n",
              "      <td>mac цифровая версия</td>\n",
              "      <td>0</td>\n",
              "      <td>mac</td>\n",
              "    </tr>\n",
              "    <tr>\n",
              "      <th>5729</th>\n",
              "      <td>Paragon NTFS for Mac OS X (Paragon) [MAC, Цифр...</td>\n",
              "      <td>5729</td>\n",
              "      <td>76</td>\n",
              "      <td>Paragon NTFS for Mac OS X</td>\n",
              "      <td>mac цифровая версия</td>\n",
              "      <td>paragon mac цифровая версия</td>\n",
              "      <td>mac</td>\n",
              "    </tr>\n",
              "    <tr>\n",
              "      <th>6439</th>\n",
              "      <td>Sid Meier's Railroadrs! [MAC, Цифровая версия]</td>\n",
              "      <td>6439</td>\n",
              "      <td>27</td>\n",
              "      <td>Sid Meier's Railroadrs! [MAC, Цифровая версия]</td>\n",
              "      <td>mac цифровая версия</td>\n",
              "      <td>0</td>\n",
              "      <td>mac</td>\n",
              "    </tr>\n",
              "    <tr>\n",
              "      <th>7012</th>\n",
              "      <td>Tiger Woods PGA TOUR 12: The Masters [MAC, Циф...</td>\n",
              "      <td>7012</td>\n",
              "      <td>31</td>\n",
              "      <td>Tiger Woods PGA TOUR 12: The Masters [MAC, Циф...</td>\n",
              "      <td>mac цифровая версия</td>\n",
              "      <td>0</td>\n",
              "      <td>mac</td>\n",
              "    </tr>\n",
              "    <tr>\n",
              "      <th>7079</th>\n",
              "      <td>Tomb Raider: Underworld [MAC, Цифровая версия]</td>\n",
              "      <td>7079</td>\n",
              "      <td>27</td>\n",
              "      <td>Tomb Raider: Underworld [MAC, Цифровая версия]</td>\n",
              "      <td>mac цифровая версия</td>\n",
              "      <td>0</td>\n",
              "      <td>mac</td>\n",
              "    </tr>\n",
              "    <tr>\n",
              "      <th>7115</th>\n",
              "      <td>Total War: SHOGUN 2 Коллекция [MAC, Цифровая в...</td>\n",
              "      <td>7115</td>\n",
              "      <td>27</td>\n",
              "      <td>Total War: SHOGUN 2 Коллекция [MAC, Цифровая в...</td>\n",
              "      <td>mac цифровая версия</td>\n",
              "      <td>0</td>\n",
              "      <td>mac</td>\n",
              "    </tr>\n",
              "    <tr>\n",
              "      <th>7921</th>\n",
              "      <td>XCOM: Enemy Within. Дополнение [MAC, Цифровая ...</td>\n",
              "      <td>7921</td>\n",
              "      <td>27</td>\n",
              "      <td>XCOM: Enemy Within. Дополнение [MAC, Цифровая ...</td>\n",
              "      <td>mac цифровая версия</td>\n",
              "      <td>0</td>\n",
              "      <td>mac</td>\n",
              "    </tr>\n",
              "  </tbody>\n",
              "</table>\n",
              "</div>"
            ],
            "text/plain": [
              "                                              item_name  item_id  \\\n",
              "1159  ABBYY FineReader Pro для Mac Full (версия для ...     1159   \n",
              "1160  ABBYY Lingvo for Mac (ABBYY) [MAC, Цифровая ве...     1160   \n",
              "2065  Brothers in Arms: Double Time [MAC, Цифровая в...     2065   \n",
              "3638                        GRID [MAC, Цифровая версия]     3638   \n",
              "3872  Hitman Absolution. Elite Edition [MAC, Цифрова...     3872   \n",
              "4206  Kaspersky Internet Security для Mac 14 Russian...     4206   \n",
              "4207  Kaspersky Internet Security для Mac 14 Russian...     4207   \n",
              "4208  Kaspersky Internet Security для Mac 14 Russian...     4208   \n",
              "4729    Mafia II: Director’s Cut [MAC, Цифровая версия]     4729   \n",
              "4931  Movavi Screen Capture для Mac Персональная вер...     4931   \n",
              "4950  Movavi Видео Конвертер Mac OS. Персональная ли...     4950   \n",
              "4953  Movavi Видео Конвертер для Mac версия Персонал...     4953   \n",
              "5387  Office Mac Home and Business 2011 [ MAC Цифров...     5387   \n",
              "5389  Office Mac Home and Student 2011 [ MAC Цифрова...     5389   \n",
              "5729  Paragon NTFS for Mac OS X (Paragon) [MAC, Цифр...     5729   \n",
              "6439     Sid Meier's Railroadrs! [MAC, Цифровая версия]     6439   \n",
              "7012  Tiger Woods PGA TOUR 12: The Masters [MAC, Циф...     7012   \n",
              "7079     Tomb Raider: Underworld [MAC, Цифровая версия]     7079   \n",
              "7115  Total War: SHOGUN 2 Коллекция [MAC, Цифровая в...     7115   \n",
              "7921  XCOM: Enemy Within. Дополнение [MAC, Цифровая ...     7921   \n",
              "\n",
              "      item_category_id                                             name_1  \\\n",
              "1159                74                 ABBYY FineReader Pro для Mac Full    \n",
              "1160                76                              ABBYY Lingvo for Mac    \n",
              "2065                27  Brothers in Arms: Double Time [MAC, Цифровая в...   \n",
              "3638                27                        GRID [MAC, Цифровая версия]   \n",
              "3872                27  Hitman Absolution. Elite Edition [MAC, Цифрова...   \n",
              "4206                76  Kaspersky Internet Security для Mac 14 Russian...   \n",
              "4207                74  Kaspersky Internet Security для Mac 14 Russian...   \n",
              "4208                74  Kaspersky Internet Security для Mac 14 Russian...   \n",
              "4729                27    Mafia II: Director’s Cut [MAC, Цифровая версия]   \n",
              "4931                74  Movavi Screen Capture для Mac Персональная вер...   \n",
              "4950                76  Movavi Видео Конвертер Mac OS. Персональная ли...   \n",
              "4953                74  Movavi Видео Конвертер для Mac версия Персонал...   \n",
              "5387                74  Office Mac Home and Business 2011 [ MAC Цифров...   \n",
              "5389                74  Office Mac Home and Student 2011 [ MAC Цифрова...   \n",
              "5729                76                         Paragon NTFS for Mac OS X    \n",
              "6439                27     Sid Meier's Railroadrs! [MAC, Цифровая версия]   \n",
              "7012                31  Tiger Woods PGA TOUR 12: The Masters [MAC, Циф...   \n",
              "7079                27     Tomb Raider: Underworld [MAC, Цифровая версия]   \n",
              "7115                27  Total War: SHOGUN 2 Коллекция [MAC, Цифровая в...   \n",
              "7921                27  XCOM: Enemy Within. Дополнение [MAC, Цифровая ...   \n",
              "\n",
              "                   name_2                                     name_3 type  \n",
              "1159  mac цифровая версия  версия для скачивания mac цифровая версия  mac  \n",
              "1160  mac цифровая версия                  abbyy mac цифровая версия  mac  \n",
              "2065  mac цифровая версия                                          0  mac  \n",
              "3638  mac цифровая версия                                          0  mac  \n",
              "3872  mac цифровая версия                                          0  mac  \n",
              "4206  mac цифровая версия                                          0  mac  \n",
              "4207  mac цифровая версия                                          0  mac  \n",
              "4208  mac цифровая версия                                          0  mac  \n",
              "4729  mac цифровая версия                                          0  mac  \n",
              "4931  mac цифровая версия                                          0  mac  \n",
              "4950  mac цифровая версия                                          0  mac  \n",
              "4953  mac цифровая версия                                          0  mac  \n",
              "5387  mac цифровая версия                                          0  mac  \n",
              "5389  mac цифровая версия                                          0  mac  \n",
              "5729  mac цифровая версия                paragon mac цифровая версия  mac  \n",
              "6439  mac цифровая версия                                          0  mac  \n",
              "7012  mac цифровая версия                                          0  mac  \n",
              "7079  mac цифровая версия                                          0  mac  \n",
              "7115  mac цифровая версия                                          0  mac  \n",
              "7921  mac цифровая версия                                          0  mac  "
            ]
          },
          "metadata": {
            "tags": []
          },
          "execution_count": 142
        }
      ]
    }
  ]
}