{
  "nbformat": 4,
  "nbformat_minor": 0,
  "metadata": {
    "colab": {
      "name": "Disaster Tweets with LR.ipynb",
      "provenance": [],
      "collapsed_sections": [],
      "authorship_tag": "ABX9TyNICzo9qDDlnN7jXAPO14B/",
      "include_colab_link": true
    },
    "kernelspec": {
      "name": "python3",
      "display_name": "Python 3"
    }
  },
  "cells": [
    {
      "cell_type": "markdown",
      "metadata": {
        "id": "view-in-github",
        "colab_type": "text"
      },
      "source": [
        "<a href=\"https://colab.research.google.com/github/GaoangLiu/AA_ipynb/blob/master/Disaster_Tweets_with_LR.ipynb\" target=\"_parent\"><img src=\"https://colab.research.google.com/assets/colab-badge.svg\" alt=\"Open In Colab\"/></a>"
      ]
    },
    {
      "cell_type": "markdown",
      "metadata": {
        "id": "oGvCC6gq82QM",
        "colab_type": "text"
      },
      "source": [
        "Use Logistic Regression to classify tweets on disaster are real or not. \n",
        "\n",
        "CNN way can be found [here](https://github.com/GaoangLiu/AA_ipynb/blob/master/NLP_with_Disaster_Tweets.ipynb)\n",
        "\n",
        "Naive Bayes can be found [here](https://github.com/GaoangLiu/AA_ipynb/blob/master/NLP_with_Disaster_Tweets.ipynb)\n"
      ]
    },
    {
      "cell_type": "code",
      "metadata": {
        "id": "2b3hQcpx8vIJ",
        "colab_type": "code",
        "colab": {}
      },
      "source": [
        "# Load packages \n",
        "import math\n",
        "import re\n",
        "import os\n",
        "import timeit\n",
        "import tensorflow as tf\n",
        "import numpy as np\n",
        "import pandas as pd\n",
        "import seaborn as sns\n",
        "import matplotlib.pyplot as plt\n",
        "import nltk\n",
        "import logging\n",
        "import time\n",
        "import smart_open\n",
        "import importlib\n",
        "\n",
        "from sklearn import svm\n",
        "from sklearn.linear_model import LogisticRegression\n",
        "from sklearn.model_selection import train_test_split, GridSearchCV\n",
        "from sklearn.metrics import accuracy_score, confusion_matrix, classification_report, f1_score\n",
        "from sklearn.naive_bayes import MultinomialNB\n",
        "from sklearn.feature_extraction.text import CountVectorizer, TfidfVectorizer\n",
        "logging.basicConfig(format='[%(asctime)s %(levelname)8s] %(message)s', level=logging.INFO, datefmt='%m-%d %H:%M:%S')\n",
        "\n",
        "from keras import layers, Input\n",
        "from keras.callbacks import EarlyStopping, ModelCheckpoint\n",
        "from keras.models import Sequential, Model, load_model\n",
        "from keras.layers import Flatten, Dense, Embedding, Dropout, LSTM, GRU, Bidirectional\n",
        "from keras.utils import to_categorical\n",
        "from keras.preprocessing.text import Tokenizer\n",
        "from keras.preprocessing.sequence import pad_sequences\n",
        "import gensim.downloader as api\n",
        "\n",
        "import B7 # boost117\n"
      ],
      "execution_count": 0,
      "outputs": []
    },
    {
      "cell_type": "code",
      "metadata": {
        "id": "00yIxjLBBY7k",
        "colab_type": "code",
        "colab": {
          "base_uri": "https://localhost:8080/",
          "height": 34
        },
        "outputId": "4d2714aa-94d1-4268-ee35-758b0211b74b"
      },
      "source": [
        "np.logspace(-3,3,7)"
      ],
      "execution_count": 221,
      "outputs": [
        {
          "output_type": "execute_result",
          "data": {
            "text/plain": [
              "array([1.e-03, 1.e-02, 1.e-01, 1.e+00, 1.e+01, 1.e+02, 1.e+03])"
            ]
          },
          "metadata": {
            "tags": []
          },
          "execution_count": 221
        }
      ]
    },
    {
      "cell_type": "markdown",
      "metadata": {
        "id": "LveeUfQ79Jdg",
        "colab_type": "text"
      },
      "source": [
        "Download data"
      ]
    },
    {
      "cell_type": "code",
      "metadata": {
        "id": "AjfWyBp99LSe",
        "colab_type": "code",
        "colab": {
          "base_uri": "https://localhost:8080/",
          "height": 493
        },
        "outputId": "32369fc4-bce3-4fcf-82e0-7846ba9ee909"
      },
      "source": [
        "! rm *.csv *.zip\n",
        "! wget -O tweets.zip ali.140714.xyz:8000/nlp-getting-started.zip \n",
        "! unzip tweets.zip \n",
        "! ls\n",
        "! wget -O labels.csv ali.140714.xyz:8000/leaked_tweet_labels.csv"
      ],
      "execution_count": 79,
      "outputs": [
        {
          "output_type": "stream",
          "text": [
            "--2020-05-14 08:12:49--  http://ali.140714.xyz:8000/nlp-getting-started.zip\n",
            "Resolving ali.140714.xyz (ali.140714.xyz)... 47.240.16.188\n",
            "Connecting to ali.140714.xyz (ali.140714.xyz)|47.240.16.188|:8000... connected.\n",
            "HTTP request sent, awaiting response... 200 OK\n",
            "Length: 607343 (593K) [application/zip]\n",
            "Saving to: ‘tweets.zip’\n",
            "\n",
            "\rtweets.zip            0%[                    ]       0  --.-KB/s               \rtweets.zip          100%[===================>] 593.11K  --.-KB/s    in 0.07s   \n",
            "\n",
            "2020-05-14 08:12:50 (8.47 MB/s) - ‘tweets.zip’ saved [607343/607343]\n",
            "\n",
            "Archive:  tweets.zip\n",
            "  inflating: sample_submission.csv   \n",
            "  inflating: test.csv                \n",
            "  inflating: train.csv               \n",
            "boost117.py  iiiextern.py  sample_data\t\t  test.csv   tweets.zip\n",
            "gggbost.py   __pycache__   sample_submission.csv  train.csv\n",
            "--2020-05-14 08:12:57--  http://ali.140714.xyz:8000/leaked_tweet_labels.csv\n",
            "Resolving ali.140714.xyz (ali.140714.xyz)... 47.240.16.188\n",
            "Connecting to ali.140714.xyz (ali.140714.xyz)|47.240.16.188|:8000... connected.\n",
            "HTTP request sent, awaiting response... 200 OK\n",
            "Length: 22746 (22K) [text/csv]\n",
            "Saving to: ‘labels.csv’\n",
            "\n",
            "labels.csv          100%[===================>]  22.21K  --.-KB/s    in 0.01s   \n",
            "\n",
            "2020-05-14 08:12:57 (1.57 MB/s) - ‘labels.csv’ saved [22746/22746]\n",
            "\n"
          ],
          "name": "stdout"
        }
      ]
    },
    {
      "cell_type": "code",
      "metadata": {
        "id": "5kI038lw5G9j",
        "colab_type": "code",
        "colab": {
          "base_uri": "https://localhost:8080/",
          "height": 221
        },
        "outputId": "73e51d39-b992-43c1-9b2c-b475a692c4dd"
      },
      "source": [
        "df = pd.read_csv('train.csv')\n",
        "results = set()\n",
        "s = df.text.str.lower().str.split(' ').apply(results.update)\n",
        "s, len(s)"
      ],
      "execution_count": 185,
      "outputs": [
        {
          "output_type": "execute_result",
          "data": {
            "text/plain": [
              "(0       None\n",
              " 1       None\n",
              " 2       None\n",
              " 3       None\n",
              " 4       None\n",
              "         ... \n",
              " 7608    None\n",
              " 7609    None\n",
              " 7610    None\n",
              " 7611    None\n",
              " 7612    None\n",
              " Name: text, Length: 7613, dtype: object, 7613)"
            ]
          },
          "metadata": {
            "tags": []
          },
          "execution_count": 185
        }
      ]
    },
    {
      "cell_type": "markdown",
      "metadata": {
        "id": "fSRdyepU9wll",
        "colab_type": "text"
      },
      "source": [
        "Naive Bayes model"
      ]
    },
    {
      "cell_type": "code",
      "metadata": {
        "id": "dgOAMpCE9yeE",
        "colab_type": "code",
        "colab": {}
      },
      "source": [
        "class Classifier():\n",
        "  def __init__(self):\n",
        "    self.train = None\n",
        "    self.test = None \n",
        "    self.model = None\n",
        "    \n",
        "  def load_data(self, train_file='train.csv', test_file='test.csv'):\n",
        "      \"\"\" Load train, test csv files and return pandas.DataFrame\n",
        "      \"\"\"\n",
        "      self.train = pd.read_csv(train_file, engine='python', encoding='utf-8', error_bad_lines=False)\n",
        "      self.test = pd.read_csv(test_file, engine='python', encoding='utf-8', error_bad_lines=False)\n",
        "      logging.info('CSV data loaded')\n",
        "  \n",
        "  def countvectorize(self):\n",
        "      tv = TfidfVectorizer(ngram_range=(1,5), token_pattern=r'\\w{1,}',\n",
        "               min_df=3, max_df=0.9, strip_accents='unicode', \n",
        "               sublinear_tf=1, max_features=5000)\n",
        "    #   tv = CountVectorizer()\n",
        "      tv.fit(self.train.text)\n",
        "      self.vector_train = tv.transform(self.train.text)\n",
        "      self.vector_test  = tv.transform(self.test.text)\n",
        "      logging.info(\"Train & test text tokenized\")\n",
        "\n",
        "  def train_model(self):\n",
        "      # Choose your own classifier: self.model and run it\n",
        "      logging.info(f\"{self.__class__.__name__} starts running.\")\n",
        "      labels = self.train.target\n",
        "      X_train, X_val, y_train, y_val = train_test_split(self.vector_train, labels, test_size=0.2, random_state=2020)\n",
        "      self.model.fit(X_train, y_train)\n",
        "      \n",
        "      self.X_val, self.y_val = X_val, y_val \n",
        "      return self.model\n",
        "    #   y_preds = self.model.predict(x_val)\n",
        "\n",
        "    #   logging.info(f\"Accuracy score: {accuracy_score(y_val, y_preds)}\")\n",
        "    #   logging.info(f\"Confusion matrix: \") \n",
        "    #   print(confusion_matrix(y_val, y_preds))\n",
        "    #   print(\"Classificaiton report:\\n\", classification_report(y_val, y_preds, target_names=[\"real\", \"unreal\"]))\n",
        "    #   y_preds = self.model.predict(self.vector_test)\n",
        "    #   return y_preds\n",
        "\n",
        "  def save_predictions(self, y_preds):\n",
        "      sub = pd.read_csv(f\"sample_submission.csv\")\n",
        "      sub['target'] = y_preds \n",
        "      sub.to_csv(f\"submission_{self.__class__.__name__}.csv\", index=False)\n",
        "      logging.info(f'Prediction exported to submission_{self.__class__.__name__}.csv')\n",
        "  \n",
        "  def pipeline(self):\n",
        "      s_time = time.clock()\n",
        "      self.load_data()\n",
        "      self.countvectorize()\n",
        "      self.build_model()\n",
        "      self.train_model()\n",
        "      logging.info(f\"Program running for {time.clock() - s_time} seconds\")\n",
        "\n",
        "class C_LR(Classifier):\n",
        "  def build_model(self):\n",
        "      self.model = LogisticRegression()\n",
        "      return self.model\n",
        "\n",
        "def super_blender():\n",
        "    blended = np.zeros(3263)\n",
        "    for _ in range(3):\n",
        "        nb = C_Bayes()\n",
        "        nb.pipeline()\n",
        "\n",
        "        importlib.reload(B7)\n",
        "        y_preds = nb.model.predict_proba(nb.X_val)\n",
        "        y_preds = y_preds[:, 1] # keep only the second column\n",
        "        threshold = B7.Search().find_best_threshold(y_preds, nb.y_val)\n",
        "        \n",
        "        test_preds = nb.model.predict_proba(nb.vector_test)\n",
        "        blended += (test_preds[:, 1] >= threshold).astype(int)\n",
        "    return blended\n",
        "\n",
        "def gridsearch():\n",
        "    grid={\"C\":np.logspace(-3,3,7), \"penalty\":[\"l1\",\"l2\"]}# l1 lasso l2 ridge\n",
        "    s_time = time.clock()\n",
        "    c = C_LR()\n",
        "    c.load_data()\n",
        "    c.countvectorize()\n",
        "\n",
        "    lr = LogisticRegression(solver='liblinear')\n",
        "    cv = GridSearchCV(lr, grid ,cv=5)\n",
        "    cv.fit(c.vector_train, c.train.target)\n",
        "\n",
        "    print(\"tuned hpyerparameters :(best parameters) \", cv.best_params_)\n",
        "    print(\"accuracy :\", cv.best_score_)\n",
        "\n",
        "    logging.info(f\"Program running for {time.clock() - s_time} seconds\")\n"
      ],
      "execution_count": 0,
      "outputs": []
    },
    {
      "cell_type": "code",
      "metadata": {
        "id": "XiZfNsnI2U6u",
        "colab_type": "code",
        "colab": {
          "base_uri": "https://localhost:8080/",
          "height": 102
        },
        "outputId": "6efff34b-6f80-4ef8-8a49-e7db1cd2ed95"
      },
      "source": [
        "# super_blender()\n",
        "gridsearch()\n"
      ],
      "execution_count": 235,
      "outputs": [
        {
          "output_type": "stream",
          "text": [
            "[05-14 12:21:00     INFO] CSV data loaded\n",
            "[05-14 12:21:03     INFO] Train & test text tokenized\n",
            "[05-14 12:21:19     INFO] Program running for 18.821707000000004 seconds\n"
          ],
          "name": "stderr"
        },
        {
          "output_type": "stream",
          "text": [
            "tuned hpyerparameters :(best parameters)  {'C': 1.0, 'penalty': 'l2'}\n",
            "accuracy : 0.7135210176332589\n"
          ],
          "name": "stdout"
        }
      ]
    },
    {
      "cell_type": "code",
      "metadata": {
        "id": "JDoqVhxa_JsQ",
        "colab_type": "code",
        "colab": {
          "base_uri": "https://localhost:8080/",
          "height": 85
        },
        "outputId": "397f97b0-bb60-46af-ee7c-3c45c5a14ae2"
      },
      "source": [
        "c = C_LR()\n",
        "c.pipeline()\n",
        "labels = pd.read_csv('labels.csv').target\n",
        "# preds = pd.read_csv('submission_C_Bayes.csv').target\n",
        "# print(\"The submission f1_score is: \", f1_score(labels, preds, average='weighted'))"
      ],
      "execution_count": 236,
      "outputs": [
        {
          "output_type": "stream",
          "text": [
            "[05-14 12:21:19     INFO] CSV data loaded\n",
            "[05-14 12:21:21     INFO] Train & test text tokenized\n",
            "[05-14 12:21:21     INFO] C_LR starts running.\n",
            "[05-14 12:21:22     INFO] Program running for 2.594122999999996 seconds\n"
          ],
          "name": "stderr"
        }
      ]
    },
    {
      "cell_type": "code",
      "metadata": {
        "id": "VwuHqrLyKutQ",
        "colab_type": "code",
        "colab": {
          "base_uri": "https://localhost:8080/",
          "height": 296
        },
        "outputId": "9b3b88bf-b1cb-4a97-da50-ea18091121a9"
      },
      "source": [
        "# B7.Files().download_vps('boost117.py', new_name='B7.py')\n",
        "importlib.reload(B7)\n",
        "\n",
        "y_preds = c.model.predict_proba(nb.X_val)\n",
        "y_preds = y_preds[:, 1] # keep only the second column\n",
        "threshold = B7.Search().find_best_threshold(y_preds, nb.y_val)"
      ],
      "execution_count": 230,
      "outputs": [
        {
          "output_type": "stream",
          "text": [
            "Best f1 score 0.5993792175966506, best threshold 0.48000000000000026\n"
          ],
          "name": "stdout"
        },
        {
          "output_type": "display_data",
          "data": {
            "image/png": "[encoded data removed]",
            "text/plain": [
              "<Figure size 432x288 with 1 Axes>"
            ]
          },
          "metadata": {
            "tags": [],
            "needs_background": "light"
          }
        }
      ]
    },
    {
      "cell_type": "code",
      "metadata": {
        "id": "wMC9NM06ai1D",
        "colab_type": "code",
        "colab": {
          "base_uri": "https://localhost:8080/",
          "height": 68
        },
        "outputId": "bcbe820f-405d-4e7f-dd4e-99bed0ceef04"
      },
      "source": [
        "test_preds = nb.model.predict_proba(nb.vector_test)\n",
        "test_preds = (test_preds[:, 1] >= threshold).astype(int)\n",
        "nb.save_predictions(test_preds)\n",
        "print(\"f1_score is\", f1_score(pd.read_csv('labels.csv').target, test_preds, average='weighted'))\n",
        "B7.Files().upload_vps('submission_C_LR.csv')"
      ],
      "execution_count": 237,
      "outputs": [
        {
          "output_type": "stream",
          "text": [
            "[05-14 12:21:38     INFO] Prediction exported to submission_C_LR.csv\n"
          ],
          "name": "stderr"
        },
        {
          "output_type": "stream",
          "text": [
            "f1_score is 0.7928250378876548\n"
          ],
          "name": "stdout"
        },
        {
          "output_type": "stream",
          "text": [
            "[05-14 12:21:40     INFO] submission_C_LR.csv was uploaded\n"
          ],
          "name": "stderr"
        }
      ]
    }
  ]
}