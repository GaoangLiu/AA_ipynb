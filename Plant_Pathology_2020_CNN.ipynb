{
  "nbformat": 4,
  "nbformat_minor": 0,
  "metadata": {
    "colab": {
      "name": "Plant Pathology 2020 CNN.ipynb",
      "provenance": [],
      "collapsed_sections": [],
      "authorship_tag": "ABX9TyP3UbT23ZCO3SUSAPznThSR",
      "include_colab_link": true
    },
    "kernelspec": {
      "name": "python3",
      "display_name": "Python 3"
    }
  },
  "cells": [
    {
      "cell_type": "markdown",
      "metadata": {
        "id": "view-in-github",
        "colab_type": "text"
      },
      "source": [
        "<a href=\"https://colab.research.google.com/github/GaoangLiu/AA_ipynb/blob/master/Plant_Pathology_2020_CNN.ipynb\" target=\"_parent\"><img src=\"https://colab.research.google.com/assets/colab-badge.svg\" alt=\"Open In Colab\"/></a>"
      ]
    },
    {
      "cell_type": "markdown",
      "metadata": {
        "id": "WxIEuTtRGoWO",
        "colab_type": "text"
      },
      "source": [
        "Objectives of ‘Plant Pathology Challenge’ are to train a model using images of training dataset to \n",
        "1. Accurately classify a given image from testing dataset into different diseased category or a healthy leaf; \n",
        "2. Accurately distinguish between many diseases, sometimes more than one on a single leaf; \n",
        "3. Deal with rare classes and novel symptoms; \n",
        "4. Address depth perception—angle, light, shade, physiological age of the leaf; and \n",
        "5. Incorporate expert knowledge in identification, annotation, quantification, and guiding computer vision to search for relevant features during learning.\n",
        "\n",
        "Main page: [https://www.kaggle.com/c/plant-pathology-2020-fgvc7/](https://www.kaggle.com/c/plant-pathology-2020-fgvc7/)"
      ]
    },
    {
      "cell_type": "code",
      "metadata": {
        "id": "W7_g9PCqGhv9",
        "colab_type": "code",
        "colab": {}
      },
      "source": [
        ""
      ],
      "execution_count": 0,
      "outputs": []
    }
  ]
}