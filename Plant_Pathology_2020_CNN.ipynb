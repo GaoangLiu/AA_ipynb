{
  "nbformat": 4,
  "nbformat_minor": 0,
  "metadata": {
    "colab": {
      "name": "Plant Pathology 2020 CNN.ipynb",
      "provenance": [],
      "collapsed_sections": [],
      "authorship_tag": "ABX9TyPyX11rTN0iNFEqN5XKDNIs",
      "include_colab_link": true
    },
    "kernelspec": {
      "name": "python3",
      "display_name": "Python 3"
    },
    "accelerator": "GPU"
  },
  "cells": [
    {
      "cell_type": "markdown",
      "metadata": {
        "id": "view-in-github",
        "colab_type": "text"
      },
      "source": [
        "<a href=\"https://colab.research.google.com/github/GaoangLiu/AA_ipynb/blob/master/Plant_Pathology_2020_CNN.ipynb\" target=\"_parent\"><img src=\"https://colab.research.google.com/assets/colab-badge.svg\" alt=\"Open In Colab\"/></a>"
      ]
    },
    {
      "cell_type": "markdown",
      "metadata": {
        "id": "WxIEuTtRGoWO",
        "colab_type": "text"
      },
      "source": [
        "Objectives of ‘Plant Pathology Challenge’ are to train a model using images of training dataset to \n",
        "1. Accurately classify a given image from testing dataset into different diseased category or a healthy leaf; \n",
        "2. Accurately distinguish between many diseases, sometimes more than one on a single leaf; \n",
        "3. Deal with rare classes and novel symptoms; \n",
        "4. Address depth perception—angle, light, shade, physiological age of the leaf; and \n",
        "5. Incorporate expert knowledge in identification, annotation, quantification, and guiding computer vision to search for relevant features during learning.\n",
        "\n",
        "Main page: [https://www.kaggle.com/c/plant-pathology-2020-fgvc7/](https://www.kaggle.com/c/plant-pathology-2020-fgvc7/)"
      ]
    },
    {
      "cell_type": "code",
      "metadata": {
        "id": "W7_g9PCqGhv9",
        "colab_type": "code",
        "colab": {}
      },
      "source": [
        "# Load packages \n",
        "import math\n",
        "import re\n",
        "import os\n",
        "import timeit\n",
        "import tensorflow as tf\n",
        "import numpy as np\n",
        "import pandas as pd\n",
        "import seaborn as sns\n",
        "import matplotlib.pyplot as plt\n",
        "import nltk\n",
        "import logging\n",
        "import time\n",
        "import smart_open\n",
        "import importlib\n",
        "\n",
        "from sklearn import svm\n",
        "from sklearn.linear_model import LogisticRegression\n",
        "from sklearn.model_selection import train_test_split, GridSearchCV\n",
        "from sklearn.metrics import accuracy_score, confusion_matrix, classification_report, f1_score\n",
        "from sklearn.naive_bayes import MultinomialNB\n",
        "from sklearn.feature_extraction.text import CountVectorizer, TfidfVectorizer\n",
        "logging.basicConfig(format='[%(asctime)s %(levelname)8s] %(message)s', level=logging.INFO, datefmt='%m-%d %H:%M:%S')\n",
        "\n",
        "from keras import layers, Input\n",
        "from keras.callbacks import EarlyStopping, ModelCheckpoint\n",
        "from keras.models import Sequential, Model, load_model\n",
        "from keras.layers import Flatten, Dense, Embedding, Dropout, LSTM, GRU, Bidirectional\n",
        "from keras.utils import to_categorical\n",
        "from keras.preprocessing.text import Tokenizer\n",
        "from keras.preprocessing.sequence import pad_sequences\n",
        "from keras.preprocessing.image import ImageDataGenerator\n",
        "\n",
        "!pip install efficientnet\n",
        "import efficientnet.keras as efn \n",
        "\n",
        "import gensim.downloader as api\n",
        "\n",
        "import tensorflow_hub as hub \n",
        "import tensorflow as tf"
      ],
      "execution_count": 0,
      "outputs": []
    },
    {
      "cell_type": "code",
      "metadata": {
        "id": "fDgcSgYSJZ7H",
        "colab_type": "code",
        "colab": {}
      },
      "source": [
        "! test -f plant.zip || wget -O plant.zip bwg.140714.xyz:8000/plant-pathology-2020-fgvc7.zip\n",
        "! unzip plant.zip"
      ],
      "execution_count": 0,
      "outputs": []
    },
    {
      "cell_type": "markdown",
      "metadata": {
        "id": "_cCYRtnaJvau",
        "colab_type": "text"
      },
      "source": [
        "# Explore data"
      ]
    },
    {
      "cell_type": "code",
      "metadata": {
        "id": "VWKN1ab3Jzi5",
        "colab_type": "code",
        "colab": {}
      },
      "source": [
        "train = pd.read_csv('train.csv')\n",
        "train['image_id'] = train['image_id'] + '.jpg'\n",
        "train.sample(10)"
      ],
      "execution_count": 0,
      "outputs": []
    },
    {
      "cell_type": "code",
      "metadata": {
        "id": "m3NWrF2GK68L",
        "colab_type": "code",
        "colab": {
          "base_uri": "https://localhost:8080/",
          "height": 221
        },
        "outputId": "58922ead-6072-4ede-f7d1-b4b633482c9a"
      },
      "source": [
        "train_data_gen = ImageDataGenerator(\n",
        "    horizontal_flip=True,\n",
        "    vertical_flip=True,\n",
        "    rotation_range=10,\n",
        "    width_shift_range=0.1,\n",
        "    height_shift_range=0.1,\n",
        "    zoom_range=.1,\n",
        "    rescale=1/255,\n",
        "    fill_mode='nearest',\n",
        "    shear_range=0.1,\n",
        "    brightness_range=[0.5, 1.5])\n",
        "\n",
        "img_shape = 300\n",
        "batch_size = 64\n",
        "\n",
        "X_train, X_val = train_test_split(train, test_size=0.2, random_state=2020)\n",
        "\n",
        "train_generator = train_data_gen.flow_from_dataframe(X_train, directory='images/',\n",
        "                                                      target_size=(img_shape, img_shape),\n",
        "                                                      x_col=\"image_id\",\n",
        "                                                      y_col=['healthy','multiple_diseases','rust','scab'],\n",
        "                                                      class_mode='raw',\n",
        "                                                      shuffle=False,\n",
        "                                                      subset='training',\n",
        "                                                      batch_size=batch_size)\n",
        "\n",
        "val_generator = train_data_gen.flow_from_dataframe(X_val, directory='images/',\n",
        "                                                      target_size=(img_shape, img_shape),\n",
        "                                                      x_col=\"image_id\",\n",
        "                                                      y_col=['healthy','multiple_diseases','rust','scab'],\n",
        "                                                      class_mode='raw',\n",
        "                                                      shuffle=False,\n",
        "                                                      batch_size=batch_size,\n",
        "                                                  )\n",
        "\n",
        "\n",
        "model = Sequential()\n",
        "model.add(layers.Conv2D(32, (7, 7), activation='relu', input_shape=(img_shape, img_shape, 3)))\n",
        "model.add(layers.MaxPool2D((2, 2)))\n",
        "model.add(layers.Conv2D(64, (7, 7), activation='relu'))\n",
        "model.add(layers.MaxPool2D((2, 2)))\n",
        "model.add(layers.Conv2D(128, (7, 7), activation='relu'))\n",
        "model.add(layers.MaxPool2D((2, 2)))\n",
        "model.add(layers.Flatten())\n",
        "model.add(layers.Dropout(0.5))\n",
        "model.add(layers.Dense(512, activation='relu'))\n",
        "model.add(Dense(4,activation='softmax'))\n",
        "model.compile(optimizer='rmsprop', loss='categorical_crossentropy', metrics=['accuracy'])\n",
        "\n",
        "history = model.fit_generator(train_generator, steps_per_epoch=batch_size, epochs=5, validation_data=val_generator, validation_steps=50)\n",
        "2"
      ],
      "execution_count": 0,
      "outputs": [
        {
          "output_type": "stream",
          "text": [
            "Found 1456 validated image filenames.\n",
            "Found 365 validated image filenames.\n",
            "Epoch 1/5\n",
            "64/64 [==============================] - 365s 6s/step - loss: 1.9928 - accuracy: 0.3325 - val_loss: 1.3186 - val_accuracy: 0.3533\n",
            "Epoch 2/5\n",
            "64/64 [==============================] - 361s 6s/step - loss: 1.2922 - accuracy: 0.3305 - val_loss: 1.1963 - val_accuracy: 0.3153\n",
            "Epoch 3/5\n",
            "64/64 [==============================] - 347s 5s/step - loss: 1.4057 - accuracy: 0.3279 - val_loss: 1.1799 - val_accuracy: 0.3222\n",
            "Epoch 4/5\n",
            "64/64 [==============================] - 342s 5s/step - loss: 1.3033 - accuracy: 0.3263 - val_loss: 1.3472 - val_accuracy: 0.3530\n",
            "Epoch 5/5\n",
            "63/64 [============================>.] - ETA: 2s - loss: 1.2780 - accuracy: 0.3313"
          ],
          "name": "stdout"
        }
      ]
    }
  ]
}