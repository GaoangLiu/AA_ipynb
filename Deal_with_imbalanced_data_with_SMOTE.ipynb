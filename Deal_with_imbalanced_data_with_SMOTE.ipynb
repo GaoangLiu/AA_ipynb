{
  "nbformat": 4,
  "nbformat_minor": 0,
  "metadata": {
    "colab": {
      "name": "Deal with imbalanced data with SMOTE.ipynb",
      "provenance": [],
      "collapsed_sections": [],
      "authorship_tag": "ABX9TyNX3mMzJk+2jexnIb1xkAA9",
      "include_colab_link": true
    },
    "kernelspec": {
      "name": "python3",
      "display_name": "Python 3"
    }
  },
  "cells": [
    {
      "cell_type": "markdown",
      "metadata": {
        "id": "view-in-github",
        "colab_type": "text"
      },
      "source": [
        "<a href=\"https://colab.research.google.com/github/GaoangLiu/AA_ipynb/blob/master/Deal_with_imbalanced_data_with_SMOTE.ipynb\" target=\"_parent\"><img src=\"https://colab.research.google.com/assets/colab-badge.svg\" alt=\"Open In Colab\"/></a>"
      ]
    },
    {
      "cell_type": "code",
      "metadata": {
        "id": "MlQaVYjfB785",
        "colab_type": "code",
        "outputId": "871963a9-5c82-40ed-9cca-b358c7b8d4e6",
        "colab": {
          "base_uri": "https://localhost:8080/",
          "height": 85
        }
      },
      "source": [
        "!curl -o creditcard.csv ali.140714.xyz:8000/creditcard.csv\n",
        "!ls"
      ],
      "execution_count": 13,
      "outputs": [
        {
          "output_type": "stream",
          "text": [
            "  % Total    % Received % Xferd  Average Speed   Time    Time     Time  Current\n",
            "                                 Dload  Upload   Total   Spent    Left  Speed\n",
            "100  143M  100  143M    0     0  3772k      0  0:00:39  0:00:39 --:--:-- 3995k\n",
            "creditcard.csv\tcycle.csv  data.zip  sample_data\n"
          ],
          "name": "stdout"
        }
      ]
    },
    {
      "cell_type": "code",
      "metadata": {
        "id": "bAh4XWzdCLSx",
        "colab_type": "code",
        "colab": {}
      },
      "source": [
        "import pandas as pd \n",
        "import numpy as np\n",
        "import xgboost\n",
        "\n",
        "import sklearn.model_selection\n",
        "import matplotlib.pyplot as plt\n",
        "import seaborn as sns\n",
        "from datetime import datetime \n",
        "\n",
        "from sklearn.preprocessing import LabelEncoder, LabelBinarizer, MultiLabelBinarizer\n",
        "import sklearn.metrics\n",
        "from lightgbm import LGBMRegressor\n",
        "\n",
        "from sklearn.pipeline import make_pipeline\n",
        "from sklearn.preprocessing import RobustScaler\n",
        "from sklearn.model_selection import KFold, cross_val_score\n",
        "from sklearn.metrics import mean_squared_error, mean_absolute_error\n",
        "\n",
        "from sklearn.linear_model import ElasticNetCV, LassoCV, RidgeCV\n",
        "from mlxtend.regressor import StackingCVRegressor"
      ],
      "execution_count": 0,
      "outputs": []
    },
    {
      "cell_type": "code",
      "metadata": {
        "id": "BvAy9FEKCTbK",
        "colab_type": "code",
        "outputId": "acd04ce2-f070-4a19-cd33-99285ec5797c",
        "colab": {
          "base_uri": "https://localhost:8080/",
          "height": 68
        }
      },
      "source": [
        "train = pd.read_csv('creditcard.csv')\n",
        "train.Class.value_counts()"
      ],
      "execution_count": 60,
      "outputs": [
        {
          "output_type": "execute_result",
          "data": {
            "text/plain": [
              "0    284315\n",
              "1       492\n",
              "Name: Class, dtype: int64"
            ]
          },
          "metadata": {
            "tags": []
          },
          "execution_count": 60
        }
      ]
    },
    {
      "cell_type": "code",
      "metadata": {
        "id": "EtED3yCeynv0",
        "colab_type": "code",
        "colab": {}
      },
      "source": [
        "from sklearn.preprocessing import StandardScaler\n",
        "\n",
        "features = train\n",
        "features['normal_amount'] = StandardScaler().fit_transform(train['Amount'].values.reshape(-1, 1))\n",
        "labels = features.Class \n",
        "features.drop(columns=['Time', 'Amount', 'Class'], inplace=True)"
      ],
      "execution_count": 0,
      "outputs": []
    },
    {
      "cell_type": "code",
      "metadata": {
        "id": "zC2YX3gtCdoN",
        "colab_type": "code",
        "outputId": "2dbb52c4-4ea3-404a-ca1a-b5aec5353fc1",
        "colab": {
          "base_uri": "https://localhost:8080/",
          "height": 51
        }
      },
      "source": [
        "%%time\n",
        "from sklearn.metrics import accuracy_score, f1_score, recall_score\n",
        "\n",
        "model = xgboost.XGBClassifier()\n",
        "X_train, X_val, y_train, y_val = sklearn.model_selection.train_test_split(features, labels, random_state=0)\n",
        "model.fit(X_train, y_train)\n",
        "\n",
        "def scores(labels, preds):\n",
        "    print(\"Accuracy score\", accuracy_score(labels, preds))\n",
        "    print(\"Recall score\", recall_score(labels, preds))\n",
        "    print(\"f1 score\", f1_score(labels, preds))        "
      ],
      "execution_count": 28,
      "outputs": [
        {
          "output_type": "stream",
          "text": [
            "CPU times: user 51.3 s, sys: 81.4 ms, total: 51.3 s\n",
            "Wall time: 51.7 s\n"
          ],
          "name": "stdout"
        }
      ]
    },
    {
      "cell_type": "code",
      "metadata": {
        "id": "ObdtgZh51gZz",
        "colab_type": "code",
        "colab": {
          "base_uri": "https://localhost:8080/",
          "height": 85
        },
        "outputId": "b4cf23ad-37a2-4aca-bd34-1760904bacf2"
      },
      "source": [
        "y_preds = model.predict(X_val)\n",
        "print(\"== xgboost model, before using SMOTE: == \")\n",
        "scores(y_val, y_preds)"
      ],
      "execution_count": 29,
      "outputs": [
        {
          "output_type": "stream",
          "text": [
            "Before using SMOTE: \n",
            "Accuracy score 0.9995084407741356\n",
            "Recall score 0.775\n",
            "f1 score 0.8416289592760181\n"
          ],
          "name": "stdout"
        }
      ]
    },
    {
      "cell_type": "markdown",
      "metadata": {
        "id": "_wsxUDkw1rFR",
        "colab_type": "text"
      },
      "source": [
        "## Over-sampling with SMOTE"
      ]
    },
    {
      "cell_type": "code",
      "metadata": {
        "id": "93evMWeK1xx3",
        "colab_type": "code",
        "colab": {
          "base_uri": "https://localhost:8080/",
          "height": 71
        },
        "outputId": "a7653a8e-f790-4428-a067-08c816be4180"
      },
      "source": [
        "from imblearn.over_sampling import SMOTE\n",
        "\n",
        "normal = train[train.Class == 0].sample(50_000)\n",
        "fraud = train[train.Class == 1].sample(492)\n",
        "features = pd.concat([normal, fraud])\n",
        "features['normal_amount'] = StandardScaler().fit_transform(features['Amount'].values.reshape(-1, 1))\n",
        "labels = features.Class \n",
        "features.drop(columns=['Time', 'Amount', 'Class'], inplace=True)\n",
        "\n",
        "smote = SMOTE()\n",
        "X, y = smote.fit_resample(features, labels)"
      ],
      "execution_count": 66,
      "outputs": [
        {
          "output_type": "stream",
          "text": [
            "/usr/local/lib/python3.6/dist-packages/sklearn/utils/deprecation.py:87: FutureWarning: Function safe_indexing is deprecated; safe_indexing is deprecated in version 0.22 and will be removed in version 0.24.\n",
            "  warnings.warn(msg, category=FutureWarning)\n"
          ],
          "name": "stderr"
        }
      ]
    },
    {
      "cell_type": "code",
      "metadata": {
        "id": "p1lAU5yK2g8x",
        "colab_type": "code",
        "colab": {
          "base_uri": "https://localhost:8080/",
          "height": 68
        },
        "outputId": "f9e98863-1e28-443a-9ed1-a9a1f2db007f"
      },
      "source": [
        "print(\"Length of y is now\", len(y))\n",
        "from collections import Counter\n",
        "c = Counter(y)\n",
        "print(\" Number of 1 is \", c[1])\n",
        "print(\" Number of 0 is \", c[0])"
      ],
      "execution_count": 67,
      "outputs": [
        {
          "output_type": "stream",
          "text": [
            "Length of y is now 20000\n",
            " Number of 1 is  10000\n",
            " Number of 0 is  10000\n"
          ],
          "name": "stdout"
        }
      ]
    },
    {
      "cell_type": "markdown",
      "metadata": {
        "id": "Zp1g_tlP3wkt",
        "colab_type": "text"
      },
      "source": [
        "Run model and see the scores, results\n",
        "1. `accuracy_score` slightly degrades, from 0.99951 to 0.99629\n",
        "2. `recall_score` improved from 0.775 to 0.85246\n",
        "3. `f1_score` improved from 0.84163 to 0.9163"
      ]
    },
    {
      "cell_type": "code",
      "metadata": {
        "id": "Vn3m39C83zSk",
        "colab_type": "code",
        "colab": {
          "base_uri": "https://localhost:8080/",
          "height": 51
        },
        "outputId": "11706d42-1311-4367-faaa-63c3100e075a"
      },
      "source": [
        "%%time\n",
        "model = xgboost.XGBClassifier()\n",
        "X_train, X_val, y_train, y_val = sklearn.model_selection.train_test_split(features, labels, random_state=0)\n",
        "model.fit(X_train, y_train)"
      ],
      "execution_count": 68,
      "outputs": [
        {
          "output_type": "stream",
          "text": [
            "CPU times: user 1.54 s, sys: 3.93 ms, total: 1.55 s\n",
            "Wall time: 1.56 s\n"
          ],
          "name": "stdout"
        }
      ]
    },
    {
      "cell_type": "code",
      "metadata": {
        "id": "05Tksw7l30n5",
        "colab_type": "code",
        "colab": {
          "base_uri": "https://localhost:8080/",
          "height": 85
        },
        "outputId": "50fc55c3-ce83-4b4e-de4c-592dd1d29023"
      },
      "source": [
        "y_preds = model.predict(X_val)\n",
        "print(\"== xgboost model, after using SMOTE: == \")\n",
        "scores(y_val, y_preds)"
      ],
      "execution_count": 69,
      "outputs": [
        {
          "output_type": "stream",
          "text": [
            "== xgboost model, after using SMOTE: == \n",
            "Accuracy score 0.9927563858177659\n",
            "Recall score 0.8728813559322034\n",
            "f1 score 0.9155555555555556\n"
          ],
          "name": "stdout"
        }
      ]
    },
    {
      "cell_type": "markdown",
      "metadata": {
        "id": "5jq9UZZL6tWB",
        "colab_type": "text"
      },
      "source": [
        "## Maximum `recall score`\n",
        "We also found that the number of the majority dominates the total number of samples, and different number of majority yields different results on `f1_score`, and `recall_score`. \n",
        "\n",
        "Since we are predicting fraud credit card, we're more concerned about the `recall score`. Thus, we will search the best number of majority to maximum `recall_score`."
      ]
    },
    {
      "cell_type": "code",
      "metadata": {
        "id": "6DCED9G77kvX",
        "colab_type": "code",
        "colab": {
          "base_uri": "https://localhost:8080/",
          "height": 34
        },
        "outputId": "49c0f3bc-3e76-4740-c68c-c93ec3f4a933"
      },
      "source": [
        "def _recall_score(n = 10000):\n",
        "    normal = train[train.Class == 0].sample(n, random_state=0)\n",
        "    fraud = train[train.Class == 1].sample(492)\n",
        "    features = pd.concat([normal, fraud])\n",
        "    features['normal_amount'] = StandardScaler().fit_transform(features['Amount'].values.reshape(-1, 1))\n",
        "    labels = features.Class \n",
        "    features.drop(columns=['Time', 'Amount', 'Class'], inplace=True)\n",
        "\n",
        "    smote = SMOTE(random_state=0)\n",
        "    X, y = smote.fit_resample(features, labels)\n",
        "\n",
        "    model = xgboost.XGBClassifier()\n",
        "    X_train, X_val, y_train, y_val = sklearn.model_selection.train_test_split(features, labels, random_state=0)\n",
        "    model.fit(X_train, y_train)\n",
        "\n",
        "    y_preds = model.predict(X_val)\n",
        "    # print(\"== xgboost model, after using SMOTE: == \")\n",
        "    # scores(y_val, y_preds)\n",
        "\n",
        "    return recall_score(y_val, y_preds)\n",
        "\n",
        "_recall_score(5000)"
      ],
      "execution_count": 127,
      "outputs": [
        {
          "output_type": "execute_result",
          "data": {
            "text/plain": [
              "0.7766990291262136"
            ]
          },
          "metadata": {
            "tags": []
          },
          "execution_count": 127
        }
      ]
    },
    {
      "cell_type": "code",
      "metadata": {
        "id": "b8ahouHM8OSU",
        "colab_type": "code",
        "colab": {}
      },
      "source": [
        "import warnings\n",
        "warnings.filterwarnings('ignore')\n",
        "\n",
        "ns = [i * 50 for i in range(5, 100)]\n",
        "rc = []\n",
        "for n in ns:\n",
        "    # print(\"==\" * 80)\n",
        "    # print(f\"Current number of majority is {n}\")\n",
        "    rc.append(_recall_score(n))\n"
      ],
      "execution_count": 0,
      "outputs": []
    },
    {
      "cell_type": "code",
      "metadata": {
        "id": "AUkEhdaZ9NJ9",
        "colab_type": "code",
        "colab": {
          "base_uri": "https://localhost:8080/",
          "height": 282
        },
        "outputId": "a53b806a-da21-4be1-c0f9-f57b1ab777ec"
      },
      "source": [
        "plt.plot(rc)"
      ],
      "execution_count": 123,
      "outputs": [
        {
          "output_type": "execute_result",
          "data": {
            "text/plain": [
              "[<matplotlib.lines.Line2D at 0x7fc95dff2e48>]"
            ]
          },
          "metadata": {
            "tags": []
          },
          "execution_count": 123
        },
        {
          "output_type": "display_data",
          "data": {
            "image/png": "[encoded data removed]",
            "text/plain": [
              "<Figure size 432x288 with 1 Axes>"
            ]
          },
          "metadata": {
            "tags": [],
            "needs_background": "light"
          }
        }
      ]
    },
    {
      "cell_type": "markdown",
      "metadata": {
        "id": "Rol_ilh9-6Rk",
        "colab_type": "text"
      },
      "source": [
        "## Conclusions\n",
        "After rounds of experiments, we found that there is no such thing as **best number** of majority to maximum the `recall_score`, because even with the same number of majority, the `recall_score` may vary.\n",
        "\n",
        "The reason might be that the `SMOTE().fit_transform()` method faked different data at each run, this is something we can not control. \n",
        "\n",
        "Good news is, when the number of majority is close to the number of minority, we tend to get good scores on `recall`, but bad scores on `accuracy`."
      ]
    },
    {
      "cell_type": "code",
      "metadata": {
        "id": "A-vB0MroAK0f",
        "colab_type": "code",
        "colab": {
          "base_uri": "https://localhost:8080/",
          "height": 419
        },
        "outputId": "b0041e89-c510-4652-d383-338e011b08e0"
      },
      "source": [
        "df = pd.concat([train[train.Class==0].sample(100), train[train.Class==1].sample(30)])\n",
        "df = df[['Amount', 'Class']]\n",
        "df"
      ],
      "execution_count": 152,
      "outputs": [
        {
          "output_type": "execute_result",
          "data": {
            "text/html": [
              "<div>\n",
              "<style scoped>\n",
              "    .dataframe tbody tr th:only-of-type {\n",
              "        vertical-align: middle;\n",
              "    }\n",
              "\n",
              "    .dataframe tbody tr th {\n",
              "        vertical-align: top;\n",
              "    }\n",
              "\n",
              "    .dataframe thead th {\n",
              "        text-align: right;\n",
              "    }\n",
              "</style>\n",
              "<table border=\"1\" class=\"dataframe\">\n",
              "  <thead>\n",
              "    <tr style=\"text-align: right;\">\n",
              "      <th></th>\n",
              "      <th>Amount</th>\n",
              "      <th>Class</th>\n",
              "    </tr>\n",
              "  </thead>\n",
              "  <tbody>\n",
              "    <tr>\n",
              "      <th>224565</th>\n",
              "      <td>24.19</td>\n",
              "      <td>0</td>\n",
              "    </tr>\n",
              "    <tr>\n",
              "      <th>100741</th>\n",
              "      <td>2.00</td>\n",
              "      <td>0</td>\n",
              "    </tr>\n",
              "    <tr>\n",
              "      <th>141183</th>\n",
              "      <td>6.05</td>\n",
              "      <td>0</td>\n",
              "    </tr>\n",
              "    <tr>\n",
              "      <th>41011</th>\n",
              "      <td>1.79</td>\n",
              "      <td>0</td>\n",
              "    </tr>\n",
              "    <tr>\n",
              "      <th>107211</th>\n",
              "      <td>45.39</td>\n",
              "      <td>0</td>\n",
              "    </tr>\n",
              "    <tr>\n",
              "      <th>...</th>\n",
              "      <td>...</td>\n",
              "      <td>...</td>\n",
              "    </tr>\n",
              "    <tr>\n",
              "      <th>230076</th>\n",
              "      <td>0.77</td>\n",
              "      <td>1</td>\n",
              "    </tr>\n",
              "    <tr>\n",
              "      <th>204503</th>\n",
              "      <td>84.28</td>\n",
              "      <td>1</td>\n",
              "    </tr>\n",
              "    <tr>\n",
              "      <th>192529</th>\n",
              "      <td>1.00</td>\n",
              "      <td>1</td>\n",
              "    </tr>\n",
              "    <tr>\n",
              "      <th>275992</th>\n",
              "      <td>634.30</td>\n",
              "      <td>1</td>\n",
              "    </tr>\n",
              "    <tr>\n",
              "      <th>226814</th>\n",
              "      <td>667.55</td>\n",
              "      <td>1</td>\n",
              "    </tr>\n",
              "  </tbody>\n",
              "</table>\n",
              "<p>130 rows × 2 columns</p>\n",
              "</div>"
            ],
            "text/plain": [
              "        Amount  Class\n",
              "224565   24.19      0\n",
              "100741    2.00      0\n",
              "141183    6.05      0\n",
              "41011     1.79      0\n",
              "107211   45.39      0\n",
              "...        ...    ...\n",
              "230076    0.77      1\n",
              "204503   84.28      1\n",
              "192529    1.00      1\n",
              "275992  634.30      1\n",
              "226814  667.55      1\n",
              "\n",
              "[130 rows x 2 columns]"
            ]
          },
          "metadata": {
            "tags": []
          },
          "execution_count": 152
        }
      ]
    },
    {
      "cell_type": "code",
      "metadata": {
        "id": "ja2VrViXAZjv",
        "colab_type": "code",
        "colab": {
          "base_uri": "https://localhost:8080/",
          "height": 1000
        },
        "outputId": "c5de602d-1a91-4404-dd60-f57ee708d304"
      },
      "source": [
        "smote = SMOTE(random_state=20)\n",
        "X, y = smote.fit_resample(df, df.Class)\n",
        "X, y"
      ],
      "execution_count": 154,
      "outputs": [
        {
          "output_type": "execute_result",
          "data": {
            "text/plain": [
              "(array([[2.41900000e+01, 0.00000000e+00],\n",
              "        [2.00000000e+00, 0.00000000e+00],\n",
              "        [6.05000000e+00, 0.00000000e+00],\n",
              "        [1.79000000e+00, 0.00000000e+00],\n",
              "        [4.53900000e+01, 0.00000000e+00],\n",
              "        [1.29000000e+00, 0.00000000e+00],\n",
              "        [6.67900000e+01, 0.00000000e+00],\n",
              "        [3.91300000e+01, 0.00000000e+00],\n",
              "        [1.20400000e+02, 0.00000000e+00],\n",
              "        [2.68300000e+01, 0.00000000e+00],\n",
              "        [1.12000000e+02, 0.00000000e+00],\n",
              "        [9.99000000e+00, 0.00000000e+00],\n",
              "        [1.00000000e+00, 0.00000000e+00],\n",
              "        [1.39900000e+01, 0.00000000e+00],\n",
              "        [5.80000000e+01, 0.00000000e+00],\n",
              "        [7.50000000e+01, 0.00000000e+00],\n",
              "        [8.00000000e+00, 0.00000000e+00],\n",
              "        [1.18500000e+01, 0.00000000e+00],\n",
              "        [7.13800000e+01, 0.00000000e+00],\n",
              "        [3.09800000e+01, 0.00000000e+00],\n",
              "        [2.49900000e+01, 0.00000000e+00],\n",
              "        [1.21160000e+02, 0.00000000e+00],\n",
              "        [2.09030000e+02, 0.00000000e+00],\n",
              "        [1.09000000e+01, 0.00000000e+00],\n",
              "        [3.14600000e+01, 0.00000000e+00],\n",
              "        [8.83600000e+01, 0.00000000e+00],\n",
              "        [1.60000000e+00, 0.00000000e+00],\n",
              "        [1.00000000e+00, 0.00000000e+00],\n",
              "        [1.50000000e+01, 0.00000000e+00],\n",
              "        [1.24900000e+02, 0.00000000e+00],\n",
              "        [1.59500000e+01, 0.00000000e+00],\n",
              "        [4.99500000e+01, 0.00000000e+00],\n",
              "        [5.38900000e+01, 0.00000000e+00],\n",
              "        [3.00000000e+01, 0.00000000e+00],\n",
              "        [4.66000000e+01, 0.00000000e+00],\n",
              "        [8.99000000e+00, 0.00000000e+00],\n",
              "        [1.83500000e+01, 0.00000000e+00],\n",
              "        [7.90000000e+01, 0.00000000e+00],\n",
              "        [1.06200000e+01, 0.00000000e+00],\n",
              "        [3.59000000e+00, 0.00000000e+00],\n",
              "        [3.58970000e+02, 0.00000000e+00],\n",
              "        [9.90000000e-01, 0.00000000e+00],\n",
              "        [7.77100000e+01, 0.00000000e+00],\n",
              "        [5.16800000e+01, 0.00000000e+00],\n",
              "        [2.37160000e+02, 0.00000000e+00],\n",
              "        [4.50000000e-01, 0.00000000e+00],\n",
              "        [1.00000000e+01, 0.00000000e+00],\n",
              "        [3.90000000e+01, 0.00000000e+00],\n",
              "        [1.00000000e+00, 0.00000000e+00],\n",
              "        [4.57000000e+00, 0.00000000e+00],\n",
              "        [9.99000000e+00, 0.00000000e+00],\n",
              "        [2.97890000e+02, 0.00000000e+00],\n",
              "        [2.95000000e+00, 0.00000000e+00],\n",
              "        [1.71900000e+01, 0.00000000e+00],\n",
              "        [2.73000000e+02, 0.00000000e+00],\n",
              "        [6.00000000e+01, 0.00000000e+00],\n",
              "        [1.00000000e+00, 0.00000000e+00],\n",
              "        [7.99800000e+01, 0.00000000e+00],\n",
              "        [1.00000000e+00, 0.00000000e+00],\n",
              "        [1.12500000e+02, 0.00000000e+00],\n",
              "        [2.50000000e+01, 0.00000000e+00],\n",
              "        [3.97000000e+00, 0.00000000e+00],\n",
              "        [7.86000000e+00, 0.00000000e+00],\n",
              "        [0.00000000e+00, 0.00000000e+00],\n",
              "        [3.44030000e+02, 0.00000000e+00],\n",
              "        [9.90000000e-01, 0.00000000e+00],\n",
              "        [1.78800000e+01, 0.00000000e+00],\n",
              "        [6.89700000e+01, 0.00000000e+00],\n",
              "        [1.50000000e+01, 0.00000000e+00],\n",
              "        [2.27000000e+00, 0.00000000e+00],\n",
              "        [3.18200000e+01, 0.00000000e+00],\n",
              "        [2.58000000e+00, 0.00000000e+00],\n",
              "        [3.88500000e+01, 0.00000000e+00],\n",
              "        [9.78000000e+00, 0.00000000e+00],\n",
              "        [4.49000000e+00, 0.00000000e+00],\n",
              "        [2.69000000e+00, 0.00000000e+00],\n",
              "        [2.20000000e+01, 0.00000000e+00],\n",
              "        [1.00000000e+00, 0.00000000e+00],\n",
              "        [7.70000000e-01, 0.00000000e+00],\n",
              "        [1.50000000e+02, 0.00000000e+00],\n",
              "        [4.24000000e+00, 0.00000000e+00],\n",
              "        [5.99000000e+00, 0.00000000e+00],\n",
              "        [1.22800000e+01, 0.00000000e+00],\n",
              "        [9.90000000e-01, 0.00000000e+00],\n",
              "        [3.67800000e+01, 0.00000000e+00],\n",
              "        [1.38170000e+02, 0.00000000e+00],\n",
              "        [4.26400000e+01, 0.00000000e+00],\n",
              "        [3.00000000e+01, 0.00000000e+00],\n",
              "        [0.00000000e+00, 0.00000000e+00],\n",
              "        [2.04770000e+02, 0.00000000e+00],\n",
              "        [4.85850000e+02, 0.00000000e+00],\n",
              "        [3.60000000e+01, 0.00000000e+00],\n",
              "        [1.66800000e+01, 0.00000000e+00],\n",
              "        [2.00000000e+01, 0.00000000e+00],\n",
              "        [1.59500000e+01, 0.00000000e+00],\n",
              "        [2.49900000e+01, 0.00000000e+00],\n",
              "        [3.49500000e+01, 0.00000000e+00],\n",
              "        [2.99900000e+01, 0.00000000e+00],\n",
              "        [3.03000000e+01, 0.00000000e+00],\n",
              "        [1.00000000e+00, 0.00000000e+00],\n",
              "        [9.99900000e+01, 1.00000000e+00],\n",
              "        [1.00000000e+00, 1.00000000e+00],\n",
              "        [1.00000000e+00, 1.00000000e+00],\n",
              "        [7.58600000e+01, 1.00000000e+00],\n",
              "        [2.12587000e+03, 1.00000000e+00],\n",
              "        [9.98500000e+01, 1.00000000e+00],\n",
              "        [9.99900000e+01, 1.00000000e+00],\n",
              "        [1.00000000e+00, 1.00000000e+00],\n",
              "        [1.00000000e+00, 1.00000000e+00],\n",
              "        [4.44170000e+02, 1.00000000e+00],\n",
              "        [1.00000000e+00, 1.00000000e+00],\n",
              "        [1.72320000e+02, 1.00000000e+00],\n",
              "        [1.44600000e+01, 1.00000000e+00],\n",
              "        [0.00000000e+00, 1.00000000e+00],\n",
              "        [7.60000000e-01, 1.00000000e+00],\n",
              "        [1.10000000e+00, 1.00000000e+00],\n",
              "        [5.26900000e+01, 1.00000000e+00],\n",
              "        [5.90000000e+01, 1.00000000e+00],\n",
              "        [1.00000000e+00, 1.00000000e+00],\n",
              "        [4.97000000e+00, 1.00000000e+00],\n",
              "        [1.00000000e+00, 1.00000000e+00],\n",
              "        [8.02520000e+02, 1.00000000e+00],\n",
              "        [1.75900000e+02, 1.00000000e+00],\n",
              "        [3.99800000e+01, 1.00000000e+00],\n",
              "        [1.88780000e+02, 1.00000000e+00],\n",
              "        [7.70000000e-01, 1.00000000e+00],\n",
              "        [8.42800000e+01, 1.00000000e+00],\n",
              "        [1.00000000e+00, 1.00000000e+00],\n",
              "        [6.34300000e+02, 1.00000000e+00],\n",
              "        [6.67550000e+02, 1.00000000e+00],\n",
              "        [4.05631759e+00, 1.00000000e+00],\n",
              "        [7.72111971e+01, 1.00000000e+00],\n",
              "        [1.00000000e+00, 1.00000000e+00],\n",
              "        [2.24326920e+02, 1.00000000e+00],\n",
              "        [1.01528972e+00, 1.00000000e+00],\n",
              "        [1.44646798e+03, 1.00000000e+00],\n",
              "        [8.90272803e-01, 1.00000000e+00],\n",
              "        [2.82398975e+01, 1.00000000e+00],\n",
              "        [1.00000000e+00, 1.00000000e+00],\n",
              "        [9.99387535e+01, 1.00000000e+00],\n",
              "        [6.94212673e+01, 1.00000000e+00],\n",
              "        [2.22185327e+02, 1.00000000e+00],\n",
              "        [7.48513123e+02, 1.00000000e+00],\n",
              "        [1.00000000e+00, 1.00000000e+00],\n",
              "        [1.00000000e+00, 1.00000000e+00],\n",
              "        [1.00000000e+00, 1.00000000e+00],\n",
              "        [9.99502710e+01, 1.00000000e+00],\n",
              "        [6.51320901e+02, 1.00000000e+00],\n",
              "        [9.99852770e+01, 1.00000000e+00],\n",
              "        [8.73391671e+01, 1.00000000e+00],\n",
              "        [3.63972312e+00, 1.00000000e+00],\n",
              "        [6.20265076e+01, 1.00000000e+00],\n",
              "        [1.73921269e+02, 1.00000000e+00],\n",
              "        [8.75819652e+01, 1.00000000e+00],\n",
              "        [1.00000000e+00, 1.00000000e+00],\n",
              "        [1.00000000e+00, 1.00000000e+00],\n",
              "        [1.01444557e+00, 1.00000000e+00],\n",
              "        [8.85012830e+01, 1.00000000e+00],\n",
              "        [9.20954442e+01, 1.00000000e+00],\n",
              "        [6.42524772e+02, 1.00000000e+00],\n",
              "        [1.00000000e+00, 1.00000000e+00],\n",
              "        [3.57788244e+02, 1.00000000e+00],\n",
              "        [9.43949423e+01, 1.00000000e+00],\n",
              "        [1.01192513e+00, 1.00000000e+00],\n",
              "        [1.07891607e+00, 1.00000000e+00],\n",
              "        [5.67981900e+00, 1.00000000e+00],\n",
              "        [1.00000000e+00, 1.00000000e+00],\n",
              "        [1.02196576e+00, 1.00000000e+00],\n",
              "        [1.36943384e+03, 1.00000000e+00],\n",
              "        [7.29744782e+02, 1.00000000e+00],\n",
              "        [1.00000000e+00, 1.00000000e+00],\n",
              "        [8.87513659e+01, 1.00000000e+00],\n",
              "        [1.00000000e+00, 1.00000000e+00],\n",
              "        [1.00000000e+00, 1.00000000e+00],\n",
              "        [8.46457551e+01, 1.00000000e+00],\n",
              "        [7.99742803e+02, 1.00000000e+00],\n",
              "        [7.66898836e-01, 1.00000000e+00],\n",
              "        [2.00643959e+03, 1.00000000e+00],\n",
              "        [5.89778211e+02, 1.00000000e+00],\n",
              "        [8.61288734e+01, 1.00000000e+00],\n",
              "        [9.37513002e+01, 1.00000000e+00],\n",
              "        [1.01986275e+00, 1.00000000e+00],\n",
              "        [1.00000000e+00, 1.00000000e+00],\n",
              "        [1.00000000e+00, 1.00000000e+00],\n",
              "        [9.99291448e+01, 1.00000000e+00],\n",
              "        [5.45625057e+01, 1.00000000e+00],\n",
              "        [1.05347877e+00, 1.00000000e+00],\n",
              "        [4.85860744e+01, 1.00000000e+00],\n",
              "        [1.00000000e+00, 1.00000000e+00],\n",
              "        [1.24292536e+02, 1.00000000e+00],\n",
              "        [5.72772603e+01, 1.00000000e+00],\n",
              "        [1.00000000e+00, 1.00000000e+00],\n",
              "        [7.26203573e+01, 1.00000000e+00],\n",
              "        [1.00000000e+00, 1.00000000e+00],\n",
              "        [5.92115787e+00, 1.00000000e+00],\n",
              "        [1.61348036e+02, 1.00000000e+00],\n",
              "        [9.32946069e-01, 1.00000000e+00],\n",
              "        [1.00000000e+00, 1.00000000e+00],\n",
              "        [1.00000000e+00, 1.00000000e+00],\n",
              "        [7.69421707e+01, 1.00000000e+00]]),\n",
              " array([0, 0, 0, 0, 0, 0, 0, 0, 0, 0, 0, 0, 0, 0, 0, 0, 0, 0, 0, 0, 0, 0,\n",
              "        0, 0, 0, 0, 0, 0, 0, 0, 0, 0, 0, 0, 0, 0, 0, 0, 0, 0, 0, 0, 0, 0,\n",
              "        0, 0, 0, 0, 0, 0, 0, 0, 0, 0, 0, 0, 0, 0, 0, 0, 0, 0, 0, 0, 0, 0,\n",
              "        0, 0, 0, 0, 0, 0, 0, 0, 0, 0, 0, 0, 0, 0, 0, 0, 0, 0, 0, 0, 0, 0,\n",
              "        0, 0, 0, 0, 0, 0, 0, 0, 0, 0, 0, 0, 1, 1, 1, 1, 1, 1, 1, 1, 1, 1,\n",
              "        1, 1, 1, 1, 1, 1, 1, 1, 1, 1, 1, 1, 1, 1, 1, 1, 1, 1, 1, 1, 1, 1,\n",
              "        1, 1, 1, 1, 1, 1, 1, 1, 1, 1, 1, 1, 1, 1, 1, 1, 1, 1, 1, 1, 1, 1,\n",
              "        1, 1, 1, 1, 1, 1, 1, 1, 1, 1, 1, 1, 1, 1, 1, 1, 1, 1, 1, 1, 1, 1,\n",
              "        1, 1, 1, 1, 1, 1, 1, 1, 1, 1, 1, 1, 1, 1, 1, 1, 1, 1, 1, 1, 1, 1,\n",
              "        1, 1]))"
            ]
          },
          "metadata": {
            "tags": []
          },
          "execution_count": 154
        }
      ]
    }
  ]
}