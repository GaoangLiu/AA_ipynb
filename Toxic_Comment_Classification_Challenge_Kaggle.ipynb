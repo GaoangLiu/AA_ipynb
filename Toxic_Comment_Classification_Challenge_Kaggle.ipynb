{
  "nbformat": 4,
  "nbformat_minor": 0,
  "metadata": {
    "colab": {
      "name": "Toxic Comment Classification Challenge - Kaggle.ipynb",
      "provenance": [],
      "collapsed_sections": [],
      "authorship_tag": "ABX9TyNxBqjEBMu59Jp1Dog+wgtM",
      "include_colab_link": true
    },
    "kernelspec": {
      "name": "python3",
      "display_name": "Python 3"
    }
  },
  "cells": [
    {
      "cell_type": "markdown",
      "metadata": {
        "id": "view-in-github",
        "colab_type": "text"
      },
      "source": [
        "<a href=\"https://colab.research.google.com/github/GaoangLiu/ipynb/blob/master/Toxic_Comment_Classification_Challenge_Kaggle.ipynb\" target=\"_parent\"><img src=\"https://colab.research.google.com/assets/colab-badge.svg\" alt=\"Open In Colab\"/></a>"
      ]
    },
    {
      "cell_type": "markdown",
      "metadata": {
        "id": "m4Sz54ZhJAdS",
        "colab_type": "text"
      },
      "source": [
        "# What is this ?\n",
        "This is a kaggle contest on [toxic comments classification](https://www.kaggle.com/c/jigsaw-toxic-comment-classification-challenge) \n",
        "\n",
        "The contestants are required to build a multi-headed model that’s capable of detecting different types of of toxicity like *threats, obscenity, insults, and identity-based hate* better than Perspective’s current models.\n",
        "\n"
      ]
    },
    {
      "cell_type": "code",
      "metadata": {
        "id": "REXS9R9eI750",
        "colab_type": "code",
        "colab": {}
      },
      "source": [
        ""
      ],
      "execution_count": 0,
      "outputs": []
    }
  ]
}