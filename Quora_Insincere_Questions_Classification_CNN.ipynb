{
  "nbformat": 4,
  "nbformat_minor": 0,
  "metadata": {
    "colab": {
      "name": "Quora Insincere Questions Classification. ipynb",
      "provenance": [],
      "collapsed_sections": [],
      "authorship_tag": "ABX9TyOUjHJFLlpSGBbs7XyHSRoO",
      "include_colab_link": true
    },
    "kernelspec": {
      "name": "python3",
      "display_name": "Python 3"
    },
    "accelerator": "GPU"
  },
  "cells": [
    {
      "cell_type": "markdown",
      "metadata": {
        "id": "view-in-github",
        "colab_type": "text"
      },
      "source": [
        "<a href=\"https://colab.research.google.com/github/GaoangLiu/ipynb/blob/master/CNN_Quora_Insincere_Questions_Classification_ipynb.ipynb\" target=\"_parent\"><img src=\"https://colab.research.google.com/assets/colab-badge.svg\" alt=\"Open In Colab\"/></a>"
      ]
    },
    {
      "cell_type": "markdown",
      "metadata": {
        "id": "zzJMWmNBzkXn",
        "colab_type": "text"
      },
      "source": [
        "[Quora insincere quetions classificaiton - Kaggle](https://www.kaggle.com/c/quora-insincere-questions-classification/data)\n",
        "\n",
        "## Problem Description \n",
        " \n",
        "In this competition you will be predicting whether a question asked on Quora is sincere or not.\n",
        "\n",
        "An insincere question is defined as a question intended to make a statement rather than look for helpful answers. Some characteristics that can signify that a question is insincere:\n",
        "\n",
        "* Has a non-neutral tone\n",
        "  * Has an exaggerated tone to underscore a point about a group of people\n",
        "  * Is rhetorical and meant to imply a statement about a group of people\n",
        "* Is disparaging or inflammatory\n",
        "  * Suggests a discriminatory idea against a protected class of people, or seeks confirmation of a stereotype\n",
        "  * Makes disparaging attacks/insults against a specific person or group of people\n",
        "  * Based on an outlandish premise about a group of people\n",
        "  * Disparages against a characteristic that is not fixable and not measurable\n",
        "\n",
        "* Isn't grounded in reality\n",
        "  * Based on false information, or contains absurd assumptions\n",
        "* Uses sexual content (incest, bestiality, pedophilia) for shock value, and not to seek genuine answers\n",
        "\n",
        "The training data includes the question that was asked, and whether it was identified as insincere (target = 1). The ground-truth labels contain some amount of noise: they are not guaranteed to be perfect.\n",
        "\n",
        "Note that the distribution of questions in the dataset should not be taken to be representative of the distribution of questions asked on Quora. This is, in part, because of the combination of sampling procedures and sanitization measures that have been applied to the final dataset.\n"
      ]
    },
    {
      "cell_type": "code",
      "metadata": {
        "id": "YlFXmmI1zgaI",
        "colab_type": "code",
        "colab": {}
      },
      "source": [
        "# Get data from personal server\n",
        "! wget -O quora.zip ali.140714.xyz:8000/quora.zip \n",
        "! unzip quora.zip \n",
        "! ls "
      ],
      "execution_count": 0,
      "outputs": []
    },
    {
      "cell_type": "markdown",
      "metadata": {
        "id": "7sDKHmg10wKb",
        "colab_type": "text"
      },
      "source": [
        "## Explore\n",
        "Now let's play with the data !"
      ]
    },
    {
      "cell_type": "code",
      "metadata": {
        "id": "nhmsSOmk09iK",
        "colab_type": "code",
        "colab": {}
      },
      "source": [
        "import math\n",
        "import re\n",
        "import os\n",
        "import timeit\n",
        "import tensorflow as tf\n",
        "import numpy as np\n",
        "import pandas as pd\n",
        "import seaborn as sns\n",
        "import matplotlib.pyplot as plt\n",
        "import nltk\n",
        "import logging\n",
        "logging.basicConfig(format='[%(asctime)s %(levelname)-8s] %(message)s', level=logging.INFO, datefmt='%m-%d %H:%M:%S')\n",
        "\n",
        "from matplotlib import pyplot as plt\n",
        "from sklearn.metrics import f1_score, precision_score, recall_score, confusion_matrix\n",
        "from sklearn.feature_extraction.text import CountVectorizer, TfidfVectorizer\n",
        "from sklearn.model_selection import train_test_split\n",
        "from wordcloud import WordCloud, STOPWORDS\n",
        "\n",
        "from keras.datasets import imdb\n",
        "from keras.callbacks import EarlyStopping, ModelCheckpoint\n",
        "from keras.models import Sequential\n",
        "from keras.layers import Flatten, Dense, Embedding, Dropout, LSTM, GRU, Bidirectional\n",
        "from keras.utils import to_categorical\n",
        "from keras.preprocessing.text import Tokenizer\n",
        "from keras.preprocessing.sequence import pad_sequences\n",
        "import gensim.downloader as api"
      ],
      "execution_count": 0,
      "outputs": []
    },
    {
      "cell_type": "code",
      "metadata": {
        "id": "1Vom-1Wv1PrM",
        "colab_type": "code",
        "outputId": "6e2486d8-e0b1-44c4-8993-e4380cc4428a",
        "colab": {
          "base_uri": "https://localhost:8080/",
          "height": 419
        }
      },
      "source": [
        "train = pd.read_csv('train.csv')\n",
        "test = pd.read_csv('test.csv')\n",
        "train.target.value_counts()\n",
        "train.question_text.str.len().describe()\n",
        "\n",
        "# for i in range(1, 100):\n",
        "#   text_len = i * 10\n",
        "#   print(f\"Textlen upbound {text_len}\")\n",
        "#   vc = train[(train.question_text.str.len() <= text_len) & (train.question_text.str.len() >= text_len - 10)].target.value_counts()\n",
        "#   print(f\"Sincere {vc.get(0, 0)}, insincere {vc.get(1, 0)}, insincere ratio {vc.get(1, 0) / (vc.get(0, 0) + vc.get(1, 0.001))}\")\n",
        "\n",
        "test"
      ],
      "execution_count": 0,
      "outputs": [
        {
          "output_type": "execute_result",
          "data": {
            "text/html": [
              "<div>\n",
              "<style scoped>\n",
              "    .dataframe tbody tr th:only-of-type {\n",
              "        vertical-align: middle;\n",
              "    }\n",
              "\n",
              "    .dataframe tbody tr th {\n",
              "        vertical-align: top;\n",
              "    }\n",
              "\n",
              "    .dataframe thead th {\n",
              "        text-align: right;\n",
              "    }\n",
              "</style>\n",
              "<table border=\"1\" class=\"dataframe\">\n",
              "  <thead>\n",
              "    <tr style=\"text-align: right;\">\n",
              "      <th></th>\n",
              "      <th>qid</th>\n",
              "      <th>question_text</th>\n",
              "    </tr>\n",
              "  </thead>\n",
              "  <tbody>\n",
              "    <tr>\n",
              "      <th>0</th>\n",
              "      <td>0000163e3ea7c7a74cd7</td>\n",
              "      <td>Why do so many women become so rude and arroga...</td>\n",
              "    </tr>\n",
              "    <tr>\n",
              "      <th>1</th>\n",
              "      <td>00002bd4fb5d505b9161</td>\n",
              "      <td>When should I apply for RV college of engineer...</td>\n",
              "    </tr>\n",
              "    <tr>\n",
              "      <th>2</th>\n",
              "      <td>00007756b4a147d2b0b3</td>\n",
              "      <td>What is it really like to be a nurse practitio...</td>\n",
              "    </tr>\n",
              "    <tr>\n",
              "      <th>3</th>\n",
              "      <td>000086e4b7e1c7146103</td>\n",
              "      <td>Who are entrepreneurs?</td>\n",
              "    </tr>\n",
              "    <tr>\n",
              "      <th>4</th>\n",
              "      <td>0000c4c3fbe8785a3090</td>\n",
              "      <td>Is education really making good people nowadays?</td>\n",
              "    </tr>\n",
              "    <tr>\n",
              "      <th>...</th>\n",
              "      <td>...</td>\n",
              "      <td>...</td>\n",
              "    </tr>\n",
              "    <tr>\n",
              "      <th>375801</th>\n",
              "      <td>ffff7fa746bd6d6197a9</td>\n",
              "      <td>How many countries listed in gold import in in...</td>\n",
              "    </tr>\n",
              "    <tr>\n",
              "      <th>375802</th>\n",
              "      <td>ffffa1be31c43046ab6b</td>\n",
              "      <td>Is there an alternative to dresses on formal p...</td>\n",
              "    </tr>\n",
              "    <tr>\n",
              "      <th>375803</th>\n",
              "      <td>ffffae173b6ca6bfa563</td>\n",
              "      <td>Where I can find best friendship quotes in Tel...</td>\n",
              "    </tr>\n",
              "    <tr>\n",
              "      <th>375804</th>\n",
              "      <td>ffffb1f7f1a008620287</td>\n",
              "      <td>What are the causes of refraction of light?</td>\n",
              "    </tr>\n",
              "    <tr>\n",
              "      <th>375805</th>\n",
              "      <td>fffff85473f4699474b0</td>\n",
              "      <td>Climate change is a worrying topic. How much t...</td>\n",
              "    </tr>\n",
              "  </tbody>\n",
              "</table>\n",
              "<p>375806 rows × 2 columns</p>\n",
              "</div>"
            ],
            "text/plain": [
              "                         qid                                      question_text\n",
              "0       0000163e3ea7c7a74cd7  Why do so many women become so rude and arroga...\n",
              "1       00002bd4fb5d505b9161  When should I apply for RV college of engineer...\n",
              "2       00007756b4a147d2b0b3  What is it really like to be a nurse practitio...\n",
              "3       000086e4b7e1c7146103                             Who are entrepreneurs?\n",
              "4       0000c4c3fbe8785a3090   Is education really making good people nowadays?\n",
              "...                      ...                                                ...\n",
              "375801  ffff7fa746bd6d6197a9  How many countries listed in gold import in in...\n",
              "375802  ffffa1be31c43046ab6b  Is there an alternative to dresses on formal p...\n",
              "375803  ffffae173b6ca6bfa563  Where I can find best friendship quotes in Tel...\n",
              "375804  ffffb1f7f1a008620287        What are the causes of refraction of light?\n",
              "375805  fffff85473f4699474b0  Climate change is a worrying topic. How much t...\n",
              "\n",
              "[375806 rows x 2 columns]"
            ]
          },
          "metadata": {
            "tags": []
          },
          "execution_count": 64
        }
      ]
    },
    {
      "cell_type": "code",
      "metadata": {
        "id": "IoJRz0x6Hqkb",
        "colab_type": "code",
        "outputId": "6c429a5c-e7af-49ba-83a6-586ba31cb553",
        "colab": {
          "base_uri": "https://localhost:8080/",
          "height": 419
        }
      },
      "source": [
        "sub = pd.read_csv('sample_submission.csv')\n",
        "sub"
      ],
      "execution_count": 0,
      "outputs": [
        {
          "output_type": "execute_result",
          "data": {
            "text/html": [
              "<div>\n",
              "<style scoped>\n",
              "    .dataframe tbody tr th:only-of-type {\n",
              "        vertical-align: middle;\n",
              "    }\n",
              "\n",
              "    .dataframe tbody tr th {\n",
              "        vertical-align: top;\n",
              "    }\n",
              "\n",
              "    .dataframe thead th {\n",
              "        text-align: right;\n",
              "    }\n",
              "</style>\n",
              "<table border=\"1\" class=\"dataframe\">\n",
              "  <thead>\n",
              "    <tr style=\"text-align: right;\">\n",
              "      <th></th>\n",
              "      <th>qid</th>\n",
              "      <th>prediction</th>\n",
              "    </tr>\n",
              "  </thead>\n",
              "  <tbody>\n",
              "    <tr>\n",
              "      <th>0</th>\n",
              "      <td>0000163e3ea7c7a74cd7</td>\n",
              "      <td>0</td>\n",
              "    </tr>\n",
              "    <tr>\n",
              "      <th>1</th>\n",
              "      <td>00002bd4fb5d505b9161</td>\n",
              "      <td>0</td>\n",
              "    </tr>\n",
              "    <tr>\n",
              "      <th>2</th>\n",
              "      <td>00007756b4a147d2b0b3</td>\n",
              "      <td>0</td>\n",
              "    </tr>\n",
              "    <tr>\n",
              "      <th>3</th>\n",
              "      <td>000086e4b7e1c7146103</td>\n",
              "      <td>0</td>\n",
              "    </tr>\n",
              "    <tr>\n",
              "      <th>4</th>\n",
              "      <td>0000c4c3fbe8785a3090</td>\n",
              "      <td>0</td>\n",
              "    </tr>\n",
              "    <tr>\n",
              "      <th>...</th>\n",
              "      <td>...</td>\n",
              "      <td>...</td>\n",
              "    </tr>\n",
              "    <tr>\n",
              "      <th>375801</th>\n",
              "      <td>ffff7fa746bd6d6197a9</td>\n",
              "      <td>0</td>\n",
              "    </tr>\n",
              "    <tr>\n",
              "      <th>375802</th>\n",
              "      <td>ffffa1be31c43046ab6b</td>\n",
              "      <td>0</td>\n",
              "    </tr>\n",
              "    <tr>\n",
              "      <th>375803</th>\n",
              "      <td>ffffae173b6ca6bfa563</td>\n",
              "      <td>0</td>\n",
              "    </tr>\n",
              "    <tr>\n",
              "      <th>375804</th>\n",
              "      <td>ffffb1f7f1a008620287</td>\n",
              "      <td>0</td>\n",
              "    </tr>\n",
              "    <tr>\n",
              "      <th>375805</th>\n",
              "      <td>fffff85473f4699474b0</td>\n",
              "      <td>0</td>\n",
              "    </tr>\n",
              "  </tbody>\n",
              "</table>\n",
              "<p>375806 rows × 2 columns</p>\n",
              "</div>"
            ],
            "text/plain": [
              "                         qid  prediction\n",
              "0       0000163e3ea7c7a74cd7           0\n",
              "1       00002bd4fb5d505b9161           0\n",
              "2       00007756b4a147d2b0b3           0\n",
              "3       000086e4b7e1c7146103           0\n",
              "4       0000c4c3fbe8785a3090           0\n",
              "...                      ...         ...\n",
              "375801  ffff7fa746bd6d6197a9           0\n",
              "375802  ffffa1be31c43046ab6b           0\n",
              "375803  ffffae173b6ca6bfa563           0\n",
              "375804  ffffb1f7f1a008620287           0\n",
              "375805  fffff85473f4699474b0           0\n",
              "\n",
              "[375806 rows x 2 columns]"
            ]
          },
          "metadata": {
            "tags": []
          },
          "execution_count": 11
        }
      ]
    },
    {
      "cell_type": "markdown",
      "metadata": {
        "id": "L74YSwzK9Fty",
        "colab_type": "text"
      },
      "source": [
        "## Findings\n",
        "* The target value counts: `sincere 1225312, insincere 80810, ration 15:1`. Thus insincere is relatively rare in the questions \n",
        "* There are no empty questions, which is understandable, you're not asking a question until you say something. \n",
        "* `question_text`, \n",
        "  * mean length 70\n",
        "  * std 30\n",
        "  * min length 1 \n",
        "  * max length 1017\n",
        "* When the length of question text is above 10 and below 320, **the longer the length, the less sincere the question is**; for questions with length less than 10, 64.8% are insincere. "
      ]
    },
    {
      "cell_type": "markdown",
      "metadata": {
        "id": "DANdmF7oDow7",
        "colab_type": "text"
      },
      "source": [
        "Try CNN first. "
      ]
    },
    {
      "cell_type": "code",
      "metadata": {
        "id": "8cGBRnDH9Sti",
        "colab_type": "code",
        "outputId": "aca847e3-bc53-48a2-ae27-cc7354851179",
        "colab": {
          "base_uri": "https://localhost:8080/",
          "height": 360
        }
      },
      "source": [
        "class DeepLearning():\n",
        "  \"\"\" A template for running CNN models\"\"\"\n",
        "  def __init__(self, max_features=100000, max_sentence_len=200, embedding_dim=100):\n",
        "    self.max_features = max_features\n",
        "    self.max_sentence_len = max_sentence_len\n",
        "    self.embedding_dim = embedding_dim # For using embedded vector\n",
        "    self.filepath=\"weights_base.best.hdf5\" # saving the best model weights \n",
        "\n",
        "  def load_data(self, train_file='train.csv', test_file='test.csv'):\n",
        "      \"\"\" A task-dependent method that will load data and do simple preprocessing,\n",
        "      @return: train_data, test_data, train_labels, test_labels\n",
        "      Load data and  \"\"\"\n",
        "      train = pd.read_csv(train_file, engine='python',\\\n",
        "          encoding='utf-8', error_bad_lines=False)\n",
        "      test = pd.read_csv(test_file, engine='python', \\\n",
        "          encoding='utf-8', error_bad_lines=False)\n",
        "      logging.info('CSV data loaded')\n",
        "      return train, test\n",
        "\n",
        "  def exploring_data(self, train):\n",
        "      '''Find patterns, informations'''\n",
        "      pass \n",
        "\n",
        "  def tokenize_text(self, text_train, text_test):\n",
        "      '''@para: max_features, the most commenly used words in data set\n",
        "      @input are vector of text\n",
        "      '''\n",
        "      tokenizer = Tokenizer(num_words=self.max_features)\n",
        "      text = pd.concat([text_train, text_test])\n",
        "      tokenizer.fit_on_texts(text)\n",
        "\n",
        "      sequence_train = tokenizer.texts_to_sequences(text_train)\n",
        "      tokenized_train = pad_sequences(sequence_train, maxlen=self.max_sentence_len)\n",
        "      logging.info('Train text tokeninzed')\n",
        "\n",
        "      sequence_test = tokenizer.texts_to_sequences(text_test)\n",
        "      tokenized_test = pad_sequences(sequence_test, maxlen=self.max_sentence_len)\n",
        "      logging.info('Test text tokeninzed')\n",
        "      return tokenized_train, tokenized_test, tokenizer\n",
        "      \n",
        "\n",
        "  def embed_glove_vector(self, word_index, model='glove-wiki-gigaword-100'):\n",
        "      glove = api.load(model) # default: wikipedia 6B tokens, uncased\n",
        "      zeros = [0] * self.embedding_dim\n",
        "      matrix = np.zeros((self.max_features, self.embedding_dim))\n",
        "      \n",
        "      for word, i in word_index.items(): \n",
        "          if i >= self.max_features or word not in glove: continue # matrix[0] is zeros, that's also why >= is here\n",
        "          matrix[i] = glove[word]\n",
        "\n",
        "      logging.info('Glove embedding vector created')\n",
        "      return matrix\n",
        "\n",
        "\n",
        "  def tfidf_vectorized(self, text_train, text_test):\n",
        "      \"\"\" Tokenize text with TfidfVectorizer()\n",
        "          Parameters such as ngram_range, max_features requires fine-tuning \n",
        "          @input: text Series, not DataFrame\n",
        "      \"\"\"\n",
        "      tv = TfidfVectorizer(sublinear_tf=True, strip_accents='unicode', \\\n",
        "                          analyzer='word', token_pattern=r'\\w{1,}',  stop_words='english', \\\n",
        "                          ngram_range=(1, 1), max_features=self.max_features)\n",
        "      # features_train = tv.fit_transform(train.comment_text)\n",
        "      # return features_train, 0\n",
        "      return (tv.fit_transform(text) for text in (text_train, test_train))\n",
        "\n",
        "\n",
        "  def build_model(self, embedding_matrix=np.zeros(0)):\n",
        "      dropout = 0.5\n",
        "      model = Sequential()\n",
        "      model.add(Embedding(self.max_features, self.embedding_dim, input_length=self.max_sentence_len))\n",
        "      model.add(Flatten())\n",
        "\n",
        "      model.add(Dense(64, activation='relu'))\n",
        "      model.add(Dropout(dropout))\n",
        "      model.add(Dense(64, activation='relu'))\n",
        "      model.add(Dropout(dropout))\n",
        "      \n",
        "      model.add(Dense(1, activation='sigmoid'))\n",
        "\n",
        "      if embedding_matrix.size > 0:\n",
        "          model.layers[0].set_weights([embedding_matrix])\n",
        "          model.layers[0].trainable = False\n",
        "      logging.info(f'Model created')\n",
        "      return model\n",
        "\n",
        "  def run(self, model, x_train, y_train):\n",
        "      checkpoint = ModelCheckpoint(self.filepath, monitor='val_acc', verbose=1, save_best_only=True, mode='max')\n",
        "      early = EarlyStopping(monitor=\"val_acc\", mode=\"max\", patience=5)\n",
        "\n",
        "      model.compile(optimizer='rmsprop', loss='binary_crossentropy', metrics=['acc'])\n",
        "      X_tra, X_val, y_tra, y_val = train_test_split(x_train, y_train, train_size=0.9, random_state=23)\n",
        "      history = model.fit(X_tra, y_tra, epochs=3, batch_size=128, validation_data=(X_val, y_val), \\\n",
        "                          callbacks=[checkpoint, early], verbose=1)\n",
        "      return model, history\n",
        "\n",
        "  def display_history(self, history):\n",
        "      acc = history['acc']\n",
        "      val_acc = history.history['val_acc']\n",
        "      loss = history.history['loss']\n",
        "    \n",
        "  def predict(self, y_test, labels, sub_file=\"sample_submission.csv\"):\n",
        "      res = pd.read_csv(sub_file)\n",
        "      res[labels] = y_test\n",
        "      res.to_csv('submission.csv', index=False)\n",
        "      logging.info(f\"Predictions were written to submission.csv\")\n",
        "\n",
        "  def describe_model(self, **dm):\n",
        "    for k, v in dm.items():\n",
        "      print(f\"{k}: {v}\")\n",
        "\n",
        "\n",
        "def save_predict(preds=[]):\n",
        "  train['text_len'] = 10 + 10 * ((train.question_text.str.len() - 1) // 10)\n",
        "  vc = train.groupby('text_len').target.value_counts()\n",
        "\n",
        "  test['preds'] = preds\n",
        "  test['text_len'] = 10 + 10 * ((test.question_text.str.len() - 1) // 10)\n",
        "  max_preds = test.groupby('text_len').preds.max()\n",
        "  min_preds = test.groupby('text_len').preds.min()\n",
        "\n",
        "  def classify_pred(row): # to either 0 or 1\n",
        "    tlen = row.text_len\n",
        "    vmin, vmax = min_preds[tlen], max_preds[tlen]\n",
        "    c0, c1 = vc.get((tlen, 0), 0.01), vc.get((tlen, 1), 0.01)\n",
        "    r = c0 / (c0 + c1)\n",
        "    return 1 if (row['preds'] - vmin) / (vmax - vmin) >= r else 0\n",
        "  \n",
        "  res = pd.read_csv('sample_submission.csv')\n",
        "  res['prediction'] = test.apply(classify_pred, axis=1)\n",
        "  res.to_csv('submission.csv', index=False)\n",
        "  logging.info('Predictions were made through external method.')\n",
        "\n",
        "  return res\n",
        "\n",
        "def save_predict_v2(y_preds):\n",
        "  bad, good = 80810, 1225312\n",
        "  preds = sorted([e[0] for e in y_preds])\n",
        "  idx_delta = int(len(preds) * (good / (good + bad)))\n",
        "  delta = preds[idx_delta]\n",
        "\n",
        "  res = pd.read_csv('sample_submission.csv')\n",
        "  res['prediction'] = [1 if p >= delta else 0 for p in y_preds]\n",
        "  res.to_csv('submission.csv', index=False)\n",
        "  logging.info('Predictions were made through external method v2.')\n",
        "\n",
        "  return res\n",
        "  \n",
        "\n",
        "# y_pred\n",
        "time_start = timeit.default_timer()\n",
        "dl = DeepLearning(max_features=200000, max_sentence_len=350, embedding_dim=300)\n",
        "train, test = dl.load_data()\n",
        "columns = ['target']\n",
        "labels = train[columns].values\n",
        "\n",
        "X_train, X_test, tokenizer = dl.tokenize_text(train[\"question_text\"].fillna(\"_na_\"), test[\"question_text\"].fillna(\"_na_\"))\n",
        "# embedding_matrix = dl.embed_glove_vector(tokenizer.word_index, 'word2vec-google-news-300')\n",
        "\n",
        "model = dl.build_model()\n",
        "model, history = dl.run(model, X_train[:10000], labels[:10000])\n",
        "model.load_weights(dl.filepath)\n",
        "y_preds = model.predict(X_test, batch_size=1024, verbose=1)\n",
        "final_preds = save_predict_v2(y_preds)\n",
        "\n",
        "time_stop = timeit.default_timer()\n",
        "print(f'Program run for {time_stop - time_start} seconds')\n"
      ],
      "execution_count": 159,
      "outputs": [
        {
          "output_type": "stream",
          "text": [
            "[05-07 08:36:40 INFO    ] Model created\n",
            "/usr/local/lib/python3.6/dist-packages/tensorflow/python/framework/indexed_slices.py:434: UserWarning: Converting sparse IndexedSlices to a dense Tensor of unknown shape. This may consume a large amount of memory.\n",
            "  \"Converting sparse IndexedSlices to a dense Tensor of unknown shape. \"\n"
          ],
          "name": "stderr"
        },
        {
          "output_type": "stream",
          "text": [
            "Train on 9000 samples, validate on 1000 samples\n",
            "Epoch 1/3\n",
            "9000/9000 [==============================] - 3s 338us/step - loss: 0.3480 - acc: 0.9020 - val_loss: 0.2621 - val_acc: 0.9300\n",
            "\n",
            "Epoch 00001: val_acc improved from -inf to 0.93000, saving model to weights_base.best.hdf5\n",
            "Epoch 2/3\n",
            "9000/9000 [==============================] - 3s 323us/step - loss: 0.2135 - acc: 0.9359 - val_loss: 0.1978 - val_acc: 0.9300\n",
            "\n",
            "Epoch 00002: val_acc did not improve from 0.93000\n",
            "Epoch 3/3\n",
            "9000/9000 [==============================] - 3s 319us/step - loss: 0.1542 - acc: 0.9390 - val_loss: 0.2084 - val_acc: 0.9300\n",
            "\n",
            "Epoch 00003: val_acc did not improve from 0.93000\n",
            "375806/375806 [==============================] - 3s 9us/step\n"
          ],
          "name": "stdout"
        },
        {
          "output_type": "stream",
          "text": [
            "[05-07 08:36:56 INFO    ] Predictions were made through external method v2.\n"
          ],
          "name": "stderr"
        },
        {
          "output_type": "stream",
          "text": [
            "Program run for 16.149937967002188 seconds\n"
          ],
          "name": "stdout"
        }
      ]
    },
    {
      "cell_type": "code",
      "metadata": {
        "id": "viOkPI1pKXrm",
        "colab_type": "code",
        "colab": {
          "base_uri": "https://localhost:8080/",
          "height": 68
        },
        "outputId": "d12ddc8a-2163-491e-a46c-b9787a795d39"
      },
      "source": [
        "sub = pd.read_csv('submission.csv')\n",
        "bad, good = 80810, 1225312\n",
        "# max_prob = max(sub.prediction)\n",
        "# print(max_prob)\n",
        "sub.prediction.value_counts()"
      ],
      "execution_count": 160,
      "outputs": [
        {
          "output_type": "execute_result",
          "data": {
            "text/plain": [
              "0    352554\n",
              "1     23252\n",
              "Name: prediction, dtype: int64"
            ]
          },
          "metadata": {
            "tags": []
          },
          "execution_count": 160
        }
      ]
    },
    {
      "cell_type": "code",
      "metadata": {
        "id": "CFXPmyWPH5Lt",
        "colab_type": "code",
        "outputId": "35964094-ddda-4323-b586-bfe3f546311e",
        "colab": {
          "base_uri": "https://localhost:8080/",
          "height": 299
        }
      },
      "source": [
        "# ! mv submission.csv quora.csv\n",
        "# ! curl -X PUT --upload-file quora.csv ali.140714.xyz:8000\n",
        "# ! head submission.csv\n"
      ],
      "execution_count": 0,
      "outputs": [
        {
          "output_type": "stream",
          "text": [
            "0.6320300698280334\n"
          ],
          "name": "stdout"
        },
        {
          "output_type": "execute_result",
          "data": {
            "text/plain": [
              "<matplotlib.axes._subplots.AxesSubplot at 0x7f277ef44198>"
            ]
          },
          "metadata": {
            "tags": []
          },
          "execution_count": 63
        },
        {
          "output_type": "display_data",
          "data": {
            "image/png": "[encoded data removed]",
            "text/plain": [
              "<Figure size 432x288 with 1 Axes>"
            ]
          },
          "metadata": {
            "tags": [],
            "needs_background": "light"
          }
        }
      ]
    }
  ]
}